{
 "cells": [
  {
   "cell_type": "code",
   "execution_count": 1,
   "id": "875b28bf-9de5-421a-aa8c-d8e351191c77",
   "metadata": {},
   "outputs": [],
   "source": [
    "import pandas as pd"
   ]
  },
  {
   "cell_type": "code",
   "execution_count": 2,
   "id": "caa5eb97-b920-4780-991f-17424b538b25",
   "metadata": {},
   "outputs": [],
   "source": [
    "# Load the datasets\n",
    "ais_train = pd.read_csv('ais_train.csv', sep='|')\n",
    "schedules = pd.read_csv('schedules_to_may_2024.csv', sep='|')\n",
    "\n",
    "# Ensure datetime format\n",
    "ais_train['time'] = pd.to_datetime(ais_train['time'], errors='coerce')\n",
    "schedules['arrivalDate'] = pd.to_datetime(schedules['arrivalDate'], errors='coerce')\n",
    "schedules['sailingDate'] = pd.to_datetime(schedules['sailingDate'], errors='coerce')"
   ]
  },
  {
   "cell_type": "code",
   "execution_count": 3,
   "id": "8c1f66b9-d796-42f5-8423-ea1207769a79",
   "metadata": {},
   "outputs": [
    {
     "name": "stderr",
     "output_type": "stream",
     "text": [
      "/tmp/ipykernel_2488/1036389009.py:2: DeprecationWarning: DataFrameGroupBy.apply operated on the grouping columns. This behavior is deprecated, and in a future version of pandas the grouping columns will be excluded from the operation. Either pass `include_groups=False` to exclude the groupings or explicitly select the grouping columns after groupby to silence this warning.\n",
      "  ais_grouped = ais_train.groupby('vesselId').apply(lambda x: x.sort_values('time')).reset_index(drop=True)\n"
     ]
    }
   ],
   "source": [
    "# Group ais_train by vesselId and sort by time\n",
    "ais_grouped = ais_train.groupby('vesselId').apply(lambda x: x.sort_values('time')).reset_index(drop=True)"
   ]
  },
  {
   "cell_type": "code",
   "execution_count": 4,
   "id": "5d49488e-c16e-43f8-b330-a03be65be06a",
   "metadata": {},
   "outputs": [],
   "source": [
    "# Initialize a DataFrame to hold results\n",
    "results = []\n",
    "\n",
    "for vessel_id in schedules['vesselId'].unique():\n",
    "    # Get the schedule for the current vessel\n",
    "    vessel_schedule = schedules[schedules['vesselId'] == vessel_id].reset_index(drop=True)\n",
    "    \n",
    "    # Get the corresponding ais_train entries for the current vessel\n",
    "    vessel_data = ais_grouped[ais_grouped['vesselId'] == vessel_id]\n",
    "    \n",
    "    current_schedule_index = 0\n",
    "    \n",
    "    # Iterate through the ais_train data for this vessel\n",
    "    for idx, row in vessel_data.iterrows():\n",
    "        # Check if there are any ports left in the schedule\n",
    "        if current_schedule_index < len(vessel_schedule):\n",
    "            expected_port_id = vessel_schedule.loc[current_schedule_index, 'portId']\n",
    "            \n",
    "            # Check if the current portId matches the expected portId\n",
    "            if row['portId'] == expected_port_id:\n",
    "                # Port matches, move to the next expected port\n",
    "                current_schedule_index += 1\n",
    "                results.append({\n",
    "                    'vesselId': vessel_id,\n",
    "                    'current_portId': row['portId'],\n",
    "                    'expected_portId': expected_port_id,\n",
    "                    'status': 'Reached',\n",
    "                    'row_number': row.name  # Capture the original index from ais_train\n",
    "                })\n",
    "            else:\n",
    "                # Port does not match\n",
    "                results.append({\n",
    "                    'vesselId': vessel_id,\n",
    "                    'current_portId': row['portId'],\n",
    "                    'expected_portId': expected_port_id,\n",
    "                    'status': 'Mismatch',\n",
    "                    'row_number': row.name  # Capture the original index from ais_train\n",
    "                })\n",
    "        else:\n",
    "            # No more ports left in the schedule\n",
    "            break"
   ]
  },
  {
   "cell_type": "code",
   "execution_count": 24,
   "id": "4bcce02d-0e33-47c0-9deb-a6b2c79fd138",
   "metadata": {
    "scrolled": true,
    "tags": []
   },
   "outputs": [
    {
     "name": "stdout",
     "output_type": "stream",
     "text": [
      "                        vesselId            shippingLineId            shippingLineName                arrivalDate                sailingDate             portName                    portId  portLatitude  portLongitude\n",
      "102764  61e9f3b1b937134a3c4bfe53  61a8e672f9cba188601e84ac  Wallenius Wilhelmsen Ocean  2023-01-03 00:00:00+00:00  2023-01-07 00:00:00+00:00  Port of Bremerhaven  61d375e793c6feb83e5eb3e2     53.563611       8.554722\n",
      "46721   61e9f3b1b937134a3c4bfe53  61a8e672f9cba188601e84ac  Wallenius Wilhelmsen Ocean  2023-01-03 00:00:00+00:00  2023-01-07 00:00:00+00:00  Port of Bremerhaven  61d375e793c6feb83e5eb3e2     53.563611       8.554722\n",
      "69098   61e9f3b1b937134a3c4bfe53  61a8e672f9cba188601e84ac  Wallenius Wilhelmsen Ocean  2023-06-25 00:00:00+00:00  2023-06-26 00:00:00+00:00  Port of Bremerhaven  61d375e793c6feb83e5eb3e2     53.563611       8.554722\n",
      "69102   61e9f3b1b937134a3c4bfe53  61a8e672f9cba188601e84ac  Wallenius Wilhelmsen Ocean  2023-06-25 00:00:00+00:00  2023-06-26 00:00:00+00:00  Port of Bremerhaven  61d375e793c6feb83e5eb3e2     53.563611       8.554722\n",
      "21657   61e9f3b1b937134a3c4bfe53  61a8e672f9cba188601e84ac  Wallenius Wilhelmsen Ocean  2023-10-17 00:00:00+00:00  2023-10-17 00:00:00+00:00  Port of Bremerhaven  61d375e793c6feb83e5eb3e2     53.563611       8.554722\n",
      "45826   61e9f3b1b937134a3c4bfe53  61a8e672f9cba188601e84ac  Wallenius Wilhelmsen Ocean  2023-10-19 00:00:00+00:00  2023-10-20 00:00:00+00:00  Port of Bremerhaven  61d375e793c6feb83e5eb3e2     53.563611       8.554722\n",
      "46431   61e9f3b1b937134a3c4bfe53  61a8e672f9cba188601e84ac  Wallenius Wilhelmsen Ocean  2023-10-19 00:00:00+00:00  2023-10-20 00:00:00+00:00  Port of Bremerhaven  61d375e793c6feb83e5eb3e2     53.563611       8.554722\n",
      "47382   61e9f3b1b937134a3c4bfe53  61a8e672f9cba188601e84ac  Wallenius Wilhelmsen Ocean  2023-10-19 00:00:00+00:00  2023-10-20 00:00:00+00:00  Port of Bremerhaven  61d375e793c6feb83e5eb3e2     53.563611       8.554722\n",
      "47570   61e9f3b1b937134a3c4bfe53  61a8e672f9cba188601e84ac  Wallenius Wilhelmsen Ocean  2023-10-19 00:00:00+00:00  2023-10-20 00:00:00+00:00  Port of Bremerhaven  61d375e793c6feb83e5eb3e2     53.563611       8.554722\n",
      "52399   61e9f3b1b937134a3c4bfe53  61a8e672f9cba188601e84ac  Wallenius Wilhelmsen Ocean  2023-10-19 00:00:00+00:00  2023-10-20 00:00:00+00:00  Port of Bremerhaven  61d375e793c6feb83e5eb3e2     53.563611       8.554722\n",
      "56337   61e9f3b1b937134a3c4bfe53  61a8e672f9cba188601e84ac  Wallenius Wilhelmsen Ocean  2023-10-19 00:00:00+00:00  2023-10-20 00:00:00+00:00  Port of Bremerhaven  61d375e793c6feb83e5eb3e2     53.563611       8.554722\n",
      "73005   61e9f3b1b937134a3c4bfe53  61a8e672f9cba188601e84ac  Wallenius Wilhelmsen Ocean  2023-10-19 00:00:00+00:00  2023-10-20 00:00:00+00:00  Port of Bremerhaven  61d375e793c6feb83e5eb3e2     53.563611       8.554722\n",
      "76639   61e9f3b1b937134a3c4bfe53  61a8e672f9cba188601e84ac  Wallenius Wilhelmsen Ocean  2023-10-19 00:00:00+00:00  2023-10-20 00:00:00+00:00  Port of Bremerhaven  61d375e793c6feb83e5eb3e2     53.563611       8.554722\n",
      "78801   61e9f3b1b937134a3c4bfe53  61a8e672f9cba188601e84ac  Wallenius Wilhelmsen Ocean  2023-10-19 00:00:00+00:00  2023-10-20 00:00:00+00:00  Port of Bremerhaven  61d375e793c6feb83e5eb3e2     53.563611       8.554722\n",
      "84861   61e9f3b1b937134a3c4bfe53  61a8e672f9cba188601e84ac  Wallenius Wilhelmsen Ocean  2023-10-19 00:00:00+00:00  2023-10-20 00:00:00+00:00  Port of Bremerhaven  61d375e793c6feb83e5eb3e2     53.563611       8.554722\n",
      "117578  61e9f3b1b937134a3c4bfe53  61a8e672f9cba188601e84ac  Wallenius Wilhelmsen Ocean  2023-10-19 00:00:00+00:00  2023-10-20 00:00:00+00:00  Port of Bremerhaven  61d375e793c6feb83e5eb3e2     53.563611       8.554722\n",
      "122834  61e9f3b1b937134a3c4bfe53  61a8e672f9cba188601e84ac  Wallenius Wilhelmsen Ocean  2023-10-19 00:00:00+00:00  2023-10-20 00:00:00+00:00  Port of Bremerhaven  61d375e793c6feb83e5eb3e2     53.563611       8.554722\n",
      "44006   61e9f3b1b937134a3c4bfe53  61a8e672f9cba188601e84ac  Wallenius Wilhelmsen Ocean  2023-10-19 00:00:00+00:00  2023-10-20 00:00:00+00:00  Port of Bremerhaven  61d375e793c6feb83e5eb3e2     53.563611       8.554722\n",
      "43164   61e9f3b1b937134a3c4bfe53  61a8e672f9cba188601e84ac  Wallenius Wilhelmsen Ocean  2023-10-19 00:00:00+00:00  2023-10-20 00:00:00+00:00  Port of Bremerhaven  61d375e793c6feb83e5eb3e2     53.563611       8.554722\n",
      "2       61e9f3b1b937134a3c4bfe53  61a8e672f9cba188601e84ac  Wallenius Wilhelmsen Ocean  2023-10-19 00:00:00+00:00  2023-10-20 00:00:00+00:00  Port of Bremerhaven  61d375e793c6feb83e5eb3e2     53.563611       8.554722\n",
      "31014   61e9f3b1b937134a3c4bfe53  61a8e672f9cba188601e84ac  Wallenius Wilhelmsen Ocean  2023-10-19 00:00:00+00:00  2023-10-20 00:00:00+00:00  Port of Bremerhaven  61d375e793c6feb83e5eb3e2     53.563611       8.554722\n",
      "29613   61e9f3b1b937134a3c4bfe53  61a8e672f9cba188601e84ac  Wallenius Wilhelmsen Ocean  2023-10-19 00:00:00+00:00  2023-10-20 00:00:00+00:00  Port of Bremerhaven  61d375e793c6feb83e5eb3e2     53.563611       8.554722\n",
      "4099    61e9f3b1b937134a3c4bfe53  61a8e672f9cba188601e84ac  Wallenius Wilhelmsen Ocean  2023-10-19 00:00:00+00:00  2023-10-20 00:00:00+00:00  Port of Bremerhaven  61d375e793c6feb83e5eb3e2     53.563611       8.554722\n",
      "18948   61e9f3b1b937134a3c4bfe53  61a8e672f9cba188601e84ac  Wallenius Wilhelmsen Ocean  2023-10-19 00:00:00+00:00  2023-10-20 00:00:00+00:00  Port of Bremerhaven  61d375e793c6feb83e5eb3e2     53.563611       8.554722\n",
      "22250   61e9f3b1b937134a3c4bfe53  61a8e672f9cba188601e84ac  Wallenius Wilhelmsen Ocean  2023-10-19 00:00:00+00:00  2023-10-20 00:00:00+00:00  Port of Bremerhaven  61d375e793c6feb83e5eb3e2     53.563611       8.554722\n",
      "61807   61e9f3b1b937134a3c4bfe53  61a8e672f9cba188601e84ac  Wallenius Wilhelmsen Ocean  2023-10-21 00:00:00+00:00  2023-10-22 00:00:00+00:00  Port of Bremerhaven  61d375e793c6feb83e5eb3e2     53.563611       8.554722\n",
      "95194   61e9f3b1b937134a3c4bfe53  61a8e672f9cba188601e84ac  Wallenius Wilhelmsen Ocean  2023-10-21 00:00:00+00:00  2023-10-22 00:00:00+00:00  Port of Bremerhaven  61d375e793c6feb83e5eb3e2     53.563611       8.554722\n",
      "98353   61e9f3b1b937134a3c4bfe53  61a8e672f9cba188601e84ac  Wallenius Wilhelmsen Ocean  2023-10-21 00:00:00+00:00  2023-10-22 00:00:00+00:00  Port of Bremerhaven  61d375e793c6feb83e5eb3e2     53.563611       8.554722\n",
      "101499  61e9f3b1b937134a3c4bfe53  61a8e672f9cba188601e84ac  Wallenius Wilhelmsen Ocean  2023-10-21 00:00:00+00:00  2023-10-22 00:00:00+00:00  Port of Bremerhaven  61d375e793c6feb83e5eb3e2     53.563611       8.554722\n",
      "15924   61e9f3b1b937134a3c4bfe53  61a8e672f9cba188601e84ac  Wallenius Wilhelmsen Ocean  2023-10-21 00:00:00+00:00  2023-10-22 00:00:00+00:00  Port of Bremerhaven  61d375e793c6feb83e5eb3e2     53.563611       8.554722\n",
      "106045  61e9f3b1b937134a3c4bfe53  61a8e672f9cba188601e84ac  Wallenius Wilhelmsen Ocean  2023-10-21 00:00:00+00:00  2023-10-22 00:00:00+00:00  Port of Bremerhaven  61d375e793c6feb83e5eb3e2     53.563611       8.554722\n",
      "62872   61e9f3b1b937134a3c4bfe53  61a8e672f9cba188601e84ac  Wallenius Wilhelmsen Ocean  2023-10-21 00:00:00+00:00  2023-10-22 00:00:00+00:00  Port of Bremerhaven  61d375e793c6feb83e5eb3e2     53.563611       8.554722\n",
      "57828   61e9f3b1b937134a3c4bfe53  61a8e672f9cba188601e84ac  Wallenius Wilhelmsen Ocean  2023-10-21 00:00:00+00:00  2023-10-22 00:00:00+00:00  Port of Bremerhaven  61d375e793c6feb83e5eb3e2     53.563611       8.554722\n",
      "88115   61e9f3b1b937134a3c4bfe53  61a8e672f9cba188601e84ac  Wallenius Wilhelmsen Ocean  2023-10-21 00:00:00+00:00  2023-10-22 00:00:00+00:00  Port of Bremerhaven  61d375e793c6feb83e5eb3e2     53.563611       8.554722\n",
      "134510  61e9f3b1b937134a3c4bfe53  61a8e672f9cba188601e84ac  Wallenius Wilhelmsen Ocean  2023-10-21 00:00:00+00:00  2023-10-22 00:00:00+00:00  Port of Bremerhaven  61d375e793c6feb83e5eb3e2     53.563611       8.554722\n",
      "131383  61e9f3b1b937134a3c4bfe53  61a8e672f9cba188601e84ac  Wallenius Wilhelmsen Ocean  2023-10-21 00:00:00+00:00  2023-10-22 00:00:00+00:00  Port of Bremerhaven  61d375e793c6feb83e5eb3e2     53.563611       8.554722\n",
      "25200   61e9f3b1b937134a3c4bfe53  61a8e672f9cba188601e84ac  Wallenius Wilhelmsen Ocean  2023-10-21 00:00:00+00:00  2023-10-22 00:00:00+00:00  Port of Bremerhaven  61d375e793c6feb83e5eb3e2     53.563611       8.554722\n",
      "64185   61e9f3b1b937134a3c4bfe53  61a8e672f9cba188601e84ac  Wallenius Wilhelmsen Ocean  2023-10-23 00:00:00+00:00  2023-10-24 00:00:00+00:00  Port of Bremerhaven  61d375e793c6feb83e5eb3e2     53.563611       8.554722\n",
      "72057   61e9f3b1b937134a3c4bfe53  61a8e672f9cba188601e84ac  Wallenius Wilhelmsen Ocean  2023-10-23 00:00:00+00:00  2023-10-24 00:00:00+00:00  Port of Bremerhaven  61d375e793c6feb83e5eb3e2     53.563611       8.554722\n",
      "47842   61e9f3b1b937134a3c4bfe53  61a8e672f9cba188601e84ac  Wallenius Wilhelmsen Ocean  2023-10-23 00:00:00+00:00  2023-10-24 00:00:00+00:00  Port of Bremerhaven  61d375e793c6feb83e5eb3e2     53.563611       8.554722\n",
      "120103  61e9f3b1b937134a3c4bfe53  61a8e672f9cba188601e84ac  Wallenius Wilhelmsen Ocean  2023-10-24 00:00:00+00:00  2023-10-25 00:00:00+00:00  Port of Bremerhaven  61d375e793c6feb83e5eb3e2     53.563611       8.554722\n",
      "92928   61e9f3b1b937134a3c4bfe53  61a8e672f9cba188601e84ac  Wallenius Wilhelmsen Ocean  2023-10-24 00:00:00+00:00  2023-10-25 00:00:00+00:00  Port of Bremerhaven  61d375e793c6feb83e5eb3e2     53.563611       8.554722\n",
      "100152  61e9f3b1b937134a3c4bfe53  61a8e672f9cba188601e84ac  Wallenius Wilhelmsen Ocean  2023-10-24 00:00:00+00:00  2023-10-25 00:00:00+00:00  Port of Bremerhaven  61d375e793c6feb83e5eb3e2     53.563611       8.554722\n",
      "128972  61e9f3b1b937134a3c4bfe53  61a8e672f9cba188601e84ac  Wallenius Wilhelmsen Ocean  2023-10-24 00:00:00+00:00  2023-10-25 00:00:00+00:00  Port of Bremerhaven  61d375e793c6feb83e5eb3e2     53.563611       8.554722\n",
      "128028  61e9f3b1b937134a3c4bfe53  61a8e672f9cba188601e84ac  Wallenius Wilhelmsen Ocean  2023-10-24 00:00:00+00:00  2023-10-25 00:00:00+00:00  Port of Bremerhaven  61d375e793c6feb83e5eb3e2     53.563611       8.554722\n",
      "103172  61e9f3b1b937134a3c4bfe53  61a8e672f9cba188601e84ac  Wallenius Wilhelmsen Ocean  2023-10-24 00:00:00+00:00  2023-10-25 00:00:00+00:00  Port of Bremerhaven  61d375e793c6feb83e5eb3e2     53.563611       8.554722\n",
      "103461  61e9f3b1b937134a3c4bfe53  61a8e672f9cba188601e84ac  Wallenius Wilhelmsen Ocean  2023-10-24 00:00:00+00:00  2023-10-25 00:00:00+00:00  Port of Bremerhaven  61d375e793c6feb83e5eb3e2     53.563611       8.554722\n",
      "104006  61e9f3b1b937134a3c4bfe53  61a8e672f9cba188601e84ac  Wallenius Wilhelmsen Ocean  2023-10-24 00:00:00+00:00  2023-10-25 00:00:00+00:00  Port of Bremerhaven  61d375e793c6feb83e5eb3e2     53.563611       8.554722\n",
      "105990  61e9f3b1b937134a3c4bfe53  61a8e672f9cba188601e84ac  Wallenius Wilhelmsen Ocean  2023-10-24 00:00:00+00:00  2023-10-25 00:00:00+00:00  Port of Bremerhaven  61d375e793c6feb83e5eb3e2     53.563611       8.554722\n",
      "126239  61e9f3b1b937134a3c4bfe53  61a8e672f9cba188601e84ac  Wallenius Wilhelmsen Ocean  2023-10-24 00:00:00+00:00  2023-10-25 00:00:00+00:00  Port of Bremerhaven  61d375e793c6feb83e5eb3e2     53.563611       8.554722\n",
      "123665  61e9f3b1b937134a3c4bfe53  61a8e672f9cba188601e84ac  Wallenius Wilhelmsen Ocean  2023-10-24 00:00:00+00:00  2023-10-25 00:00:00+00:00  Port of Bremerhaven  61d375e793c6feb83e5eb3e2     53.563611       8.554722\n",
      "92277   61e9f3b1b937134a3c4bfe53  61a8e672f9cba188601e84ac  Wallenius Wilhelmsen Ocean  2023-10-24 00:00:00+00:00  2023-10-25 00:00:00+00:00  Port of Bremerhaven  61d375e793c6feb83e5eb3e2     53.563611       8.554722\n",
      "1821    61e9f3b1b937134a3c4bfe53  61a8e672f9cba188601e84ac  Wallenius Wilhelmsen Ocean  2023-10-24 00:00:00+00:00  2023-10-25 00:00:00+00:00  Port of Bremerhaven  61d375e793c6feb83e5eb3e2     53.563611       8.554722\n",
      "3727    61e9f3b1b937134a3c4bfe53  61a8e672f9cba188601e84ac  Wallenius Wilhelmsen Ocean  2023-10-24 00:00:00+00:00  2023-10-25 00:00:00+00:00  Port of Bremerhaven  61d375e793c6feb83e5eb3e2     53.563611       8.554722\n",
      "118546  61e9f3b1b937134a3c4bfe53  61a8e672f9cba188601e84ac  Wallenius Wilhelmsen Ocean  2023-10-24 00:00:00+00:00  2023-10-25 00:00:00+00:00  Port of Bremerhaven  61d375e793c6feb83e5eb3e2     53.563611       8.554722\n",
      "122063  61e9f3b1b937134a3c4bfe53  61a8e672f9cba188601e84ac  Wallenius Wilhelmsen Ocean  2023-10-24 00:00:00+00:00  2023-10-25 00:00:00+00:00  Port of Bremerhaven  61d375e793c6feb83e5eb3e2     53.563611       8.554722\n",
      "76767   61e9f3b1b937134a3c4bfe53  61a8e672f9cba188601e84ac  Wallenius Wilhelmsen Ocean  2023-10-24 00:00:00+00:00  2023-10-25 00:00:00+00:00  Port of Bremerhaven  61d375e793c6feb83e5eb3e2     53.563611       8.554722\n",
      "135998  61e9f3b1b937134a3c4bfe53  61a8e672f9cba188601e84ac  Wallenius Wilhelmsen Ocean  2023-10-24 00:00:00+00:00  2023-10-25 00:00:00+00:00  Port of Bremerhaven  61d375e793c6feb83e5eb3e2     53.563611       8.554722\n",
      "66075   61e9f3b1b937134a3c4bfe53  61a8e672f9cba188601e84ac  Wallenius Wilhelmsen Ocean  2023-10-24 00:00:00+00:00  2023-10-25 00:00:00+00:00  Port of Bremerhaven  61d375e793c6feb83e5eb3e2     53.563611       8.554722\n",
      "50747   61e9f3b1b937134a3c4bfe53  61a8e672f9cba188601e84ac  Wallenius Wilhelmsen Ocean  2023-10-24 00:00:00+00:00  2023-10-25 00:00:00+00:00  Port of Bremerhaven  61d375e793c6feb83e5eb3e2     53.563611       8.554722\n",
      "22357   61e9f3b1b937134a3c4bfe53  61a8e672f9cba188601e84ac  Wallenius Wilhelmsen Ocean  2023-10-24 00:00:00+00:00  2023-10-25 00:00:00+00:00  Port of Bremerhaven  61d375e793c6feb83e5eb3e2     53.563611       8.554722\n",
      "21475   61e9f3b1b937134a3c4bfe53  61a8e672f9cba188601e84ac  Wallenius Wilhelmsen Ocean  2023-10-24 00:00:00+00:00  2023-10-25 00:00:00+00:00  Port of Bremerhaven  61d375e793c6feb83e5eb3e2     53.563611       8.554722\n",
      "56432   61e9f3b1b937134a3c4bfe53  61a8e672f9cba188601e84ac  Wallenius Wilhelmsen Ocean  2023-10-24 00:00:00+00:00  2023-10-25 00:00:00+00:00  Port of Bremerhaven  61d375e793c6feb83e5eb3e2     53.563611       8.554722\n",
      "64114   61e9f3b1b937134a3c4bfe53  61a8e672f9cba188601e84ac  Wallenius Wilhelmsen Ocean  2023-10-24 00:00:00+00:00  2023-10-25 00:00:00+00:00  Port of Bremerhaven  61d375e793c6feb83e5eb3e2     53.563611       8.554722\n",
      "85873   61e9f3b1b937134a3c4bfe53  61a8e672f9cba188601e84ac  Wallenius Wilhelmsen Ocean  2023-10-24 00:00:00+00:00  2023-10-25 00:00:00+00:00  Port of Bremerhaven  61d375e793c6feb83e5eb3e2     53.563611       8.554722\n",
      "135254  61e9f3b1b937134a3c4bfe53  61a8e672f9cba188601e84ac  Wallenius Wilhelmsen Ocean  2023-10-24 00:00:00+00:00  2023-10-25 00:00:00+00:00  Port of Bremerhaven  61d375e793c6feb83e5eb3e2     53.563611       8.554722\n",
      "70222   61e9f3b1b937134a3c4bfe53  61a8e672f9cba188601e84ac  Wallenius Wilhelmsen Ocean  2023-10-24 00:00:00+00:00  2023-10-25 00:00:00+00:00  Port of Bremerhaven  61d375e793c6feb83e5eb3e2     53.563611       8.554722\n",
      "50395   61e9f3b1b937134a3c4bfe53  61a8e672f9cba188601e84ac  Wallenius Wilhelmsen Ocean  2023-10-24 00:00:00+00:00  2023-10-25 00:00:00+00:00  Port of Bremerhaven  61d375e793c6feb83e5eb3e2     53.563611       8.554722\n",
      "71093   61e9f3b1b937134a3c4bfe53  61a8e672f9cba188601e84ac  Wallenius Wilhelmsen Ocean  2023-10-24 00:00:00+00:00  2023-10-25 00:00:00+00:00  Port of Bremerhaven  61d375e793c6feb83e5eb3e2     53.563611       8.554722\n",
      "26108   61e9f3b1b937134a3c4bfe53  61a8e672f9cba188601e84ac  Wallenius Wilhelmsen Ocean  2023-10-24 00:00:00+00:00  2023-10-25 00:00:00+00:00  Port of Bremerhaven  61d375e793c6feb83e5eb3e2     53.563611       8.554722\n",
      "76293   61e9f3b1b937134a3c4bfe53  61a8e672f9cba188601e84ac  Wallenius Wilhelmsen Ocean  2023-10-24 00:00:00+00:00  2023-10-25 00:00:00+00:00  Port of Bremerhaven  61d375e793c6feb83e5eb3e2     53.563611       8.554722\n",
      "15609   61e9f3b1b937134a3c4bfe53  61a8e672f9cba188601e84ac  Wallenius Wilhelmsen Ocean  2023-10-24 00:00:00+00:00  2023-10-25 00:00:00+00:00  Port of Bremerhaven  61d375e793c6feb83e5eb3e2     53.563611       8.554722\n",
      "43141   61e9f3b1b937134a3c4bfe53  61a8e672f9cba188601e84ac  Wallenius Wilhelmsen Ocean  2023-10-24 00:00:00+00:00  2023-10-25 00:00:00+00:00  Port of Bremerhaven  61d375e793c6feb83e5eb3e2     53.563611       8.554722\n",
      "28010   61e9f3b1b937134a3c4bfe53  61a8e672f9cba188601e84ac  Wallenius Wilhelmsen Ocean  2023-10-24 00:00:00+00:00  2023-10-25 00:00:00+00:00  Port of Bremerhaven  61d375e793c6feb83e5eb3e2     53.563611       8.554722\n",
      "11419   61e9f3b1b937134a3c4bfe53  61a8e672f9cba188601e84ac  Wallenius Wilhelmsen Ocean  2023-10-24 00:00:00+00:00  2023-10-25 00:00:00+00:00  Port of Bremerhaven  61d375e793c6feb83e5eb3e2     53.563611       8.554722\n",
      "7909    61e9f3b1b937134a3c4bfe53  61a8e672f9cba188601e84ac  Wallenius Wilhelmsen Ocean  2023-10-24 00:00:00+00:00  2023-10-25 00:00:00+00:00  Port of Bremerhaven  61d375e793c6feb83e5eb3e2     53.563611       8.554722\n",
      "85536   61e9f3b1b937134a3c4bfe53  61a8e672f9cba188601e84ac  Wallenius Wilhelmsen Ocean  2023-10-24 00:00:00+00:00  2023-10-25 00:00:00+00:00  Port of Bremerhaven  61d375e793c6feb83e5eb3e2     53.563611       8.554722\n",
      "46342   61e9f3b1b937134a3c4bfe53  61a8e672f9cba188601e84ac  Wallenius Wilhelmsen Ocean  2023-10-24 00:00:00+00:00  2023-10-25 00:00:00+00:00  Port of Bremerhaven  61d375e793c6feb83e5eb3e2     53.563611       8.554722\n",
      "72011   61e9f3b1b937134a3c4bfe53  61a8e672f9cba188601e84ac  Wallenius Wilhelmsen Ocean  2023-10-24 00:00:00+00:00  2023-10-25 00:00:00+00:00  Port of Bremerhaven  61d375e793c6feb83e5eb3e2     53.563611       8.554722\n",
      "50190   61e9f3b1b937134a3c4bfe53  61a8e672f9cba188601e84ac  Wallenius Wilhelmsen Ocean  2023-10-24 00:00:00+00:00  2023-10-25 00:00:00+00:00  Port of Bremerhaven  61d375e793c6feb83e5eb3e2     53.563611       8.554722\n",
      "48406   61e9f3b1b937134a3c4bfe53  61a8e672f9cba188601e84ac  Wallenius Wilhelmsen Ocean  2024-04-01 00:00:00+00:00  2024-04-02 00:00:00+00:00  Port of Bremerhaven  61d375e793c6feb83e5eb3e2     53.563611       8.554722\n",
      "36100   61e9f3b1b937134a3c4bfe53  61a8e672f9cba188601e84ac  Wallenius Wilhelmsen Ocean  2024-04-01 00:00:00+00:00  2024-04-02 00:00:00+00:00  Port of Bremerhaven  61d375e793c6feb83e5eb3e2     53.563611       8.554722\n",
      "53542   61e9f3b1b937134a3c4bfe53  61a8e672f9cba188601e84ac  Wallenius Wilhelmsen Ocean  2024-04-01 00:00:00+00:00  2024-04-02 00:00:00+00:00  Port of Bremerhaven  61d375e793c6feb83e5eb3e2     53.563611       8.554722\n",
      "73887   61e9f3b1b937134a3c4bfe53  61a8e672f9cba188601e84ac  Wallenius Wilhelmsen Ocean  2024-04-01 00:00:00+00:00  2024-04-02 00:00:00+00:00  Port of Bremerhaven  61d375e793c6feb83e5eb3e2     53.563611       8.554722\n",
      "87453   61e9f3b1b937134a3c4bfe53  61a8e672f9cba188601e84ac  Wallenius Wilhelmsen Ocean  2024-04-01 00:00:00+00:00  2024-04-02 00:00:00+00:00  Port of Bremerhaven  61d375e793c6feb83e5eb3e2     53.563611       8.554722\n",
      "121107  61e9f3b1b937134a3c4bfe53  61a8e672f9cba188601e84ac  Wallenius Wilhelmsen Ocean  2024-04-01 00:00:00+00:00  2024-04-02 00:00:00+00:00  Port of Bremerhaven  61d375e793c6feb83e5eb3e2     53.563611       8.554722\n",
      "86441   61e9f3b1b937134a3c4bfe53  61a8e672f9cba188601e84ac  Wallenius Wilhelmsen Ocean  2024-07-21 00:00:00+00:00  2024-07-24 00:00:00+00:00  Port of Bremerhaven  61d375e793c6feb83e5eb3e2     53.563611       8.554722\n",
      "94595   61e9f3b1b937134a3c4bfe53  61a8e672f9cba188601e84ac  Wallenius Wilhelmsen Ocean  2024-07-22 00:00:00+00:00  2024-07-24 00:00:00+00:00  Port of Bremerhaven  61d375e793c6feb83e5eb3e2     53.563611       8.554722\n"
     ]
    }
   ],
   "source": [
    "# Filter rows based on 'portId' and 'vesselId' conditions\n",
    "filtered_df = schedules[(schedules['portId'] == '61d375e793c6feb83e5eb3e2') & (schedules['vesselId'] == '61e9f3b1b937134a3c4bfe53')].sort_values(by='arrivalDate', ascending=True)\n",
    "\n",
    "pd.set_option('display.max_rows', None)\n",
    "\n",
    "# Display the filtered rows\n",
    "print(filtered_df)"
   ]
  },
  {
   "cell_type": "code",
   "execution_count": 5,
   "id": "4873fd81-c9d6-4a6a-ae49-0a3983b30eb9",
   "metadata": {
    "tags": []
   },
   "outputs": [
    {
     "name": "stdout",
     "output_type": "stream",
     "text": [
      "                        vesselId            current_portId           expected_portId    status  row_number\n",
      "0       61e9f3b1b937134a3c4bfe53  61d36f640a1807568ff9a103  61d38499b7b7526e1adf3d54  Mismatch      163498\n",
      "1       61e9f3b1b937134a3c4bfe53  61d36f640a1807568ff9a103  61d38499b7b7526e1adf3d54  Mismatch      163499\n",
      "2       61e9f3b1b937134a3c4bfe53  61d36f640a1807568ff9a103  61d38499b7b7526e1adf3d54  Mismatch      163500\n",
      "3       61e9f3b1b937134a3c4bfe53  61d36f640a1807568ff9a103  61d38499b7b7526e1adf3d54  Mismatch      163501\n",
      "4       61e9f3b1b937134a3c4bfe53  61d36f640a1807568ff9a103  61d38499b7b7526e1adf3d54  Mismatch      163502\n",
      "...                          ...                       ...                       ...       ...         ...\n",
      "488270  61e9f43ab937134a3c4c0151  634c4de270937fc01c3a7015  61d37a581366c3998241d985  Mismatch      868161\n",
      "488271  61e9f43ab937134a3c4c0151  634c4de270937fc01c3a7015  61d37a581366c3998241d985  Mismatch      868162\n",
      "488272  61e9f43ab937134a3c4c0151  634c4de270937fc01c3a7015  61d37a581366c3998241d985  Mismatch      868163\n",
      "488273  61e9f43ab937134a3c4c0151  634c4de270937fc01c3a7015  61d37a581366c3998241d985  Mismatch      868164\n",
      "488274  61e9f43ab937134a3c4c0151  634c4de270937fc01c3a7015  61d37a581366c3998241d985  Mismatch      868165\n",
      "\n",
      "[488275 rows x 5 columns]\n"
     ]
    }
   ],
   "source": [
    "# Convert results to a DataFrame\n",
    "results_df = pd.DataFrame(results)\n",
    "\n",
    "pd.set_option('display.width', 20000) \n",
    "\n",
    "# Print results\n",
    "print(results_df)"
   ]
  },
  {
   "cell_type": "code",
   "execution_count": 6,
   "id": "b2bbeb4e-32fa-48ba-a7ab-5d8a5d5358b3",
   "metadata": {
    "scrolled": true,
    "tags": []
   },
   "outputs": [
    {
     "name": "stdout",
     "output_type": "stream",
     "text": [
      "                        vesselId            shippingLineId            shippingLineName               arrivalDate                sailingDate             portName                    portId  portLatitude  portLongitude\n",
      "131391  61e9f3b1b937134a3c4bfe53  61a8e672f9cba188601e84ac  Wallenius Wilhelmsen Ocean 2024-01-01 00:00:00+00:00  2024-01-05 00:00:00+00:00  Port of Port Kembla  61d36f770a1807568ff9a126    -34.462500     150.899444\n",
      "47836   61e9f3b1b937134a3c4bfe53  61a8e672f9cba188601e84ac  Wallenius Wilhelmsen Ocean 2024-01-01 00:00:00+00:00  2024-01-05 00:00:00+00:00  Port of Port Kembla  61d36f770a1807568ff9a126    -34.462500     150.899444\n",
      "135245  61e9f3b1b937134a3c4bfe53  61a8e672f9cba188601e84ac  Wallenius Wilhelmsen Ocean 2024-01-01 00:00:00+00:00  2024-01-03 00:00:00+00:00  Port of Port Kembla  61d36f770a1807568ff9a126    -34.462500     150.899444\n",
      "44004   61e9f3b1b937134a3c4bfe53  61a8e672f9cba188601e84ac  Wallenius Wilhelmsen Ocean 2024-01-02 00:00:00+00:00  2024-01-15 00:00:00+00:00    Port of Melbourne  61d36f5f0a1807568ff9a0fa    -37.832778     144.917500\n",
      "76640   61e9f3b1b937134a3c4bfe53  61a8e672f9cba188601e84ac  Wallenius Wilhelmsen Ocean 2024-01-02 00:00:00+00:00  2024-01-15 00:00:00+00:00    Port of Melbourne  61d36f5f0a1807568ff9a0fa    -37.832778     144.917500\n",
      "...                          ...                       ...                         ...                       ...                        ...                  ...                       ...           ...            ...\n",
      "36759   61e9f3b1b937134a3c4bfe53  61a8e672f9cba188601e84ac  Wallenius Wilhelmsen Ocean 2024-05-04 00:00:00+00:00  2024-05-06 00:00:00+00:00    Port of Brunswick  61d38499b7b7526e1adf3d54     31.140556     -81.496667\n",
      "49839   61e9f3b1b937134a3c4bfe53  61a8e672f9cba188601e84ac  Wallenius Wilhelmsen Ocean 2024-05-06 00:00:00+00:00  2024-05-09 00:00:00+00:00  Port of Port Kembla  61d36f770a1807568ff9a126    -34.462500     150.899444\n",
      "97557   61e9f3b1b937134a3c4bfe53  61a8e672f9cba188601e84ac  Wallenius Wilhelmsen Ocean 2024-05-06 00:00:00+00:00  2024-05-06 00:00:00+00:00    Port of Brunswick  61d38499b7b7526e1adf3d54     31.140556     -81.496667\n",
      "75504   61e9f3b1b937134a3c4bfe53  61a8e672f9cba188601e84ac  Wallenius Wilhelmsen Ocean 2024-05-06 00:00:00+00:00  2024-05-09 00:00:00+00:00  Port of Port Kembla  61d36f770a1807568ff9a126    -34.462500     150.899444\n",
      "45106   61e9f3b1b937134a3c4bfe53  61a8e672f9cba188601e84ac  Wallenius Wilhelmsen Ocean 2024-05-06 00:00:00+00:00  2024-05-09 00:00:00+00:00  Port of Port Kembla  61d36f770a1807568ff9a126    -34.462500     150.899444\n",
      "\n",
      "[328 rows x 9 columns]\n"
     ]
    },
    {
     "name": "stderr",
     "output_type": "stream",
     "text": [
      "/tmp/ipykernel_2488/2838089976.py:8: SettingWithCopyWarning: \n",
      "A value is trying to be set on a copy of a slice from a DataFrame.\n",
      "Try using .loc[row_indexer,col_indexer] = value instead\n",
      "\n",
      "See the caveats in the documentation: https://pandas.pydata.org/pandas-docs/stable/user_guide/indexing.html#returning-a-view-versus-a-copy\n",
      "  filtered_rows['arrivalDate'] = pd.to_datetime(filtered_rows['arrivalDate'], utc=True)\n"
     ]
    }
   ],
   "source": [
    "# Load the schedules dataset\n",
    "schedules = pd.read_csv('schedules_to_may_2024.csv', sep='|')\n",
    "\n",
    "# Filter rows where vesselId is 61e9f3a8b937134a3c4bfdf7\n",
    "filtered_rows = schedules[schedules['vesselId'] == '61e9f3b1b937134a3c4bfe53']\n",
    "\n",
    "# Ensure 'arrivalDate' is in datetime format\n",
    "filtered_rows['arrivalDate'] = pd.to_datetime(filtered_rows['arrivalDate'], utc=True)\n",
    "\n",
    "# Sort the filtered rows by 'arrivalDate'\n",
    "sorted_rows = filtered_rows.sort_values(by='arrivalDate')\n",
    "\n",
    "# Define the date range for filtering in UTC\n",
    "start_date = pd.to_datetime('2024-01-01', utc=True)\n",
    "end_date = pd.to_datetime('2024-05-07', utc=True)\n",
    "\n",
    "# Filter out rows outside the date range\n",
    "filtered_sorted_rows = sorted_rows[(sorted_rows['arrivalDate'] >= start_date) & (sorted_rows['arrivalDate'] <= end_date)]\n",
    "\n",
    "# Print the filtered and sorted rows\n",
    "print(filtered_sorted_rows)"
   ]
  },
  {
   "cell_type": "code",
   "execution_count": 7,
   "id": "b61afc4f-ee91-4c2d-b8ba-bfe67788ff3d",
   "metadata": {
    "scrolled": true,
    "tags": []
   },
   "outputs": [
    {
     "name": "stdout",
     "output_type": "stream",
     "text": [
      "                        vesselId            shippingLineId            shippingLineName               arrivalDate                sailingDate                           portName                    portId  portLatitude  portLongitude\n",
      "131391  61e9f3b1b937134a3c4bfe53  61a8e672f9cba188601e84ac  Wallenius Wilhelmsen Ocean 2024-01-01 00:00:00+00:00  2024-01-05 00:00:00+00:00                Port of Port Kembla  61d36f770a1807568ff9a126    -34.462500     150.899444\n",
      "135245  61e9f3b1b937134a3c4bfe53  61a8e672f9cba188601e84ac  Wallenius Wilhelmsen Ocean 2024-01-01 00:00:00+00:00  2024-01-03 00:00:00+00:00                Port of Port Kembla  61d36f770a1807568ff9a126    -34.462500     150.899444\n",
      "44004   61e9f3b1b937134a3c4bfe53  61a8e672f9cba188601e84ac  Wallenius Wilhelmsen Ocean 2024-01-02 00:00:00+00:00  2024-01-15 00:00:00+00:00                  Port of Melbourne  61d36f5f0a1807568ff9a0fa    -37.832778     144.917500\n",
      "50392   61e9f3b1b937134a3c4bfe53  61a8e672f9cba188601e84ac  Wallenius Wilhelmsen Ocean 2024-01-03 00:00:00+00:00  2024-01-07 00:00:00+00:00                Port of Port Kembla  61d36f770a1807568ff9a126    -34.462500     150.899444\n",
      "123672  61e9f3b1b937134a3c4bfe53  61a8e672f9cba188601e84ac  Wallenius Wilhelmsen Ocean 2024-01-03 00:00:00+00:00  2024-01-05 00:00:00+00:00                Port of Port Kembla  61d36f770a1807568ff9a126    -34.462500     150.899444\n",
      "...                          ...                       ...                         ...                       ...                        ...                                ...                       ...           ...            ...\n",
      "87454   61e9f3b1b937134a3c4bfe53  61a8e672f9cba188601e84ac  Wallenius Wilhelmsen Ocean 2024-05-03 00:00:00+00:00  2024-05-04 00:00:00+00:00                     Port of Durban  61d37ef929b60f6113c89d1b    -29.881111      31.027222\n",
      "3106    61e9f3b1b937134a3c4bfe53  61a8e672f9cba188601e84ac  Wallenius Wilhelmsen Ocean 2024-05-03 00:00:00+00:00  2024-05-04 00:00:00+00:00  Manzanillo International Terminal  61d37d0199db2ccf7339eee1      9.372370     -79.879790\n",
      "36759   61e9f3b1b937134a3c4bfe53  61a8e672f9cba188601e84ac  Wallenius Wilhelmsen Ocean 2024-05-04 00:00:00+00:00  2024-05-06 00:00:00+00:00                  Port of Brunswick  61d38499b7b7526e1adf3d54     31.140556     -81.496667\n",
      "49839   61e9f3b1b937134a3c4bfe53  61a8e672f9cba188601e84ac  Wallenius Wilhelmsen Ocean 2024-05-06 00:00:00+00:00  2024-05-09 00:00:00+00:00                Port of Port Kembla  61d36f770a1807568ff9a126    -34.462500     150.899444\n",
      "97557   61e9f3b1b937134a3c4bfe53  61a8e672f9cba188601e84ac  Wallenius Wilhelmsen Ocean 2024-05-06 00:00:00+00:00  2024-05-06 00:00:00+00:00                  Port of Brunswick  61d38499b7b7526e1adf3d54     31.140556     -81.496667\n",
      "\n",
      "[102 rows x 9 columns]\n"
     ]
    }
   ],
   "source": [
    "print(filtered_sorted_rows.drop_duplicates())"
   ]
  },
  {
   "cell_type": "code",
   "execution_count": 8,
   "id": "c13d164b-6111-43d4-a164-69e1d171d60a",
   "metadata": {
    "tags": []
   },
   "outputs": [
    {
     "name": "stdout",
     "output_type": "stream",
     "text": [
      "                        vesselId            shippingLineId            shippingLineName               arrivalDate                sailingDate                           portName                    portId  portLatitude  portLongitude\n",
      "131391  61e9f3b1b937134a3c4bfe53  61a8e672f9cba188601e84ac  Wallenius Wilhelmsen Ocean 2024-01-01 00:00:00+00:00  2024-01-05 00:00:00+00:00                Port of Port Kembla  61d36f770a1807568ff9a126    -34.462500     150.899444\n",
      "44004   61e9f3b1b937134a3c4bfe53  61a8e672f9cba188601e84ac  Wallenius Wilhelmsen Ocean 2024-01-02 00:00:00+00:00  2024-01-15 00:00:00+00:00                  Port of Melbourne  61d36f5f0a1807568ff9a0fa    -37.832778     144.917500\n",
      "103179  61e9f3b1b937134a3c4bfe53  61a8e672f9cba188601e84ac  Wallenius Wilhelmsen Ocean 2024-01-10 00:00:00+00:00  2024-01-15 00:00:00+00:00                     Fremantle Port  61d36f5d0a1807568ff9a0f7    -32.047500     115.740833\n",
      "103948  61e9f3b1b937134a3c4bfe53  61a8e672f9cba188601e84ac  Wallenius Wilhelmsen Ocean 2024-02-04 00:00:00+00:00  2024-02-04 00:00:00+00:00                           Shanghai  634c4de270937fc01c3a7132     31.233000     121.483000\n",
      "122086  61e9f3b1b937134a3c4bfe53  61a8e672f9cba188601e84ac  Wallenius Wilhelmsen Ocean 2024-02-09 00:00:00+00:00  2024-02-09 00:00:00+00:00                       Port of Kobe  61d37a101366c3998241d905     34.684167     135.240833\n",
      "122088  61e9f3b1b937134a3c4bfe53  61a8e672f9cba188601e84ac  Wallenius Wilhelmsen Ocean 2024-02-10 00:00:00+00:00  2024-02-10 00:00:00+00:00                     Port of Nagoya  61d37a1d1366c3998241d91e     35.045000     136.848056\n",
      "122085  61e9f3b1b937134a3c4bfe53  61a8e672f9cba188601e84ac  Wallenius Wilhelmsen Ocean 2024-02-11 00:00:00+00:00  2024-02-11 00:00:00+00:00                   Port of Yokohama  61d379f61366c3998241d8d2     35.436389     139.667778\n",
      "91779   61e9f3b1b937134a3c4bfe53  61a8e672f9cba188601e84ac  Wallenius Wilhelmsen Ocean 2024-03-10 00:00:00+00:00  2024-03-11 00:00:00+00:00  Manzanillo International Terminal  61d37d0199db2ccf7339eee1      9.372370     -79.879790\n",
      "94801   61e9f3b1b937134a3c4bfe53  61a8e672f9cba188601e84ac  Wallenius Wilhelmsen Ocean 2024-03-15 00:00:00+00:00  2024-03-15 00:00:00+00:00                  Port of Brunswick  61d38499b7b7526e1adf3d54     31.140556     -81.496667\n",
      "90425   61e9f3b1b937134a3c4bfe53  61a8e672f9cba188601e84ac  Wallenius Wilhelmsen Ocean 2024-03-15 00:00:00+00:00  2024-03-15 00:00:00+00:00                   Port of Savannah  61d38483b7b7526e1adf3d27     32.110833     -81.125833\n",
      "53541   61e9f3b1b937134a3c4bfe53  61a8e672f9cba188601e84ac  Wallenius Wilhelmsen Ocean 2024-03-18 00:00:00+00:00  2024-03-18 00:00:00+00:00                    Port of Norfolk  61d38482b7b7526e1adf3d25     36.901944     -76.297778\n",
      "94799   61e9f3b1b937134a3c4bfe53  61a8e672f9cba188601e84ac  Wallenius Wilhelmsen Ocean 2024-03-19 00:00:00+00:00  2024-03-19 00:00:00+00:00                  Port of Baltimore  61d3847bb7b7526e1adf3d19     39.232500     -76.558889\n",
      "121107  61e9f3b1b937134a3c4bfe53  61a8e672f9cba188601e84ac  Wallenius Wilhelmsen Ocean 2024-04-01 00:00:00+00:00  2024-04-02 00:00:00+00:00                Port of Bremerhaven  61d375e793c6feb83e5eb3e2     53.563611       8.554722\n",
      "48399   61e9f3b1b937134a3c4bfe53  61a8e672f9cba188601e84ac  Wallenius Wilhelmsen Ocean 2024-04-04 00:00:00+00:00  2024-04-06 00:00:00+00:00           Port of Bruges-Zeebrugge  61d36f9a0a1807568ff9a156     51.336389       3.207222\n",
      "48405   61e9f3b1b937134a3c4bfe53  61a8e672f9cba188601e84ac  Wallenius Wilhelmsen Ocean 2024-04-08 00:00:00+00:00  2024-04-08 00:00:00+00:00                   Port of Le Havre  61d374543aeaecc07011a722     49.466944       0.177778\n",
      "53537   61e9f3b1b937134a3c4bfe53  61a8e672f9cba188601e84ac  Wallenius Wilhelmsen Ocean 2024-04-09 00:00:00+00:00  2024-04-09 00:00:00+00:00                Port of Southampton  61d3832bb7b7526e1adf3b63     50.902500      -1.428889\n",
      "121106  61e9f3b1b937134a3c4bfe53  61a8e672f9cba188601e84ac  Wallenius Wilhelmsen Ocean 2024-04-11 00:00:00+00:00  2024-04-12 00:00:00+00:00                  Port of Santander  61d37fb929b60f6113c89ea0     43.442222      -3.807778\n",
      "45105   61e9f3b1b937134a3c4bfe53  61a8e672f9cba188601e84ac  Wallenius Wilhelmsen Ocean 2024-04-29 00:00:00+00:00  2024-05-03 00:00:00+00:00                   Port of Brisbane  61d36f640a1807568ff9a103    -27.382500     153.169444\n",
      "121105  61e9f3b1b937134a3c4bfe53  61a8e672f9cba188601e84ac  Wallenius Wilhelmsen Ocean 2024-04-30 00:00:00+00:00  2024-04-30 00:00:00+00:00                Port of East London  61d37efa29b60f6113c89d1c    -33.025278      27.907500\n",
      "121099  61e9f3b1b937134a3c4bfe53  61a8e672f9cba188601e84ac  Wallenius Wilhelmsen Ocean 2024-05-01 00:00:00+00:00  2024-05-01 00:00:00+00:00                     Port of Durban  61d37ef929b60f6113c89d1b    -29.881111      31.027222\n"
     ]
    }
   ],
   "source": [
    "unique_port_df2 = filtered_sorted_rows.drop_duplicates(subset='portId')\n",
    "\n",
    "# Display the DataFrame with unique 'portId' values\n",
    "print(unique_port_df2)"
   ]
  },
  {
   "cell_type": "code",
   "execution_count": 9,
   "id": "56463905-5530-4711-bb96-3381bcdf7dfa",
   "metadata": {
    "tags": []
   },
   "outputs": [
    {
     "name": "stdout",
     "output_type": "stream",
     "text": [
      "                     vesselId\n",
      "0    61e9f3b1b937134a3c4bfe53\n",
      "1    61e9f3acb937134a3c4bfe25\n",
      "2    61e9f3fdb937134a3c4bffe1\n",
      "3    61e9f3a2b937134a3c4bfdd7\n",
      "4    61e9f3a8b937134a3c4bfdfb\n",
      "..                        ...\n",
      "247  61e9f3fdb937134a3c4bffdf\n",
      "248  61e9f401b937134a3c4c0001\n",
      "249  61e9f424b937134a3c4c00cd\n",
      "250  61e9f435b937134a3c4c0129\n",
      "251  61e9f43ab937134a3c4c0151\n",
      "\n",
      "[252 rows x 1 columns]\n"
     ]
    }
   ],
   "source": [
    "# Get distinct vesselId's from the schedules dataset\n",
    "distinct_vessel_ids = schedules['vesselId'].unique()\n",
    "\n",
    "# Convert to a DataFrame for better visualization\n",
    "distinct_vessel_ids_df = pd.DataFrame(distinct_vessel_ids, columns=['vesselId'])\n",
    "\n",
    "# Display the distinct vessel IDs\n",
    "print(distinct_vessel_ids_df)"
   ]
  },
  {
   "cell_type": "code",
   "execution_count": 10,
   "id": "1357bba1-33ee-4c4b-9a32-e08d568ce9a1",
   "metadata": {
    "tags": []
   },
   "outputs": [
    {
     "name": "stdout",
     "output_type": "stream",
     "text": [
      "Missing vesselId's in ais_test:\n",
      "185\n",
      "{'6207e03d66fc0a8e43c61223', '61e9f3a7b937134a3c4bfdeb', '61e9f3feb937134a3c4bffe7', '61e9f44fb937134a3c4c01d7', '61e9f3a3b937134a3c4bfddb', '61e9f3f4b937134a3c4bffb1', '61e9f3b7b937134a3c4bfe83', '61e9f41cb937134a3c4c0089', '61e9f396b937134a3c4bfda9', '61e9f430b937134a3c4c010d', '61e9f3a8b937134a3c4bfdf5', '61e9f3f9b937134a3c4bffcd', '61e9f3b6b937134a3c4bfe7d', '61e9f3f1b937134a3c4bff91', '61e9f3f4b937134a3c4bffaf', '61e9f3ffb937134a3c4bfff1', '61e9f417b937134a3c4c0071', '61e9f400b937134a3c4bfff5', '61e9f456b937134a3c4c01ff', '61e9f439b937134a3c4c014f', '61e9f42eb937134a3c4c0105', '61e9f3f2b937134a3c4bff9f', '61e9f41eb937134a3c4c00a1', '61e9f39bb937134a3c4bfdbd', '61e9f47bb937134a3c4c02fd', '61e9f431b937134a3c4c0113', '61e9f3abb937134a3c4bfe1f', '61e9f3a5b937134a3c4bfde1', '61e9f44ab937134a3c4c01bb', '61e9f3adb937134a3c4bfe31', '61e9f439b937134a3c4c014d', '61e9f3f5b937134a3c4bffbb', '61e9f3a8b937134a3c4bfdfb', '61e9f3aeb937134a3c4bfe45', '61e9f3f2b937134a3c4bff9d', nan, '61e9f3fab937134a3c4bffd1', '61e9f391b937134a3c4bfd95', '61e9f3a1b937134a3c4bfdd3', '61e9f46eb937134a3c4c02bb', '61e9f3afb937134a3c4bfe49', '61e9f3f7b937134a3c4bffc3', '61e9f41db937134a3c4c0093', '61e9f38eb937134a3c4bfd8b', '61e9f3fcb937134a3c4bffdd', '61e9f415b937134a3c4c0061', '61e9f3acb937134a3c4bfe2b', '61e9f3b3b937134a3c4bfe69', '61e9f39eb937134a3c4bfdc9', '6208150666fc0a8e43c6123f', '61e9f400b937134a3c4bfffb', '61e9f423b937134a3c4c00cb', '61e9f3fab937134a3c4bffcf', '61e9f390b937134a3c4bfd93', '61e9f3fdb937134a3c4bffe3', '61e9f3abb937134a3c4bfe1b', '61e9f3c2b937134a3c4bfeaf', '61e9f41cb937134a3c4c008d', '61e9f3f5b937134a3c4bffb9', '61e9f3afb937134a3c4bfe4b', '61e9f40eb937134a3c4c003d', '61e9f423b937134a3c4c00c7', '61e9f43bb937134a3c4c015b', '61e9f3a5b937134a3c4bfde3', '61e9f40db937134a3c4c0039', '61e9f445b937134a3c4c01a5', '61e9f3b2b937134a3c4bfe65', '61e9f3dcb937134a3c4bff41', '61e9f430b937134a3c4c010b', '61e9f3dcb937134a3c4bff3f', '61e9f453b937134a3c4c01ef', '61e9f42fb937134a3c4c0109', '61e9f3bfb937134a3c4bfe9f', '61e9f3b0b937134a3c4bfe51', '61e9f3fbb937134a3c4bffd3', '61e9f396b937134a3c4bfdab', '61e9f3a9b937134a3c4bfe03', '61e9f3fbb937134a3c4bffd7', '61e9f418b937134a3c4c0073', '61e9f394b937134a3c4bfda5', '61e9f46eb937134a3c4c02bf', '61e9f39cb937134a3c4bfdc3', '61e9f3b1b937134a3c4bfe53', '61e9f44ab937134a3c4c01bd', '61e9f3f2b937134a3c4bff9b', '61e9f43ab937134a3c4c0151', '61e9f3f1b937134a3c4bff93', '61e9f3aab937134a3c4bfe15', '61e9f3abb937134a3c4bfe1d', '61e9f3f1b937134a3c4bff95', '61e9f3b4b937134a3c4bfe73', '61e9f41db937134a3c4c0099', '61e9f3b0b937134a3c4bfe4d', '61e9f3a7b937134a3c4bfde9', '61e9f402b937134a3c4c000b', '61e9f3f5b937134a3c4bffb7', '61e9f3a7b937134a3c4bfdf1', '61e9f39cb937134a3c4bfdbf', '61e9f3e8b937134a3c4bff73', '61e9f3a5b937134a3c4bfde7', '61e9f3f7b937134a3c4bffc5', '61e9f3f9b937134a3c4bffcb', '61e9f3acb937134a3c4bfe25', '61e9f43db937134a3c4c0169', '61e9f40eb937134a3c4c0043', '61e9f39fb937134a3c4bfdcf', '61e9f41cb937134a3c4c008b', '61e9f3b3b937134a3c4bfe67', '61e9f3f3b937134a3c4bffad', '61e9f3aab937134a3c4bfe0f', '61e9f3adb937134a3c4bfe33', '61e9f454b937134a3c4c01f9', '61e9f3aab937134a3c4bfe0d', '61e9f41fb937134a3c4c00a5', '61e9f3f8b937134a3c4bffc7', '61e9f394b937134a3c4bfda3', '6326fcf5c46d6a20d22ca323', '61e9f3a4b937134a3c4bfddd', '61e9f452b937134a3c4c01eb', '61e9f3afb937134a3c4bfe47', '61e9f3e3b937134a3c4bff61', '61e9f3aeb937134a3c4bfe3f', '61e9f3acb937134a3c4bfe29', '61e9f3a9b937134a3c4bfe01', '61e9f3b4b937134a3c4bfe75', '61e9f3aeb937134a3c4bfe3b', '61e9f413b937134a3c4c0055', '61e9f391b937134a3c4bfd97', '61e9f416b937134a3c4c0067', '61e9f392b937134a3c4bfd9b', '61e9f400b937134a3c4bfff9', '61e9f3feb937134a3c4bffe9', '61e9f3a5b937134a3c4bfddf', '61e9f3b1b937134a3c4bfe59', '61e9f3f3b937134a3c4bffa3', '61e9f39ab937134a3c4bfdb9', '61e9f3b4b937134a3c4bfe71', '61e9f422b937134a3c4c00c1', '61e9f3a9b937134a3c4bfe05', '61e9f457b937134a3c4c0207', '61e9f393b937134a3c4bfd9f', '61e9f3fdb937134a3c4bffe5', '61e9f3f7b937134a3c4bffc1', '61e9f3f7b937134a3c4bffbf', '61e9f3abb937134a3c4bfe17', '61e9f399b937134a3c4bfdb5', '61e9f3b3b937134a3c4bfe6f', '61e9f3f4b937134a3c4bffb3', '61e9f38eb937134a3c4bfd8f', '61e9f401b937134a3c4c0001', '61e9f3a1b937134a3c4bfdd5', '61e9f3adb937134a3c4bfe2f', '61e9f451b937134a3c4c01e3', '61e9f46db937134a3c4c02b9', '61e9f453b937134a3c4c01f1', '61e9f41eb937134a3c4c009b', '61e9f3b2b937134a3c4bfe5d', '61e9f436b937134a3c4c0135', '61e9f398b937134a3c4bfdb1', '61e9f395b937134a3c4bfda7', '61e9f42cb937134a3c4c00f7', '61e9f3d5b937134a3c4bff25', '61e9f3abb937134a3c4bfe21', '61e9f423b937134a3c4c00c9', '61e9f3f3b937134a3c4bffa5', '61e9f3feb937134a3c4bffeb', '61e9f3f4b937134a3c4bffb5', '61e9f414b937134a3c4c005d', '62080cff66fc0a8e43c6123a', '61e9f435b937134a3c4c0129', '61e9f3b2b937134a3c4bfe61', '61e9f401b937134a3c4c0005', '61e9f3a7b937134a3c4bfded', '61e9f3e5b937134a3c4bff67', '61e9f3acb937134a3c4bfe27', '61e9f3ffb937134a3c4bfff3', '61e9f3b3b937134a3c4bfe6b', '61e9f3fdb937134a3c4bffdf', '61e9f3f6b937134a3c4bffbd', '61e9f392b937134a3c4bfd99', '6207e85b66fc0a8e43c61228', '61e9f3b2b937134a3c4bfe5f', '61e9f3b2b937134a3c4bfe63', '61e9f42db937134a3c4c0101', '61e9f3a8b937134a3c4bfdf9'}\n",
      "\n",
      "Missing vesselId's in ais_train:\n",
      "13\n",
      "{'61e9f3b3b937134a3c4bfe67', nan, '61e9f3aeb937134a3c4bfe3f', '61e9f3dcb937134a3c4bff3f', '61e9f46eb937134a3c4c02bf', '61e9f3a9b937134a3c4bfe01', '61e9f3a5b937134a3c4bfddf', '61e9f3a3b937134a3c4bfddb', '61e9f46db937134a3c4c02b9', '61e9f435b937134a3c4c0129', '61e9f3a4b937134a3c4bfddd', '61e9f395b937134a3c4bfda7', '61e9f3dcb937134a3c4bff41'}\n"
     ]
    }
   ],
   "source": [
    "ais_test = pd.read_csv('ais_test.csv')\n",
    "\n",
    "# Get distinct vesselId's from ais_test and ais_train\n",
    "distinct_vessel_ids_test = ais_test['vesselId'].unique()\n",
    "distinct_vessel_ids_train = ais_train['vesselId'].unique()\n",
    "\n",
    "# Find missing vesselId's in ais_test and ais_train\n",
    "missing_in_test = set(distinct_vessel_ids) - set(distinct_vessel_ids_test)\n",
    "missing_in_train = set(distinct_vessel_ids) - set(distinct_vessel_ids_train)\n",
    "\n",
    "# Print the missing vesselIds for each dataframe\n",
    "print(\"Missing vesselId's in ais_test:\")\n",
    "print(len(missing_in_test))\n",
    "print(missing_in_test)\n",
    "\n",
    "print(\"\\nMissing vesselId's in ais_train:\")\n",
    "print(len(missing_in_train))\n",
    "print(missing_in_train)"
   ]
  },
  {
   "cell_type": "code",
   "execution_count": 11,
   "id": "c67bda19-cb05-4b2a-9525-f3e8c820f319",
   "metadata": {
    "tags": []
   },
   "outputs": [
    {
     "name": "stdout",
     "output_type": "stream",
     "text": [
      "Number of vesselId's in ais_test: 215 of which we are missing 148 in schedules\n",
      "Number of vesselId's in ais_train: 688 of which we are missing 449 in schedules\n"
     ]
    }
   ],
   "source": [
    "# Get distinct vesselId's from schedules\n",
    "distinct_vessel_ids_schedules = schedules['vesselId'].unique()\n",
    "\n",
    "# Find missing vesselId's in schedules from ais_test and ais_train\n",
    "missing_in_schedules_from_test = set(distinct_vessel_ids_test) - set(distinct_vessel_ids_schedules)\n",
    "missing_in_schedules_from_train = set(distinct_vessel_ids_train) - set(distinct_vessel_ids_schedules)\n",
    "\n",
    "# Count of missing vesselId's\n",
    "missing_count_test = len(missing_in_schedules_from_test)\n",
    "missing_count_train = len(missing_in_schedules_from_train)\n",
    "\n",
    "# Print results\n",
    "print(f\"Number of vesselId's in ais_test: {len(distinct_vessel_ids_test)} of which we are missing {missing_count_test} in schedules\")\n",
    "print(f\"Number of vesselId's in ais_train: {len(distinct_vessel_ids_train)} of which we are missing {missing_count_train} in schedules\")"
   ]
  },
  {
   "cell_type": "code",
   "execution_count": 12,
   "id": "6655ae13-2a93-4782-bd5b-32862cbc9cfb",
   "metadata": {
    "tags": []
   },
   "outputs": [
    {
     "name": "stdout",
     "output_type": "stream",
     "text": [
      "Number of vesselIds in ais_test but not in ais_train: 0\n"
     ]
    }
   ],
   "source": [
    "# Extract the unique vesselIds\n",
    "test_vessel_ids = set(ais_test['vesselId'].unique())\n",
    "train_vessel_ids = set(ais_train['vesselId'].unique())\n",
    "\n",
    "# Find vesselIds in ais_test but not in ais_train\n",
    "missing_vessel_ids = test_vessel_ids - train_vessel_ids\n",
    "\n",
    "# Count and print the number of missing vesselIds\n",
    "print(f\"Number of vesselIds in ais_test but not in ais_train: {len(missing_vessel_ids)}\")"
   ]
  },
  {
   "cell_type": "code",
   "execution_count": 13,
   "id": "ed45a50e-dfab-443f-88ae-4c20edcc91af",
   "metadata": {
    "tags": []
   },
   "outputs": [
    {
     "name": "stdout",
     "output_type": "stream",
     "text": [
      "1522065\n"
     ]
    }
   ],
   "source": [
    "print(len(ais_train))"
   ]
  },
  {
   "cell_type": "code",
   "execution_count": 14,
   "id": "54de853a-a40c-4add-9ddb-22a13e431a94",
   "metadata": {
    "tags": []
   },
   "outputs": [],
   "source": [
    "import numpy as np\n",
    "from geopy.distance import great_circle"
   ]
  },
  {
   "cell_type": "code",
   "execution_count": 18,
   "id": "810db549-0b18-4577-989e-a43d4e66e94c",
   "metadata": {
    "tags": []
   },
   "outputs": [
    {
     "name": "stderr",
     "output_type": "stream",
     "text": [
      "/tmp/ipykernel_2488/127239161.py:2: SettingWithCopyWarning: \n",
      "A value is trying to be set on a copy of a slice from a DataFrame.\n",
      "Try using .loc[row_indexer,col_indexer] = value instead\n",
      "\n",
      "See the caveats in the documentation: https://pandas.pydata.org/pandas-docs/stable/user_guide/indexing.html#returning-a-view-versus-a-copy\n",
      "  filtered_sorted_rows['arrivalDate'] = pd.to_datetime(filtered_sorted_rows['arrivalDate'], utc=True)\n",
      "/tmp/ipykernel_2488/127239161.py:14: UserWarning: Boolean Series key will be reindexed to match DataFrame index.\n",
      "  vessel_schedule = filtered_sorted_rows[schedules['vesselId'] == vessel_id]\n"
     ]
    },
    {
     "name": "stdout",
     "output_type": "stream",
     "text": [
      "                     vesselId           expectedArrival       actualArrival  portLatitude  portLongitude                           portName\n",
      "0    61e9f3b1b937134a3c4bfe53 2024-01-02 00:00:00+00:00 2024-01-12 15:54:58    -37.832778     144.917500                  Port of Melbourne\n",
      "1    61e9f3b1b937134a3c4bfe53 2024-01-02 00:00:00+00:00 2024-01-12 15:54:58    -37.832778     144.917500                  Port of Melbourne\n",
      "2    61e9f3b1b937134a3c4bfe53 2024-01-02 00:00:00+00:00 2024-01-12 15:54:58    -37.832778     144.917500                  Port of Melbourne\n",
      "3    61e9f3b1b937134a3c4bfe53 2024-01-02 00:00:00+00:00 2024-01-12 15:54:58    -37.832778     144.917500                  Port of Melbourne\n",
      "4    61e9f3b1b937134a3c4bfe53 2024-01-02 00:00:00+00:00 2024-01-12 15:54:58    -37.832778     144.917500                  Port of Melbourne\n",
      "..                        ...                       ...                 ...           ...            ...                                ...\n",
      "217  61e9f3b1b937134a3c4bfe53 2024-04-30 00:00:00+00:00 2024-03-10 19:41:57      9.372370     -79.879790  Manzanillo International Terminal\n",
      "218  61e9f3b1b937134a3c4bfe53 2024-04-30 00:00:00+00:00 2024-03-10 19:41:57      9.372370     -79.879790  Manzanillo International Terminal\n",
      "219  61e9f3b1b937134a3c4bfe53 2024-05-03 00:00:00+00:00 2024-03-10 19:41:57      9.372370     -79.879790  Manzanillo International Terminal\n",
      "220  61e9f3b1b937134a3c4bfe53 2024-05-04 00:00:00+00:00 2024-03-16 18:17:14     31.140556     -81.496667                  Port of Brunswick\n",
      "221  61e9f3b1b937134a3c4bfe53 2024-05-06 00:00:00+00:00 2024-03-16 18:17:14     31.140556     -81.496667                  Port of Brunswick\n",
      "\n",
      "[222 rows x 6 columns]\n"
     ]
    }
   ],
   "source": [
    "# Ensure 'arrivalDate' is in datetime format\n",
    "filtered_sorted_rows['arrivalDate'] = pd.to_datetime(filtered_sorted_rows['arrivalDate'], utc=True)\n",
    "\n",
    "# Function to calculate distance between two points (latitude, longitude)\n",
    "def calculate_distance(lat1, lon1, lat2, lon2):\n",
    "    return great_circle((lat1, lon1), (lat2, lon2)).kilometers\n",
    "\n",
    "# Initialize a list to store results\n",
    "arrival_info = []\n",
    "\n",
    "# Iterate over each vesselId in the schedules\n",
    "for vessel_id in filtered_sorted_rows['vesselId'].unique():\n",
    "    # Filter the schedule for the current vessel\n",
    "    vessel_schedule = filtered_sorted_rows[schedules['vesselId'] == vessel_id]\n",
    "\n",
    "    # Get the vessel's position history from ais_train\n",
    "    vessel_positions = ais_train[ais_train['vesselId'] == vessel_id]\n",
    "\n",
    "    # Iterate through each port in the vessel's schedule\n",
    "    for _, port_row in vessel_schedule.iterrows():\n",
    "        expected_arrival = port_row['arrivalDate']\n",
    "        port_lat = port_row['portLatitude']\n",
    "        port_lon = port_row['portLongitude']\n",
    "        port_name = port_row['portName']\n",
    "\n",
    "        # Check when the vessel arrives at this port\n",
    "        for _, position_row in vessel_positions.iterrows():\n",
    "            vessel_lat = position_row['latitude']\n",
    "            vessel_lon = position_row['longitude']\n",
    "            time = position_row['time']  # Ensure this column exists in ais_train\n",
    "\n",
    "            # Calculate distance to the port\n",
    "            distance_to_port = calculate_distance(vessel_lat, vessel_lon, port_lat, port_lon)\n",
    "\n",
    "            # Check if the vessel is close enough to the port\n",
    "            if distance_to_port < 6:  # Vessel is considered arrived\n",
    "                arrival_info.append({\n",
    "                    'vesselId': vessel_id,\n",
    "                    'expectedArrival': expected_arrival,\n",
    "                    'actualArrival': time,\n",
    "                    'portLatitude': port_lat,\n",
    "                    'portLongitude': port_lon,\n",
    "                    'portName': port_name\n",
    "                })\n",
    "                break  # Exit the loop once the vessel has arrived\n",
    "\n",
    "# Convert results to a DataFrame for further analysis\n",
    "arrival_df = pd.DataFrame(arrival_info)\n",
    "\n",
    "# Print the resulting DataFrame\n",
    "print(arrival_df)"
   ]
  },
  {
   "cell_type": "code",
   "execution_count": 19,
   "id": "9697ea07-7d7c-4235-afbe-7c161573ca94",
   "metadata": {
    "tags": []
   },
   "outputs": [
    {
     "name": "stdout",
     "output_type": "stream",
     "text": [
      "                     vesselId           expectedArrival       actualArrival  portLatitude  portLongitude                           portName\n",
      "212  61e9f3b1b937134a3c4bfe53 2024-04-29 00:00:00+00:00 2024-01-01 00:15:01    -27.382500     153.169444                   Port of Brisbane\n",
      "0    61e9f3b1b937134a3c4bfe53 2024-01-02 00:00:00+00:00 2024-01-12 15:54:58    -37.832778     144.917500                  Port of Melbourne\n",
      "5    61e9f3b1b937134a3c4bfe53 2024-01-04 00:00:00+00:00 2024-01-12 15:54:58    -37.832778     144.917500                  Port of Melbourne\n",
      "7    61e9f3b1b937134a3c4bfe53 2024-01-06 00:00:00+00:00 2024-01-12 15:54:58    -37.832778     144.917500                  Port of Melbourne\n",
      "9    61e9f3b1b937134a3c4bfe53 2024-01-07 00:00:00+00:00 2024-01-12 15:54:58    -37.832778     144.917500                  Port of Melbourne\n",
      "12   61e9f3b1b937134a3c4bfe53 2024-01-08 00:00:00+00:00 2024-01-12 15:54:58    -37.832778     144.917500                  Port of Melbourne\n",
      "18   61e9f3b1b937134a3c4bfe53 2024-01-10 00:00:00+00:00 2024-01-12 15:54:58    -37.832778     144.917500                  Port of Melbourne\n",
      "23   61e9f3b1b937134a3c4bfe53 2024-01-11 00:00:00+00:00 2024-01-12 15:54:58    -37.832778     144.917500                  Port of Melbourne\n",
      "29   61e9f3b1b937134a3c4bfe53 2024-01-13 00:00:00+00:00 2024-01-12 15:54:58    -37.832778     144.917500                  Port of Melbourne\n",
      "73   61e9f3b1b937134a3c4bfe53 2024-01-30 00:00:00+00:00 2024-01-23 14:58:13    -32.047500     115.740833                     Fremantle Port\n",
      "69   61e9f3b1b937134a3c4bfe53 2024-01-26 00:00:00+00:00 2024-01-23 14:58:13    -32.047500     115.740833                     Fremantle Port\n",
      "59   61e9f3b1b937134a3c4bfe53 2024-01-24 00:00:00+00:00 2024-01-23 14:58:13    -32.047500     115.740833                     Fremantle Port\n",
      "54   61e9f3b1b937134a3c4bfe53 2024-01-21 00:00:00+00:00 2024-01-23 14:58:13    -32.047500     115.740833                     Fremantle Port\n",
      "44   61e9f3b1b937134a3c4bfe53 2024-01-18 00:00:00+00:00 2024-01-23 14:58:13    -32.047500     115.740833                     Fremantle Port\n",
      "42   61e9f3b1b937134a3c4bfe53 2024-01-16 00:00:00+00:00 2024-01-23 14:58:13    -32.047500     115.740833                     Fremantle Port\n",
      "40   61e9f3b1b937134a3c4bfe53 2024-01-15 00:00:00+00:00 2024-01-23 14:58:13    -32.047500     115.740833                     Fremantle Port\n",
      "27   61e9f3b1b937134a3c4bfe53 2024-01-12 00:00:00+00:00 2024-01-23 14:58:13    -32.047500     115.740833                     Fremantle Port\n",
      "21   61e9f3b1b937134a3c4bfe53 2024-01-10 00:00:00+00:00 2024-01-23 14:58:13    -32.047500     115.740833                     Fremantle Port\n",
      "45   61e9f3b1b937134a3c4bfe53 2024-01-20 00:00:00+00:00 2024-01-23 14:58:13    -32.047500     115.740833                     Fremantle Port\n",
      "87   61e9f3b1b937134a3c4bfe53 2024-02-12 00:00:00+00:00 2024-02-13 22:16:55     34.684167     135.240833                       Port of Kobe\n",
      "74   61e9f3b1b937134a3c4bfe53 2024-02-09 00:00:00+00:00 2024-02-13 22:16:55     34.684167     135.240833                       Port of Kobe\n",
      "78   61e9f3b1b937134a3c4bfe53 2024-02-10 00:00:00+00:00 2024-02-13 22:16:55     34.684167     135.240833                       Port of Kobe\n",
      "102  61e9f3b1b937134a3c4bfe53 2024-02-14 00:00:00+00:00 2024-02-13 22:16:55     34.684167     135.240833                       Port of Kobe\n",
      "95   61e9f3b1b937134a3c4bfe53 2024-02-13 00:00:00+00:00 2024-02-13 22:16:55     34.684167     135.240833                       Port of Kobe\n",
      "114  61e9f3b1b937134a3c4bfe53 2024-02-15 00:00:00+00:00 2024-02-15 07:14:19     35.045000     136.848056                     Port of Nagoya\n",
      "103  61e9f3b1b937134a3c4bfe53 2024-02-14 00:00:00+00:00 2024-02-15 07:14:19     35.045000     136.848056                     Port of Nagoya\n",
      "83   61e9f3b1b937134a3c4bfe53 2024-02-11 00:00:00+00:00 2024-02-15 07:14:19     35.045000     136.848056                     Port of Nagoya\n",
      "93   61e9f3b1b937134a3c4bfe53 2024-02-13 00:00:00+00:00 2024-02-15 07:14:19     35.045000     136.848056                     Port of Nagoya\n",
      "82   61e9f3b1b937134a3c4bfe53 2024-02-10 00:00:00+00:00 2024-02-15 07:14:19     35.045000     136.848056                     Port of Nagoya\n",
      "90   61e9f3b1b937134a3c4bfe53 2024-02-12 00:00:00+00:00 2024-02-16 08:16:03     35.436389     139.667778                   Port of Yokohama\n",
      "86   61e9f3b1b937134a3c4bfe53 2024-02-11 00:00:00+00:00 2024-02-16 08:16:03     35.436389     139.667778                   Port of Yokohama\n",
      "106  61e9f3b1b937134a3c4bfe53 2024-02-14 00:00:00+00:00 2024-02-16 08:16:03     35.436389     139.667778                   Port of Yokohama\n",
      "115  61e9f3b1b937134a3c4bfe53 2024-02-15 00:00:00+00:00 2024-02-16 08:16:03     35.436389     139.667778                   Port of Yokohama\n",
      "124  61e9f3b1b937134a3c4bfe53 2024-02-16 00:00:00+00:00 2024-02-16 08:16:03     35.436389     139.667778                   Port of Yokohama\n",
      "208  61e9f3b1b937134a3c4bfe53 2024-04-18 00:00:00+00:00 2024-03-10 19:41:57      9.372370     -79.879790  Manzanillo International Terminal\n",
      "211  61e9f3b1b937134a3c4bfe53 2024-04-28 00:00:00+00:00 2024-03-10 19:41:57      9.372370     -79.879790  Manzanillo International Terminal\n",
      "204  61e9f3b1b937134a3c4bfe53 2024-04-02 00:00:00+00:00 2024-03-10 19:41:57      9.372370     -79.879790  Manzanillo International Terminal\n",
      "205  61e9f3b1b937134a3c4bfe53 2024-04-04 00:00:00+00:00 2024-03-10 19:41:57      9.372370     -79.879790  Manzanillo International Terminal\n",
      "215  61e9f3b1b937134a3c4bfe53 2024-04-30 00:00:00+00:00 2024-03-10 19:41:57      9.372370     -79.879790  Manzanillo International Terminal\n",
      "129  61e9f3b1b937134a3c4bfe53 2024-03-10 00:00:00+00:00 2024-03-10 19:41:57      9.372370     -79.879790  Manzanillo International Terminal\n",
      "219  61e9f3b1b937134a3c4bfe53 2024-05-03 00:00:00+00:00 2024-03-10 19:41:57      9.372370     -79.879790  Manzanillo International Terminal\n",
      "159  61e9f3b1b937134a3c4bfe53 2024-03-16 00:00:00+00:00 2024-03-15 06:58:38     32.110833     -81.125833                   Port of Savannah\n",
      "145  61e9f3b1b937134a3c4bfe53 2024-03-15 00:00:00+00:00 2024-03-15 06:58:38     32.110833     -81.125833                   Port of Savannah\n",
      "210  61e9f3b1b937134a3c4bfe53 2024-04-28 00:00:00+00:00 2024-03-16 18:17:14     31.140556     -81.496667                  Port of Brunswick\n",
      "209  61e9f3b1b937134a3c4bfe53 2024-04-22 00:00:00+00:00 2024-03-16 18:17:14     31.140556     -81.496667                  Port of Brunswick\n",
      "207  61e9f3b1b937134a3c4bfe53 2024-04-12 00:00:00+00:00 2024-03-16 18:17:14     31.140556     -81.496667                  Port of Brunswick\n",
      "221  61e9f3b1b937134a3c4bfe53 2024-05-06 00:00:00+00:00 2024-03-16 18:17:14     31.140556     -81.496667                  Port of Brunswick\n",
      "201  61e9f3b1b937134a3c4bfe53 2024-03-27 00:00:00+00:00 2024-03-16 18:17:14     31.140556     -81.496667                  Port of Brunswick\n",
      "163  61e9f3b1b937134a3c4bfe53 2024-03-16 00:00:00+00:00 2024-03-16 18:17:14     31.140556     -81.496667                  Port of Brunswick\n",
      "144  61e9f3b1b937134a3c4bfe53 2024-03-15 00:00:00+00:00 2024-03-16 18:17:14     31.140556     -81.496667                  Port of Brunswick\n",
      "220  61e9f3b1b937134a3c4bfe53 2024-05-04 00:00:00+00:00 2024-03-16 18:17:14     31.140556     -81.496667                  Port of Brunswick\n",
      "202  61e9f3b1b937134a3c4bfe53 2024-03-28 00:00:00+00:00 2024-03-16 18:17:14     31.140556     -81.496667                  Port of Brunswick\n",
      "190  61e9f3b1b937134a3c4bfe53 2024-03-24 00:00:00+00:00 2024-03-24 08:55:19     39.232500     -76.558889                  Port of Baltimore\n",
      "187  61e9f3b1b937134a3c4bfe53 2024-03-22 00:00:00+00:00 2024-03-24 08:55:19     39.232500     -76.558889                  Port of Baltimore\n",
      "185  61e9f3b1b937134a3c4bfe53 2024-03-21 00:00:00+00:00 2024-03-24 08:55:19     39.232500     -76.558889                  Port of Baltimore\n",
      "174  61e9f3b1b937134a3c4bfe53 2024-03-19 00:00:00+00:00 2024-03-24 08:55:19     39.232500     -76.558889                  Port of Baltimore\n",
      "189  61e9f3b1b937134a3c4bfe53 2024-03-23 00:00:00+00:00 2024-03-24 08:55:19     39.232500     -76.558889                  Port of Baltimore\n"
     ]
    }
   ],
   "source": [
    "# Assuming your data is in a DataFrame called df\n",
    "unique_rows = arrival_df.drop_duplicates().sort_values(by='actualArrival', ascending=True)\n",
    "\n",
    "# Display the unique rows\n",
    "print(unique_rows)"
   ]
  }
 ],
 "metadata": {
  "kernelspec": {
   "display_name": "Python 3 (ipykernel)",
   "language": "python",
   "name": "micromamba-base-py"
  },
  "language_info": {
   "codemirror_mode": {
    "name": "ipython",
    "version": 3
   },
   "file_extension": ".py",
   "mimetype": "text/x-python",
   "name": "python",
   "nbconvert_exporter": "python",
   "pygments_lexer": "ipython3",
   "version": "3.10.15"
  }
 },
 "nbformat": 4,
 "nbformat_minor": 5
}
