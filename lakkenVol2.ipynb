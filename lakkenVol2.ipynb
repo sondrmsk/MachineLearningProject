{
 "cells": [
  {
   "cell_type": "code",
   "execution_count": 89,
   "metadata": {},
   "outputs": [],
   "source": [
    "import pandas as pd\n",
    "import numpy as np\n",
    "pd.set_option('display.max_columns', None)"
   ]
  },
  {
   "cell_type": "code",
   "execution_count": 90,
   "metadata": {},
   "outputs": [],
   "source": [
    "ais_test = pd.read_csv('ais_test.csv')\n",
    "ais_train = pd.read_csv('first_50000_rows.csv', sep='|')\n",
    "\n",
    "\n",
    "# Merge test set with training set history\n",
    "ais_train['time'] = pd.to_datetime(ais_train['time'])  # Ensure time is datetime\n",
    "ais_test['time'] = pd.to_datetime(ais_test['time'])\n",
    "# Sort by vesselId and time\n",
    "ais_train = ais_train.sort_values(['vesselId', 'time'])\n",
    "ais_test = ais_test.sort_values(['vesselId', 'time'])\n",
    "\n",
    "# Concatenate both dataframes in order to add correct time series features\n",
    "\n",
    "# label where data comes from before concatenation\n",
    "ais_train['dataset'] = 'train'\n",
    "ais_test['dataset'] = 'test'\n",
    "combined_df = pd.concat([ais_train, ais_test], ignore_index=True)\n",
    "# Sort by vesselId and time to ensure proper order for calculating lags\n",
    "\n",
    "# Sort by vesselId and time\n",
    "combined_df = combined_df.sort_values(by=['vesselId', 'time']).reset_index(drop=True)\n"
   ]
  },
  {
   "cell_type": "code",
   "execution_count": 91,
   "metadata": {},
   "outputs": [],
   "source": [
    "    \n",
    "lag_windows = [1, 2, 3, 4, 5, 6, 7, 8, 9, 10]\n",
    "\n",
    "for lag in lag_windows:\n",
    "    # Create lag features for latitude and longitude\n",
    "    combined_df[f'latitude_lag{lag}'] = combined_df.groupby('vesselId')['latitude'].shift(lag)\n",
    "    combined_df[f'longitude_lag{lag}'] = combined_df.groupby('vesselId')['longitude'].shift(lag)\n",
    "\n",
    "# Forward fill missing values within each 'vesselId' after lagging\n",
    "combined_df[[f'latitude_lag{lag}' for lag in lag_windows]] = combined_df.groupby('vesselId')[[f'latitude_lag{lag}' for lag in lag_windows]].fillna(method='ffill')\n",
    "combined_df[[f'longitude_lag{lag}' for lag in lag_windows]] = combined_df.groupby('vesselId')[[f'longitude_lag{lag}' for lag in lag_windows]].fillna(method='ffill')"
   ]
  }
 ],
 "metadata": {
  "kernelspec": {
   "display_name": "Python 3",
   "language": "python",
   "name": "python3"
  },
  "language_info": {
   "codemirror_mode": {
    "name": "ipython",
    "version": 3
   },
   "file_extension": ".py",
   "mimetype": "text/x-python",
   "name": "python",
   "nbconvert_exporter": "python",
   "pygments_lexer": "ipython3",
   "version": "3.10.6"
  }
 },
 "nbformat": 4,
 "nbformat_minor": 2
}
