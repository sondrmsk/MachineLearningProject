{
 "cells": [
  {
   "cell_type": "code",
   "execution_count": 124,
   "metadata": {},
   "outputs": [],
   "source": [
    "import pandas as pd\n",
    "import numpy as np\n",
    "pd.set_option('display.max_columns', None)"
   ]
  },
  {
   "cell_type": "code",
   "execution_count": 125,
   "metadata": {},
   "outputs": [],
   "source": [
    "ais_test = pd.read_csv('../ais_test.csv')\n",
    "ais_train = pd.read_csv('../first_50000_rows.csv', sep='|')"
   ]
  },
  {
   "cell_type": "code",
   "execution_count": 126,
   "metadata": {},
   "outputs": [],
   "source": [
    "ais_test['source'] = 'test'\n",
    "ais_test = ais_test.drop(columns=['ID', 'scaling_factor'])\n",
    "\n",
    "ais_train['source'] = 'train'\n",
    "df = pd.concat([ais_train, ais_test], ignore_index=True)\n",
    "df['time'] = pd.to_datetime(df['time'])"
   ]
  },
  {
   "cell_type": "code",
   "execution_count": 127,
   "metadata": {},
   "outputs": [],
   "source": [
    "# Define each 5-day window (7200 minutes) independently for each vessel\n",
    "df['time_diff'] = df.groupby('vesselId')['time'].transform(lambda x: (x - x.iloc[0]).dt.total_seconds() / 60)\n",
    "df['window_starts'] = (df['time_diff'] // (5 * 24 * 60)).astype(int)\n",
    "\n",
    "# Initialize columns for last known values and time_since_last_known\n",
    "cols_to_propagate = ['latitude', 'longitude', 'cog', 'navstat', 'sog', 'heading', 'rot']\n",
    "for col in cols_to_propagate:\n",
    "    df[f'last_known_{col}'] = np.nan\n",
    "df['time_since_last_known'] = np.nan\n",
    "\n",
    "for vessel_id, vessel_data in df.groupby('vesselId'):\n",
    "    last_known_values = {}\n",
    "    last_known_time = None\n",
    "    \n",
    "    for window, window_data in vessel_data.groupby('window_starts'):\n",
    "        window_index = window_data.index\n",
    "        \n",
    "        # For the first window, use the row’s own values as the last known values\n",
    "        if window == 0:\n",
    "            for col in cols_to_propagate:\n",
    "                df.loc[window_index, f'last_known_{col}'] = window_data[col].iloc[0]\n",
    "            df.loc[window_index, 'time_since_last_known'] = (window_data['time'] - window_data['time'].iloc[0]).dt.total_seconds() / 60\n",
    "        else:\n",
    "            # For other windows, use the last row of the previous window as the last known values\n",
    "            for col in cols_to_propagate:\n",
    "                df.loc[window_index, f'last_known_{col}'] = last_known_values[col]\n",
    "            df.loc[window_index, 'time_since_last_known'] = (window_data['time'] - last_known_time).dt.total_seconds() / 60\n",
    "        \n",
    "        # Update last known values and time for the next window\n",
    "        last_known_values = {col: window_data[col].iloc[-1] for col in cols_to_propagate}\n",
    "        last_known_time = window_data['time'].iloc[-1]\n",
    "\n",
    "# Set time_since_last_known to 0 for the first row of each vessel\n",
    "first_rows = df.groupby('vesselId').head(1).index\n",
    "df.loc[first_rows, 'time_since_last_known'] = 0"
   ]
  },
  {
   "cell_type": "code",
   "execution_count": 128,
   "metadata": {},
   "outputs": [],
   "source": [
    "df = df.drop(columns=['cog','sog','rot','heading', 'navstat', 'etaRaw','vesselId', 'portId'])\n",
    "df['last_known_cog_sin'] = np.sin(np.radians(df['last_known_cog']))\n",
    "df['last_known_cog_cos'] = np.cos(np.radians(df['last_known_cog']))\n",
    "df['last_known_heading_sin'] = np.sin(np.radians(df['last_known_heading']))\n",
    "df['last_known_heading_cos'] = np.cos(np.radians(df['last_known_heading']))\n",
    "\n",
    "# Define the set of values that correspond to the \"underway\" state\n",
    "underway_values = {0, 3, 4, 7, 9, 10, 11, 12, 13, 14, 15}\n",
    "# Create the 'underway' column: 1 if 'navstat' is in underway_values, otherwise 0\n",
    "df['last_navstat_underway'] = df['last_known_navstat'].apply(lambda x: 1 if x in underway_values else 0)\n",
    "# Create the 'anchored' column: 1 if 'navstat' is not in underway_values, otherwise 0\n",
    "df['last_navstat_anchored'] = df['last_known_navstat'].apply(lambda x: 1 if x not in underway_values else 0)\n",
    "\n",
    "#TODO: Distance travelled/trianguleringer\n",
    "\n",
    "df = df.drop(columns=['last_known_cog', 'last_known_heading', 'last_known_navstat'])\n",
    "\n"
   ]
  },
  {
   "cell_type": "code",
   "execution_count": 129,
   "metadata": {},
   "outputs": [],
   "source": [
    "df.to_csv('hoy.csv')"
   ]
  },
  {
   "cell_type": "code",
   "execution_count": null,
   "metadata": {},
   "outputs": [],
   "source": [
    "## split\n",
    "enriched_train = df[df['source'] == 'train']\n",
    "enriched_train = enriched_train.drop(columns=['source'])\n",
    "\n",
    "enriched_test = df[df['source'] == 'test']\n",
    "enriched_test = enriched_test.drop(columns=['source'])"
   ]
  }
 ],
 "metadata": {
  "kernelspec": {
   "display_name": "Python 3",
   "language": "python",
   "name": "python3"
  },
  "language_info": {
   "codemirror_mode": {
    "name": "ipython",
    "version": 3
   },
   "file_extension": ".py",
   "mimetype": "text/x-python",
   "name": "python",
   "nbconvert_exporter": "python",
   "pygments_lexer": "ipython3",
   "version": "3.10.6"
  }
 },
 "nbformat": 4,
 "nbformat_minor": 2
}
