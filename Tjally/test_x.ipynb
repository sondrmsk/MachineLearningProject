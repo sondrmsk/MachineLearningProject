{
 "cells": [
  {
   "cell_type": "code",
   "execution_count": 4,
   "metadata": {},
   "outputs": [],
   "source": [
    "import pandas as pd\n",
    "import numpy as np\n",
    "pd.set_option('display.max_columns', None)\n"
   ]
  },
  {
   "cell_type": "code",
   "execution_count": null,
   "metadata": {},
   "outputs": [],
   "source": [
    "test_df = pd.read_csv('../ais_test.csv')\n",
    "df = pd.read_csv('../first_50000_rows.csv', sep='|')"
   ]
  },
  {
   "cell_type": "code",
   "execution_count": 7,
   "metadata": {},
   "outputs": [],
   "source": [
    "vessel_df = pd.read_csv('../vessels.csv', sep='|')"
   ]
  },
  {
   "cell_type": "code",
   "execution_count": null,
   "metadata": {},
   "outputs": [],
   "source": [
    "# Prepare test data\n",
    "print(\"Start\")\n",
    "test_df_input = test_df.copy()\n",
    "\n",
    "# Convert 'time' columns to datetime\n",
    "df['time'] = pd.to_datetime(df['time'], errors='coerce')\n",
    "test_df_input['time'] = pd.to_datetime(test_df_input['time'], errors='coerce')\n",
    "\n",
    "# Merge vessel information\n",
    "vessel_df_test = vessel_df.drop(columns=[\"maxHeight\", \"maxWidth\", \"rampCapacity\", \"shippingLineId\", \"homePort\"], axis=1)\n",
    "test_df_input = test_df_input.merge(vessel_df_test, on=\"vesselId\")\n",
    "\n",
    "# Retrieve last known values from the training data\n",
    "last_values_df = df.groupby('vesselId').last().reset_index()\n",
    "\n",
    "# Merge last known features into test data\n",
    "test_df_input = test_df_input.merge(last_values_df, on='vesselId', how='left', suffixes=('', '_last'))\n",
    "\n",
    "# Calculate time_since_last_known in minutes\n",
    "test_df_input['time_since_last_known'] = (\n",
    "    (test_df_input['time'] - test_df_input['time_last']).dt.total_seconds() / 60\n",
    ")\n",
    "\n",
    "# Decompose the last known SOG and COG values into x and y components\n",
    "test_df_input['last_known_sog_x'] = test_df_input['sog'] * np.cos(np.radians(test_df_input['cog']))\n",
    "test_df_input['last_known_sog_y'] = test_df_input['sog'] * np.sin(np.radians(test_df_input['cog']))\n",
    "\n",
    "# Calculate moving and stationary flags based on last known values\n",
    "test_df_input['last_known_isMoving'] = ((test_df_input['navstat'] == 0) | (test_df_input['navstat'] == 2) |\n",
    "                                        (test_df_input['navstat'] == 3) | (test_df_input['navstat'] == 4))\n",
    "\n",
    "test_df_input['last_known_isStationary'] = ((test_df_input['navstat'] == 1) | (test_df_input['navstat'] == 5) |\n",
    "                                            (test_df_input['navstat'] == 6))\n",
    "\n",
    "# Select and rename final columns to match the training data features\n",
    "test_df_prepared = test_df_input[['ID','longitude', 'latitude', 'last_known_sog_x', 'last_known_sog_y',\n",
    "                                  'last_known_isMoving', 'last_known_isStationary', 'rot', 'time_since_last_known', 'area_covered']]\n",
    "\n",
    "# Rename last known columns for latitude, longitude, and rot to match training set format\n",
    "test_df_prepared = test_df_prepared.rename(columns={\n",
    "    'latitude': 'last_known_latitude',\n",
    "    'longitude': 'last_known_longitude',\n",
    "    'rot': 'last_known_rot'\n",
    "})\n",
    "\n",
    "# Fill any remaining NaN values with 0\n",
    "test_df_prepared = test_df_prepared.fillna(0)\n",
    "\n",
    "print(\"Prepared Test Data Columns:\", test_df_prepared.columns)\n",
    "print(test_df_prepared.info())\n",
    "\n",
    "test_df_prepared"
   ]
  }
 ],
 "metadata": {
  "kernelspec": {
   "display_name": "Python 3",
   "language": "python",
   "name": "python3"
  },
  "language_info": {
   "codemirror_mode": {
    "name": "ipython",
    "version": 3
   },
   "file_extension": ".py",
   "mimetype": "text/x-python",
   "name": "python",
   "nbconvert_exporter": "python",
   "pygments_lexer": "ipython3",
   "version": "3.10.6"
  }
 },
 "nbformat": 4,
 "nbformat_minor": 2
}
