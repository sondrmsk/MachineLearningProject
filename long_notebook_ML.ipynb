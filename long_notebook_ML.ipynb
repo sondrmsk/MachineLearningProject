{
 "cells": [
  {
   "cell_type": "markdown",
   "metadata": {},
   "source": [
    "# TDT 4173 - Machine Learning Project - Long Notebook"
   ]
  },
  {
   "cell_type": "markdown",
   "metadata": {},
   "source": [
    "### Kaggle team name: 121 - Team Sondre Skjerven"
   ]
  },
  {
   "cell_type": "markdown",
   "metadata": {},
   "source": [
    "#### Participants\n",
    "Name: Hedda Flemmen Holum:) \\\n",
    "Student ID: 544531\n",
    "\n",
    "\n",
    "Name: Sondre Skjerven \\\n",
    "Student ID: 564376\n",
    "\n",
    "\n",
    "Name: Tallak Ravn \\\n",
    "Student ID: 544531"
   ]
  },
  {
   "cell_type": "markdown",
   "metadata": {},
   "source": [
    "| Criteria                              | How we covered it                                                                                                   | Lookup keyword |\n",
    "|---------------------------------------|-----------------------------------------------------------------------------------------------------------------|------------------------|\n",
    "| EDA: Domain Knowledge                 | See below.                                                                                                      | [Domain]               |\n",
    "| EDA: Check intuitive data             | Looked at seasonality and irregular values in the data.                                                         | [Intuitive]            |\n",
    "| EDA: Understand data generation       | See below.                                                                                                      | [Generation]           |\n",
    "| EDA: Explore individual features      | We made feature distribution plots                                                                              | [Individual]           |\n",
    "| EDA: Explore feature pairs & groups   | Made plots for correlation between pv_measurement and the rest of the features. Also plotted correlation matrix with all features. | [Pairs & Groups]       |\n",
    "| EDA: Clean up features                | Removed missing values, consecutive non-zeros, consecutive zeros over length 24                                 | [Cleaning]             |\n",
    "| Multiple types of predictors          | We have tried Pycaret, pure catboost and Autogluon as predictors. Both Pycaret and Autogluon are AutoML models which try several different base models. | [Multiple predictors]  |\n",
    "| Feature engineering                   | Made cosine and sine transformations of the hour, week and month columns.                                      | [Feature engineering]  |\n",
    "| Model interpretation                  | Plotted feature importance for the Pycaret model to see what features have the most explainability. Plotted predictions for all models.            | [Model interpretation] |\n"
   ]
  },
  {
   "cell_type": "markdown",
   "metadata": {},
   "source": [
    "# Reproduction of results"
   ]
  },
  {
   "cell_type": "markdown",
   "metadata": {},
   "source": [
    "The notebooks assume that the data folder is in the same folder as the notebook. \n",
    "\n",
    "Folder structure:\n",
    "\n",
    "short_notebook1.ipynb \\\n",
    "short_notebook2.ipynb\\\n",
    "long_notebook.ipynb\\\n",
    "data (folder)\n"
   ]
  },
  {
   "cell_type": "code",
   "execution_count": null,
   "metadata": {
    "vscode": {
     "languageId": "plaintext"
    }
   },
   "outputs": [],
   "source": [
    "# Uncomment and run the following to install the required packages\n",
    "# !pip install 'nbformat>=4.2.0' (might need to restart kernel after)\n",
    "# !pip install wheel\n",
    "# !pip install -r requirements.txt"
   ]
  },
  {
   "cell_type": "markdown",
   "metadata": {},
   "source": [
    "# Domain Knowledge / Data Generation"
   ]
  },
  {
   "cell_type": "markdown",
   "metadata": {},
   "source": [
    "### AIS Vessel Trajectory Prediction [Domain] Knowledge"
   ]
  },
  {
   "cell_type": "markdown",
   "metadata": {},
   "source": [
    "Info om domain knowledge. eks. Hedda fikser:\n",
    "\n",
    "Solar power is generated through photo voltaic – PV  – cells absorbing the energy from photons emitted by the sun. As so, at the most basic level, the effect of solar panels (the amount of energy they produce) is a result of how much sun they are exposed to (DOE). Of course, panels can therefore not produce energy if the sun is down, i.e. at night. Still, there is more to it. Photons, which can be considered as solar rays, are dependent on striking panels at a sudden minimum angle if they are to be absorbed and not reflected (OSTI). Even though interaction with particles in the atmosphere distorts the direction of photons, their direction is predominantly given by the sun’s angle relative to the surface. Therefore, in the early morning and late afternoon, one might expect the amount of photons that strike the solar panels at a sufficiently steep angle to be less than around the middle of the day when the sun is at its highest. This results in a gradual increase and decrease in PV energy generated at each side of mid-day. \n",
    "\n",
    "Further on, there are other factors that affect the panels’ effect. These factors include whatever might block sunrays from striking the panels, even when the sun is up. This might include fog, clouds or general air humidity which will decrease the direct radiation, but also things that might cover the actual panels, such as snow. Additionally, the temperature of the panels affects their efficiency, as heat results in increased electrical resistance and therefore lower output. For this reason, surface temperatures might be an important factor, as warmer weather will increase the temperature of the panels. Wind should also be taken into consideration, as higher wind speeds should have a cooling effect. A non-external factor that also could be considered is that while aging, panels generally tend to perform worse, as performance typically decreases by 0.5% each year (NRL).\n",
    "\n",
    "OSTI: https://www.osti.gov/servlets/purl/1617300, retrieved 09.11.2023\n",
    "\n",
    "DOE: https://www.energy.gov/eere/solar/how-does-solar-work, retrieved 09.11.2023\n",
    "\n",
    "NRL: https://www.nrel.gov/state-local-tribal/blog/posts/stat-faqs-part2-lifetime-of-pv-panels.html, retrieved 09.11.2023\n",
    "\n",
    "\n"
   ]
  },
  {
   "cell_type": "markdown",
   "metadata": {},
   "source": [
    "### Data [Generation]"
   ]
  },
  {
   "cell_type": "markdown",
   "metadata": {},
   "source": [
    "Eksempel. Hedda fikser på sikt:\n",
    "\n",
    "The dataset shows the amount PV energy generated by by solar panels at three different locations aggregated hourly (pv_measurement), as well as 45 weather related features at the associated location logged every 15 minutes. Further on, while the PV measurements are only historical observed data, the weather features consists of both observed and estimated data. Further on, the historical weather data seems to be mix of in-situ data, as well as remotely sensed data. In-situ data is measure at the location at the event, for example the PV energy (pv_measurement) generated from the solar panels at location A, B and C, as well as data that might have been measured from a ground-based station located closely, such as a radiosonde. The remotely sensed data on the other hand might be derived from entities such as radars and satellites, and does not observe the meteorological phenomenon itself, but instead some consequence of it, and usually makes use of some mathematical modeling in order to provide a feature of interest. For this reason, it is not necessarily as accurate as direct observations (Meteomatics, historical). The estimated part of the weather-related features has naturally been derived from forecasting, which is done through large computer simulations using mathematical and physical laws to predict based on observational input (Meteomatics, forecast).\n",
    "\n",
    "Sources:\n",
    "\n",
    "https://www.meteomatics.com/en/weather-api/historical-weather-data/, retrieved 10.11.23\n",
    "\n",
    "https://www.meteomatics.com/en/weather-api/forecast/, retrieved 10.11.23"
   ]
  },
  {
   "cell_type": "markdown",
   "metadata": {},
   "source": [
    "# Data reading & preprocessing"
   ]
  },
  {
   "cell_type": "code",
   "execution_count": null,
   "metadata": {
    "vscode": {
     "languageId": "plaintext"
    }
   },
   "outputs": [],
   "source": []
  },
  {
   "cell_type": "markdown",
   "metadata": {},
   "source": [
    "## Preprocessing functions [Cleaning]"
   ]
  },
  {
   "cell_type": "code",
   "execution_count": null,
   "metadata": {
    "vscode": {
     "languageId": "plaintext"
    }
   },
   "outputs": [],
   "source": []
  },
  {
   "cell_type": "markdown",
   "metadata": {},
   "source": [
    "## Preprocess pipelines"
   ]
  },
  {
   "cell_type": "markdown",
   "metadata": {},
   "source": [
    "Example:\n",
    "\n",
    "For the preprocessing, we have used the following functions:\n",
    "\n",
    "1. Aggregate the data from 15-minute intervals to hourly\n",
    "2. Join the features with the target variable\n",
    "3. Remove consequtive non-zero values in pv_measurement\n",
    "4. Remove consequtive zero-values above 24 in length from pv_measurement\n",
    "5. Remove missing values in the pv_measurement column, remove some of the columns with a lot of missing values\n",
    "6. Add new features (cosine and sine transformations of hour, months and week)"
   ]
  },
  {
   "cell_type": "code",
   "execution_count": null,
   "metadata": {
    "vscode": {
     "languageId": "plaintext"
    }
   },
   "outputs": [],
   "source": []
  },
  {
   "cell_type": "code",
   "execution_count": null,
   "metadata": {
    "vscode": {
     "languageId": "plaintext"
    }
   },
   "outputs": [],
   "source": [
    "# Preprocess training data"
   ]
  },
  {
   "cell_type": "markdown",
   "metadata": {},
   "source": [
    "# Exploratory Data Analysis"
   ]
  },
  {
   "cell_type": "markdown",
   "metadata": {},
   "source": [
    "## Check if data is [Intuitive]"
   ]
  },
  {
   "cell_type": "code",
   "execution_count": null,
   "metadata": {
    "vscode": {
     "languageId": "plaintext"
    }
   },
   "outputs": [],
   "source": []
  },
  {
   "cell_type": "markdown",
   "metadata": {},
   "source": [
    "### Features with high positive, negative or low correlation with the target variable"
   ]
  },
  {
   "cell_type": "code",
   "execution_count": null,
   "metadata": {
    "vscode": {
     "languageId": "plaintext"
    }
   },
   "outputs": [],
   "source": [
    "# Mekke feature importance plot her"
   ]
  },
  {
   "cell_type": "markdown",
   "metadata": {},
   "source": [
    "### Correlation heatmaps for all features [Pairs & Groups]"
   ]
  },
  {
   "cell_type": "code",
   "execution_count": null,
   "metadata": {
    "vscode": {
     "languageId": "plaintext"
    }
   },
   "outputs": [],
   "source": [
    "# mekke heatmaps, en med \"features with high correlation\", \n",
    "# og en \"features with low correlation\""
   ]
  },
  {
   "cell_type": "markdown",
   "metadata": {},
   "source": [
    "## Exploring differences between observed and estimated data"
   ]
  },
  {
   "cell_type": "markdown",
   "metadata": {},
   "source": [
    "### Time series plot of estimated and observed data"
   ]
  },
  {
   "cell_type": "markdown",
   "metadata": {},
   "source": [
    "Eksempel konklusjon: From the plots below, it looks like there is little difference between the observed and estimated data."
   ]
  },
  {
   "cell_type": "code",
   "execution_count": null,
   "metadata": {
    "vscode": {
     "languageId": "plaintext"
    }
   },
   "outputs": [],
   "source": []
  },
  {
   "cell_type": "markdown",
   "metadata": {},
   "source": [
    "### Distribution plot of estimated and observed data"
   ]
  },
  {
   "cell_type": "markdown",
   "metadata": {},
   "source": [
    "eksempel annen observasjon:\n",
    "\n",
    "However, if we compare the distribution of the data from observed and estimated, we see that there are some differences in the values that the estimated take on (especially in t_1000 and sun_elevation). \n",
    "\n",
    "The difference in distribution for the sun_elevation feature can be explained by the fact that the estimated data is from october to may, meaning that the winter months are overrepresented. This skews the distribution of the sun_elevation in comparison to the observed data, which spans over multiple years. Since sun_elevation is lower during the winter months, the distribution for estimated sun_elevation conists of fewer values of high elevation (>20). The same logic can be applied to the t_1000hPa:K, which is temperature in Kelvin at 1000hPa pressure. \n",
    "\n",
    "We believe these differences are negligible."
   ]
  },
  {
   "cell_type": "code",
   "execution_count": null,
   "metadata": {
    "vscode": {
     "languageId": "plaintext"
    }
   },
   "outputs": [],
   "source": []
  },
  {
   "cell_type": "markdown",
   "metadata": {},
   "source": [
    "# Model testing [Multiple predictors]"
   ]
  },
  {
   "cell_type": "markdown",
   "metadata": {},
   "source": [
    "eksempel:\n",
    "\n",
    "We have tested three types of models: Pycaret, Autogluon and Catboost (and variations/ensembles/stackings of these).\n",
    "\n",
    "In our comparative analysis, each model showed both strengths and weaknesses, with variations in performance metrics across different datasets. Pycaret showcased versatility in automating the ML workflow, Autogluon excelled in time efficiency and ease of use, while Catboost demonstrated superior handling of categorical data and complex relationships. The incorporation of ensemble and stacking techniques further enhanced predictive capabilities, underscoring the potential of hybrid approaches in tackling diverse data challenges."
   ]
  },
  {
   "cell_type": "markdown",
   "metadata": {},
   "source": [
    "## Pycaret"
   ]
  },
  {
   "cell_type": "markdown",
   "metadata": {},
   "source": [
    "eksempel:\n",
    "\n",
    "The group only tried one Pycaret pipeline before changing to Autogluon + Catboost.\n",
    "\n",
    "We tried various hyperparameters, including training time, number of folds, with/without eval set, eval size, none of which ended up outperforming Autogluon or Catboost."
   ]
  },
  {
   "cell_type": "code",
   "execution_count": null,
   "metadata": {
    "vscode": {
     "languageId": "plaintext"
    }
   },
   "outputs": [],
   "source": []
  },
  {
   "cell_type": "markdown",
   "metadata": {},
   "source": [
    "## Autogluon"
   ]
  },
  {
   "cell_type": "markdown",
   "metadata": {},
   "source": [
    "eksempel:\n",
    "\n",
    "For Autogluon, we tried training one model for each location, as well as one model that predicted on all three locations. The first method yielded the best results, both methods are listed below. \n",
    "\n",
    "In addition, we tried a lot of different hyperparameters for Autogluon, experimenting and seeing which combinations gave the best metrics, both locally and on Kaggle. "
   ]
  },
  {
   "cell_type": "markdown",
   "metadata": {},
   "source": [
    "### Autogluon V1"
   ]
  },
  {
   "cell_type": "markdown",
   "metadata": {},
   "source": [
    "eksempel: This model trains one model for each location."
   ]
  },
  {
   "cell_type": "code",
   "execution_count": null,
   "metadata": {
    "vscode": {
     "languageId": "plaintext"
    }
   },
   "outputs": [],
   "source": []
  },
  {
   "cell_type": "markdown",
   "metadata": {},
   "source": [
    "### Autogluon V2"
   ]
  },
  {
   "cell_type": "markdown",
   "metadata": {},
   "source": [
    "eksempel: 3 Autogluon with tuning data, no new features, remove 0 pv during daytime, random sample eval dataset from full dataset"
   ]
  },
  {
   "cell_type": "code",
   "execution_count": null,
   "metadata": {
    "vscode": {
     "languageId": "plaintext"
    }
   },
   "outputs": [],
   "source": []
  },
  {
   "cell_type": "markdown",
   "metadata": {},
   "source": [
    "### Autogluon V3"
   ]
  },
  {
   "cell_type": "markdown",
   "metadata": {},
   "source": [
    "eksmepl: 3 Autogluon without tuning data, no new features, remove 0 pv during daytime"
   ]
  },
  {
   "cell_type": "code",
   "execution_count": null,
   "metadata": {
    "vscode": {
     "languageId": "plaintext"
    }
   },
   "outputs": [],
   "source": []
  },
  {
   "cell_type": "markdown",
   "metadata": {},
   "source": [
    "### Autogluon V4"
   ]
  },
  {
   "cell_type": "markdown",
   "metadata": {},
   "source": [
    "eksempel: Experiment with longer training times Autogluon stacking and ensembling."
   ]
  },
  {
   "cell_type": "code",
   "execution_count": null,
   "metadata": {
    "vscode": {
     "languageId": "plaintext"
    }
   },
   "outputs": [],
   "source": []
  },
  {
   "cell_type": "markdown",
   "metadata": {},
   "source": [
    "### Autogluon V5"
   ]
  },
  {
   "cell_type": "markdown",
   "metadata": {},
   "source": [
    "eksempel: Our best autogluon model so far."
   ]
  },
  {
   "cell_type": "code",
   "execution_count": null,
   "metadata": {
    "vscode": {
     "languageId": "plaintext"
    }
   },
   "outputs": [],
   "source": []
  },
  {
   "cell_type": "markdown",
   "metadata": {},
   "source": [
    "## Catboost"
   ]
  },
  {
   "cell_type": "markdown",
   "metadata": {},
   "source": [
    "eksempel: Our first catboost simple was very simple. We later started experimenting with training multiple catboost models with randomized parameters and randomized train/val split, which proved to give decent results."
   ]
  },
  {
   "cell_type": "markdown",
   "metadata": {},
   "source": [
    "### Catboost V1"
   ]
  },
  {
   "cell_type": "markdown",
   "metadata": {},
   "source": [
    "eksempel: Catboost with one model for all locations"
   ]
  },
  {
   "cell_type": "code",
   "execution_count": null,
   "metadata": {
    "vscode": {
     "languageId": "plaintext"
    }
   },
   "outputs": [],
   "source": []
  },
  {
   "cell_type": "markdown",
   "metadata": {},
   "source": [
    "### Catboost V2"
   ]
  },
  {
   "cell_type": "markdown",
   "metadata": {},
   "source": [
    "eksempel: Catboost with one model for each location"
   ]
  },
  {
   "cell_type": "code",
   "execution_count": null,
   "metadata": {
    "vscode": {
     "languageId": "plaintext"
    }
   },
   "outputs": [],
   "source": []
  },
  {
   "cell_type": "markdown",
   "metadata": {},
   "source": [
    "### Catboost V3"
   ]
  },
  {
   "cell_type": "markdown",
   "metadata": {},
   "source": [
    "eksempel: Catboost ensemble model, training 20 catboost models with random train val split (to increase variance before averaging). "
   ]
  },
  {
   "cell_type": "code",
   "execution_count": null,
   "metadata": {
    "vscode": {
     "languageId": "plaintext"
    }
   },
   "outputs": [],
   "source": []
  },
  {
   "cell_type": "markdown",
   "metadata": {},
   "source": [
    "### Catboost V4"
   ]
  },
  {
   "cell_type": "markdown",
   "metadata": {},
   "source": [
    "eksempel: Training 20 catboost models with random train val split and random parameters (within given ranges)"
   ]
  },
  {
   "cell_type": "code",
   "execution_count": null,
   "metadata": {
    "vscode": {
     "languageId": "plaintext"
    }
   },
   "outputs": [],
   "source": []
  },
  {
   "cell_type": "markdown",
   "metadata": {},
   "source": [
    "### Catboost V5"
   ]
  },
  {
   "cell_type": "markdown",
   "metadata": {},
   "source": [
    "eksempel: Our best catboost model. Ensemble model."
   ]
  },
  {
   "cell_type": "code",
   "execution_count": null,
   "metadata": {
    "vscode": {
     "languageId": "plaintext"
    }
   },
   "outputs": [],
   "source": []
  },
  {
   "cell_type": "markdown",
   "metadata": {},
   "source": [
    "## Average models"
   ]
  },
  {
   "cell_type": "markdown",
   "metadata": {},
   "source": [
    "Eksempel: In addition to Catboost and Autogluon, we found that averaging them out with a weighted average produced good scores. \n",
    "\n",
    "Since our catboost models performed a bit better than the autogluon, we decided to weight the catboost models a bit higher.\n",
    "\n",
    "The average models are the ones that performed the best on kaggle.\n",
    "\n",
    "The submissions were produced by separately running the Autogluon and catboost models, then averaging the final test predictions."
   ]
  },
  {
   "cell_type": "markdown",
   "metadata": {},
   "source": [
    "### Model 1: Autogluon"
   ]
  },
  {
   "cell_type": "code",
   "execution_count": null,
   "metadata": {
    "vscode": {
     "languageId": "plaintext"
    }
   },
   "outputs": [],
   "source": []
  },
  {
   "cell_type": "markdown",
   "metadata": {},
   "source": [
    "#### Autogluon"
   ]
  },
  {
   "cell_type": "code",
   "execution_count": null,
   "metadata": {
    "vscode": {
     "languageId": "plaintext"
    }
   },
   "outputs": [],
   "source": []
  },
  {
   "cell_type": "markdown",
   "metadata": {},
   "source": [
    "#### Train one model for each location"
   ]
  },
  {
   "cell_type": "code",
   "execution_count": null,
   "metadata": {
    "vscode": {
     "languageId": "plaintext"
    }
   },
   "outputs": [],
   "source": []
  },
  {
   "cell_type": "markdown",
   "metadata": {},
   "source": [
    "#### Plotting"
   ]
  },
  {
   "cell_type": "code",
   "execution_count": null,
   "metadata": {
    "vscode": {
     "languageId": "plaintext"
    }
   },
   "outputs": [],
   "source": []
  },
  {
   "cell_type": "markdown",
   "metadata": {},
   "source": [
    "#### Submission"
   ]
  },
  {
   "cell_type": "code",
   "execution_count": null,
   "metadata": {
    "vscode": {
     "languageId": "plaintext"
    }
   },
   "outputs": [],
   "source": []
  },
  {
   "cell_type": "markdown",
   "metadata": {},
   "source": [
    "### Model 2: Catboost"
   ]
  },
  {
   "cell_type": "markdown",
   "metadata": {},
   "source": [
    "#### Import libraries"
   ]
  },
  {
   "cell_type": "code",
   "execution_count": null,
   "metadata": {
    "vscode": {
     "languageId": "plaintext"
    }
   },
   "outputs": [],
   "source": []
  },
  {
   "cell_type": "markdown",
   "metadata": {},
   "source": [
    "### Ensemble: Weighted average of Model 1 and Model 2"
   ]
  },
  {
   "cell_type": "code",
   "execution_count": null,
   "metadata": {
    "vscode": {
     "languageId": "plaintext"
    }
   },
   "outputs": [],
   "source": []
  }
 ],
 "metadata": {
  "language_info": {
   "name": "python"
  }
 },
 "nbformat": 4,
 "nbformat_minor": 2
}
