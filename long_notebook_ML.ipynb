{
 "cells": [
  {
   "cell_type": "markdown",
   "metadata": {},
   "source": [
    "# TDT 4173 - Machine Learning Project - Long Notebook"
   ]
  },
  {
   "cell_type": "markdown",
   "metadata": {},
   "source": [
    "### Kaggle team name: 121 - Team Sondre Skjerven"
   ]
  },
  {
   "cell_type": "markdown",
   "metadata": {},
   "source": [
    "\n",
    "#### Participants\n",
    "Name: Hedda Flemmen Holum:) \\\n",
    "Student ID: 544531\n",
    "\n",
    "\n",
    "Name: Sondre Skjerven \\\n",
    "Student ID: 564376\n",
    "\n",
    "\n",
    "Name: Tallak Ravn \\\n",
    "Student ID: 544531"
   ]
  },
  {
   "cell_type": "markdown",
   "metadata": {},
   "source": [
    "| Criteria                              | How we covered it                                                                                                   | Lookup keyword |\n",
    "|---------------------------------------|-----------------------------------------------------------------------------------------------------------------|------------------------|\n",
    "| EDA: Domain Knowledge                 | See below.                                                                                                      | [Domain]               |\n",
    "| EDA: Check intuitive data             | Explain time series and how data must be understood.                                                         | [Intuitive]            |\n",
    "| EDA: Understand data generation       | See below.                                                                                                      | [Generation]           |\n",
    "| EDA: Explore individual features      | We made feature distribution plots                                                                              | [Individual]           |\n",
    "| EDA: Explore feature pairs & groups   | Made plots for correlation between pv_measurement and the rest of the features. Also plotted correlation matrix with all features. | [Pairs & Groups]       |\n",
    "| EDA: Clean up features                | Removed missing values, consecutive non-zeros, consecutive zeros over length 24                                 | [Cleaning]             |\n",
    "| Multiple types of predictors          | We have tried Pycaret, pure catboost and Autogluon as predictors. Both Pycaret and Autogluon are AutoML models which try several different base models. | [Multiple predictors]  |\n",
    "| Feature engineering                   | Made cosine and sine transformations of the hour, week and month columns.                                      | [Feature engineering]  |\n",
    "| Model interpretation                  | Plotted feature importance for the Pycaret model to see what features have the most explainability. Plotted predictions for all models.            | [Model interpretation] |\n"
   ]
  },
  {
   "cell_type": "markdown",
   "metadata": {},
   "source": [
    "# Reproduction of results"
   ]
  },
  {
   "cell_type": "markdown",
   "metadata": {},
   "source": [
    "The notebooks assume that the data folder is in the same folder as the notebook. \n",
    "\n",
    "Folder structure:\n",
    "\n",
    "short_notebook1.ipynb \\\n",
    "short_notebook2.ipynb\\\n",
    "long_notebook_ML.ipynb\\\n",
    "data (folder)\n"
   ]
  },
  {
   "cell_type": "code",
   "execution_count": null,
   "metadata": {},
   "outputs": [],
   "source": [
    "# Uncomment and run the following to install the required packages\n",
    "# !pip install 'nbformat>=4.2.0' (might need to restart kernel after)\n",
    "# !pip install wheel\n",
    "# !pip install -r requirements.txt"
   ]
  },
  {
   "cell_type": "markdown",
   "metadata": {},
   "source": [
    "# Domain Knowledge / Data Generation / Data Intuition"
   ]
  },
  {
   "cell_type": "markdown",
   "metadata": {},
   "source": [
    "### AIS Vessel Trajectory Prediction [Domain] Knowledge"
   ]
  },
  {
   "cell_type": "markdown",
   "metadata": {},
   "source": [
    "Automatic Identification System (AIS) is an internationally adopted system for tracking and identifying vessels to improve maritime safety. AIS operates by using transponders that broadcast a vessel's location, speed, heading, and identity, which can then be received by other vessels and coastal stations within VHF range. The system’s self-organizing time division multiple access (SOTDMA) allows efficient use of radio channels, even in crowded maritime environments, by assigning specific time slots for each transmission. This autonomous setup ensures that vessels in proximity receive accurate data without signal interference or delay (United States Coast Guard, n.d.-b).\n",
    "\n",
    "AIS data includes essential navigation information such as Course Over Ground (COG), Speed Over Ground (SOG), and navigational status, which together offer a snapshot of each vessel's behavior and movement at any given time. However, various factors affect AIS data reliability. For example, environmental elements like poor visibility, high traffic, or obstruction from land masses can distort or limit signal accuracy, impacting both real-time monitoring and historical data analysis for machine learning purposes (International Maritime Organization, n.d.).\n",
    "\n",
    "The system is required on most large vessels under SOLAS regulations, but not all smaller vessels are mandated to carry AIS transponders. As a result, AIS data may have coverage gaps, especially in regions where smaller vessels are prevalent. The continuous broadcast requirement ensures that equipped vessels are always visible unless they turn off the transponder for security or operational reasons. This makes AIS a critical tool for monitoring vessel movements, but limitations in its coverage and reliability mean that additional data sources may be necessary to complete the maritime traffic picture (United States Coast Guard, n.d.-a).\n",
    "\n",
    "AIS has evolved to address both collision prevention and maritime traffic monitoring. It enables vessels to identify others by name, position, and vector, aiding in collision avoidance and allowing early maneuvers to prevent accidents. Additionally, AIS data is archived, providing valuable historical data for studying maritime patterns and informing predictive models, making it a vital source for machine learning applications aimed at trajectory prediction and anomaly detection (Kystverket, n.d.).\n",
    "\n",
    "Despite its advantages, AIS data is susceptible to human errors and discrepancies. Studies have shown that errors in inputting vessel information, such as incorrect speed or heading, can lead to misleading transmissions, posing a risk if AIS data is heavily relied upon without verification. For machine learning models, understanding and accounting for these potential inaccuracies is crucial for enhancing prediction reliability (Harati-Mokhtari et al., 2007).\n",
    "\n",
    "__References:__ \n",
    "\n",
    "Harati-Mokhtari, A., Wall, A., Brooks, P., & Wang, J. (2007). Automatic Identification System (AIS): Data reliability and human error implications. _Journal of Navigation, 60(3)_, 373–389. https://doi.org/10.1017/S0373463307004298\n",
    "\n",
    "International Maritime Organization. (n.d.). AIS transponders. Retrieved from https://www.imo.org/en/OurWork/safety/navigation/ais.aspx (08.11.24)\n",
    "\n",
    "Kystverket. (n.d.). AIS Norge. Retrieved from https://www.kystverket.no/navigasjonstjenester/ais/ais-artikkelside/ (08.11.24)\n",
    "\n",
    "United States Coast Guard. (n.d.-a). Automatic identification system overview. Retrieved from https://www.navcen.uscg.gov/automatic-identification-system-overview (08.11.24)\n",
    "\n",
    "United States Coast Guard. (n.d.-b). How AIS works. Retrieved from https://www.navcen.uscg.gov/how-ais-works (08.11.24)"
   ]
  },
  {
   "cell_type": "markdown",
   "metadata": {},
   "source": [
    "### Data generation and structure"
   ]
  },
  {
   "cell_type": "markdown",
   "metadata": {},
   "source": [
    "The main dataset in the project is the AIS data (\"Automatic Identification system\"). An international collection of vessels is equipped with a system allowing for real time tracking of a number of variables. The dataset provides real time info about the individual vessels, including their speed and course. In order to ensure a well-functioning and safe international maritime traffic, this form of data is critical. Examples of the specific use cases are navigation and collision avoidance. As emphasized in the documentation and the project handout, the data might include inaccuracies due to signal errors or humans. This will be addressed later.\n",
    "\n",
    "It's also worth giving some introductory information about the data structure. A single row/record in the AIS dataset represents a single observation of a specific vessel at a specific time, including variables such as the observed speed and course. Filtering on a single vessel (by a uniquely identifying 'vesselId') and sorted by time yields a dataset of the overall observed trajectory for that specific vessel (as illustated by the handout 'Visualize_last_vessel_pos.ipynb'). A row is uniquely identified by its timestamp ('time') combined with the vessel ('vesselId').\n",
    "\n",
    "The handout also includes a vessel dataset, with information regarding the shipping line, volume, type and dimensions among others. This dataset can be linked to AIS as dimensional data joined on the vesselIds. Furthermore, there is also a port dataset, with information regarding the ports with corresponding position, name and countries. This set can also be combined with the AIS data using the 'portId' column.\n"
   ]
  },
  {
   "cell_type": "markdown",
   "metadata": {},
   "source": [
    "### Data intuition"
   ]
  },
  {
   "cell_type": "markdown",
   "metadata": {},
   "source": [
    "It's worth dedicating some attention to understanding the data and creating a fundamental intuition regarding the relation between the training and the test set. To do this, we will use snippets from the set. The train set is represented through the 50 000 first rows in the set:"
   ]
  },
  {
   "cell_type": "code",
   "execution_count": 2,
   "metadata": {},
   "outputs": [
    {
     "data": {
      "text/html": [
       "<div>\n",
       "<style scoped>\n",
       "    .dataframe tbody tr th:only-of-type {\n",
       "        vertical-align: middle;\n",
       "    }\n",
       "\n",
       "    .dataframe tbody tr th {\n",
       "        vertical-align: top;\n",
       "    }\n",
       "\n",
       "    .dataframe thead th {\n",
       "        text-align: right;\n",
       "    }\n",
       "</style>\n",
       "<table border=\"1\" class=\"dataframe\">\n",
       "  <thead>\n",
       "    <tr style=\"text-align: right;\">\n",
       "      <th></th>\n",
       "      <th>time</th>\n",
       "      <th>cog</th>\n",
       "      <th>sog</th>\n",
       "      <th>rot</th>\n",
       "      <th>heading</th>\n",
       "      <th>navstat</th>\n",
       "      <th>etaRaw</th>\n",
       "      <th>latitude</th>\n",
       "      <th>longitude</th>\n",
       "      <th>vesselId</th>\n",
       "      <th>portId</th>\n",
       "    </tr>\n",
       "  </thead>\n",
       "  <tbody>\n",
       "    <tr>\n",
       "      <th>0</th>\n",
       "      <td>2024-01-01 00:00:25</td>\n",
       "      <td>284.0</td>\n",
       "      <td>0.7</td>\n",
       "      <td>0</td>\n",
       "      <td>88</td>\n",
       "      <td>0</td>\n",
       "      <td>01-09 23:00</td>\n",
       "      <td>-34.74370</td>\n",
       "      <td>-57.85130</td>\n",
       "      <td>61e9f3a8b937134a3c4bfdf7</td>\n",
       "      <td>61d371c43aeaecc07011a37f</td>\n",
       "    </tr>\n",
       "    <tr>\n",
       "      <th>1</th>\n",
       "      <td>2024-01-01 00:00:36</td>\n",
       "      <td>109.6</td>\n",
       "      <td>0.0</td>\n",
       "      <td>-6</td>\n",
       "      <td>347</td>\n",
       "      <td>1</td>\n",
       "      <td>12-29 20:00</td>\n",
       "      <td>8.89440</td>\n",
       "      <td>-79.47939</td>\n",
       "      <td>61e9f3d4b937134a3c4bff1f</td>\n",
       "      <td>634c4de270937fc01c3a7689</td>\n",
       "    </tr>\n",
       "    <tr>\n",
       "      <th>2</th>\n",
       "      <td>2024-01-01 00:01:45</td>\n",
       "      <td>111.0</td>\n",
       "      <td>11.0</td>\n",
       "      <td>0</td>\n",
       "      <td>112</td>\n",
       "      <td>0</td>\n",
       "      <td>01-02 09:00</td>\n",
       "      <td>39.19065</td>\n",
       "      <td>-76.47567</td>\n",
       "      <td>61e9f436b937134a3c4c0131</td>\n",
       "      <td>61d3847bb7b7526e1adf3d19</td>\n",
       "    </tr>\n",
       "    <tr>\n",
       "      <th>3</th>\n",
       "      <td>2024-01-01 00:03:11</td>\n",
       "      <td>96.4</td>\n",
       "      <td>0.0</td>\n",
       "      <td>0</td>\n",
       "      <td>142</td>\n",
       "      <td>1</td>\n",
       "      <td>12-31 20:00</td>\n",
       "      <td>-34.41189</td>\n",
       "      <td>151.02067</td>\n",
       "      <td>61e9f3b4b937134a3c4bfe77</td>\n",
       "      <td>61d36f770a1807568ff9a126</td>\n",
       "    </tr>\n",
       "    <tr>\n",
       "      <th>4</th>\n",
       "      <td>2024-01-01 00:03:51</td>\n",
       "      <td>214.0</td>\n",
       "      <td>19.7</td>\n",
       "      <td>0</td>\n",
       "      <td>215</td>\n",
       "      <td>0</td>\n",
       "      <td>01-25 12:00</td>\n",
       "      <td>35.88379</td>\n",
       "      <td>-5.91636</td>\n",
       "      <td>61e9f41bb937134a3c4c0087</td>\n",
       "      <td>634c4de270937fc01c3a74f3</td>\n",
       "    </tr>\n",
       "  </tbody>\n",
       "</table>\n",
       "</div>"
      ],
      "text/plain": [
       "                  time    cog   sog  rot  heading  navstat       etaRaw   \n",
       "0  2024-01-01 00:00:25  284.0   0.7    0       88        0  01-09 23:00  \\\n",
       "1  2024-01-01 00:00:36  109.6   0.0   -6      347        1  12-29 20:00   \n",
       "2  2024-01-01 00:01:45  111.0  11.0    0      112        0  01-02 09:00   \n",
       "3  2024-01-01 00:03:11   96.4   0.0    0      142        1  12-31 20:00   \n",
       "4  2024-01-01 00:03:51  214.0  19.7    0      215        0  01-25 12:00   \n",
       "\n",
       "   latitude  longitude                  vesselId                    portId  \n",
       "0 -34.74370  -57.85130  61e9f3a8b937134a3c4bfdf7  61d371c43aeaecc07011a37f  \n",
       "1   8.89440  -79.47939  61e9f3d4b937134a3c4bff1f  634c4de270937fc01c3a7689  \n",
       "2  39.19065  -76.47567  61e9f436b937134a3c4c0131  61d3847bb7b7526e1adf3d19  \n",
       "3 -34.41189  151.02067  61e9f3b4b937134a3c4bfe77  61d36f770a1807568ff9a126  \n",
       "4  35.88379   -5.91636  61e9f41bb937134a3c4c0087  634c4de270937fc01c3a74f3  "
      ]
     },
     "execution_count": 2,
     "metadata": {},
     "output_type": "execute_result"
    }
   ],
   "source": [
    "import pandas as pd\n",
    "\n",
    "train_set = pd.read_csv('first_50000_rows.csv', sep='|')\n",
    "train_set.head(5)"
   ]
  },
  {
   "cell_type": "code",
   "execution_count": 3,
   "metadata": {},
   "outputs": [
    {
     "data": {
      "text/html": [
       "<div>\n",
       "<style scoped>\n",
       "    .dataframe tbody tr th:only-of-type {\n",
       "        vertical-align: middle;\n",
       "    }\n",
       "\n",
       "    .dataframe tbody tr th {\n",
       "        vertical-align: top;\n",
       "    }\n",
       "\n",
       "    .dataframe thead th {\n",
       "        text-align: right;\n",
       "    }\n",
       "</style>\n",
       "<table border=\"1\" class=\"dataframe\">\n",
       "  <thead>\n",
       "    <tr style=\"text-align: right;\">\n",
       "      <th></th>\n",
       "      <th>ID</th>\n",
       "      <th>vesselId</th>\n",
       "      <th>time</th>\n",
       "      <th>scaling_factor</th>\n",
       "    </tr>\n",
       "  </thead>\n",
       "  <tbody>\n",
       "    <tr>\n",
       "      <th>0</th>\n",
       "      <td>0</td>\n",
       "      <td>61e9f3aeb937134a3c4bfe3d</td>\n",
       "      <td>2024-05-08 00:03:16</td>\n",
       "      <td>0.3</td>\n",
       "    </tr>\n",
       "    <tr>\n",
       "      <th>1</th>\n",
       "      <td>1</td>\n",
       "      <td>61e9f473b937134a3c4c02df</td>\n",
       "      <td>2024-05-08 00:06:17</td>\n",
       "      <td>0.3</td>\n",
       "    </tr>\n",
       "    <tr>\n",
       "      <th>2</th>\n",
       "      <td>2</td>\n",
       "      <td>61e9f469b937134a3c4c029b</td>\n",
       "      <td>2024-05-08 00:10:02</td>\n",
       "      <td>0.3</td>\n",
       "    </tr>\n",
       "    <tr>\n",
       "      <th>3</th>\n",
       "      <td>3</td>\n",
       "      <td>61e9f45bb937134a3c4c0221</td>\n",
       "      <td>2024-05-08 00:10:34</td>\n",
       "      <td>0.3</td>\n",
       "    </tr>\n",
       "    <tr>\n",
       "      <th>4</th>\n",
       "      <td>4</td>\n",
       "      <td>61e9f38eb937134a3c4bfd8d</td>\n",
       "      <td>2024-05-08 00:12:27</td>\n",
       "      <td>0.3</td>\n",
       "    </tr>\n",
       "  </tbody>\n",
       "</table>\n",
       "</div>"
      ],
      "text/plain": [
       "   ID                  vesselId                 time  scaling_factor\n",
       "0   0  61e9f3aeb937134a3c4bfe3d  2024-05-08 00:03:16             0.3\n",
       "1   1  61e9f473b937134a3c4c02df  2024-05-08 00:06:17             0.3\n",
       "2   2  61e9f469b937134a3c4c029b  2024-05-08 00:10:02             0.3\n",
       "3   3  61e9f45bb937134a3c4c0221  2024-05-08 00:10:34             0.3\n",
       "4   4  61e9f38eb937134a3c4bfd8d  2024-05-08 00:12:27             0.3"
      ]
     },
     "execution_count": 3,
     "metadata": {},
     "output_type": "execute_result"
    }
   ],
   "source": [
    "test_set = pd.read_csv('ais_test.csv')\n",
    "test_set.head(5)"
   ]
  },
  {
   "cell_type": "markdown",
   "metadata": {},
   "source": [
    "The main thing to note here is that the training set includes a number of features that are not present in the test set. As an immediate conclusion, we can say that we will have to find a work-around for this. The core idea behind machine learning regression is to use a target variable's relationship with other variables to make predictions about the target variable when we don't have access to the target variable itself. A model trained on data with columns A, B, C, D and E might be able to say something about the probable values of E when only provided data with columns A, B, C and D if there are indeed underlying relationships between E and any of the remaining columns.\n",
    "\n",
    "Quickly looking at the datasets, we see that the only variables in common between the train and the test set are the \"vesselId\" and the \"time\" columns. Without any modification, and using our previous illustration, a simple regression using these datasets directly would therefore require that the model should predict positions ***purely*** based on a vesselId and a time, without any other information. This surely appears to be a hard task. Adding to that the fact that all the test records appear at a later stage in time than all the train records, we can conclude that we really have to structure things in a different manner.\n",
    "\n",
    "We do, however, indeed have more information relevant to the test sets. Even though we can't create columns such as 'rot', 'cog' and 'sog' from thin air, we can leverage the fact that we have access to historical data. A core idea to get comfortable with as we move along is that the data records should be viewed in relation ***to eachother*** as time series - not just by themselves.\n",
    "\n",
    "Without diving into the technicals quite yet, we will reveal that looking at the ***earlier positions*** of the vessel will be a key way to address this data complexity issue. We can for example, at all points in time, know with certainty what was the ***last observed*** position of a vessel."
   ]
  },
  {
   "cell_type": "markdown",
   "metadata": {},
   "source": [
    "# Exploring the data / EDA"
   ]
  },
  {
   "cell_type": "markdown",
   "metadata": {},
   "source": [
    "### Initial look at the columns"
   ]
  },
  {
   "cell_type": "markdown",
   "metadata": {},
   "source": [
    "In order to wrap our heads around the data we are dealing with, we explore our dataset a bit. For now, we will be dealing exclusively with the training set, as the test set are only timestamps and vesselIds."
   ]
  },
  {
   "cell_type": "code",
   "execution_count": null,
   "metadata": {},
   "outputs": [
    {
     "name": "stdout",
     "output_type": "stream",
     "text": [
      "<class 'pandas.core.frame.DataFrame'>\n",
      "RangeIndex: 50000 entries, 0 to 49999\n",
      "Data columns (total 11 columns):\n",
      " #   Column     Non-Null Count  Dtype  \n",
      "---  ------     --------------  -----  \n",
      " 0   time       50000 non-null  object \n",
      " 1   cog        50000 non-null  float64\n",
      " 2   sog        50000 non-null  float64\n",
      " 3   rot        50000 non-null  int64  \n",
      " 4   heading    50000 non-null  int64  \n",
      " 5   navstat    50000 non-null  int64  \n",
      " 6   etaRaw     50000 non-null  object \n",
      " 7   latitude   50000 non-null  float64\n",
      " 8   longitude  50000 non-null  float64\n",
      " 9   vesselId   50000 non-null  object \n",
      " 10  portId     49797 non-null  object \n",
      "dtypes: float64(4), int64(3), object(4)\n",
      "memory usage: 4.2+ MB\n"
     ]
    }
   ],
   "source": [
    "train_set.info()\n",
    "\n",
    "# TODO: argumenter for at PortId kan fjernes pga alle de som mangler \n",
    "# TODO: etaRaw kan fjernes også?"
   ]
  },
  {
   "cell_type": "markdown",
   "metadata": {},
   "source": [
    "As we see, the set has very few missing data points. This is lucky for us, as missing values necessarily require handling, and we as data analysts are responsible for doing exactly that in an appropriate way. The data might however, still be bad. We will dive deeper into that aspect later. As of now, we can conclude that no columns are excluded purely because of too many missing values.\n",
    "\n",
    "Moving on, we would like to see the different values and ranges appearing in the columns:"
   ]
  },
  {
   "cell_type": "code",
   "execution_count": 12,
   "metadata": {},
   "outputs": [
    {
     "name": "stdout",
     "output_type": "stream",
     "text": [
      "time - Unique values count: 31859\n",
      "cog - Unique values count: 3597\n",
      "sog - Unique values count: 243\n",
      "rot - Unique values count: 73\n",
      "heading - Unique values count: 361\n",
      "navstat - Unique values count: 7\n",
      "etaRaw - Unique values count: 621\n",
      "latitude - Unique values count: 25780\n",
      "longitude - Unique values count: 26269\n",
      "vesselId - Unique values count: 435\n",
      "portId - Unique values count: 380\n"
     ]
    }
   ],
   "source": [
    "for column in train_set.columns:\n",
    "    print(f\"{column} - Unique values count: {train_set[column].nunique()}\")"
   ]
  },
  {
   "cell_type": "markdown",
   "metadata": {},
   "source": [
    "As we see, most of the columns have a wide range of different values. This makes perfect sense, as well documented and explained in the 'Dataset definitions and explanations' file in the handout. In fact, most columns are actually continous as well. This means that the set of possible values for the column is infinitely large (at least in theory), even though there might be restrictions on the minimum and maximum values. An example would be longitudes and latitudes, which are recorded as float values (decimals). There are infinitely many decimal numbers between any two arbitrary decimal numbers, so there should be an unrestricted amount of lonitudes and latitudes in the range of possible values. To be fair, the devices recording the longitudes and latitudes (and other variables) are probably object to physical constraints, and only able to track position to a certain decimal. So, in practice there might in fact be a finite number of possible values for these. Nevertheless, we will move on viewing the sets of possibilities for these as infinitely big.\n",
    "\n",
    "The only columns that are truly categorical are navstat, vesselId and portId. \n",
    "\n",
    "- ***Navstat***: Indicating one of 16 different 'navigational statuses' (documentation). These are discrete, mutually exclusive states implemented through integer values from 0 to 15. There are only 16 possible values (and possibly fewer in practice).\n",
    "\n",
    "- ***vesselId***: Indicating which of the 711 possible vessels is observed in the record. These are also discrete, mutually exclusive IDs referring to vessels present in the 'vessels.csv' file.\n",
    "\n",
    "- ***portId***: Similar to the vesselId: Indicating which of the possible 1329 is set by the captain either as destination or origin port. Can only be an existing port."
   ]
  },
  {
   "cell_type": "markdown",
   "metadata": {},
   "source": [
    "### Distribution of values\n",
    "må gå over \"konklusjonene\" for de gir ikke helt mening nå. må også sjekke hvilke type båter som faktisk blir tracket med ais mtp realistik speed. må også sjekke opp i hva 112,2 og 112,3 betyr?"
   ]
  },
  {
   "cell_type": "code",
   "execution_count": 5,
   "metadata": {},
   "outputs": [],
   "source": [
    "import pandas as pd\n",
    "import matplotlib.pyplot as plt\n",
    "\n",
    "# Load the data\n",
    "data = pd.read_csv('ais_train.csv', delimiter='|')"
   ]
  },
  {
   "cell_type": "markdown",
   "metadata": {},
   "source": [
    "#### Speed Over Ground (SOG) !!!!!!!!!!!!!!!!!!!!!!!!!!!!!!!"
   ]
  },
  {
   "cell_type": "code",
   "execution_count": 8,
   "metadata": {},
   "outputs": [
    {
     "data": {
      "image/png": "[encoded data removed]",
      "text/plain": [
       "<Figure size 720x432 with 1 Axes>"
      ]
     },
     "metadata": {
      "needs_background": "light"
     },
     "output_type": "display_data"
    }
   ],
   "source": [
    "# Plotting the histogram for Speed Over Ground (SOG)\n",
    "plt.figure(figsize=(10, 6))\n",
    "plt.hist(data['sog'], bins=50, color='blue', edgecolor='black')\n",
    "plt.title('Distribution of Speed Over Ground (SOG)')\n",
    "plt.xlabel('Speed Over Ground (sog) in knots')\n",
    "plt.ylabel('Frequency')\n",
    "plt.grid(axis='y', alpha=0.75)\n",
    "plt.show()"
   ]
  },
  {
   "cell_type": "markdown",
   "metadata": {},
   "source": [
    "The initial histogram of Speed Over Ground (SOG) shows that more than half of the data entries are from times when vessels are stationary or in port, indicated by a speed of zero. For entries where vessels are in motion, speeds cluster between 0 and 25 knots, which aligns with typical maritime transit speeds. The presence of high values (e.g., 102.3 knots) is likely due to data errors, as the fastest recorded cargo ship reaches only 34.97 knots. Therefore, speeds above 35 knots are considered implausible and have been removed from the dataset. The significant concentration of zero-speed entries aligns with the expectation that a substantial portion of vessels are stationary or at low speeds, possibly anchored or moored."
   ]
  },
  {
   "cell_type": "markdown",
   "metadata": {},
   "source": [
    "#### Rate of Turn (ROT)"
   ]
  },
  {
   "cell_type": "code",
   "execution_count": 10,
   "metadata": {},
   "outputs": [
    {
     "data": {
      "image/png": "[encoded data removed]",
      "text/plain": [
       "<Figure size 720x432 with 1 Axes>"
      ]
     },
     "metadata": {
      "needs_background": "light"
     },
     "output_type": "display_data"
    }
   ],
   "source": [
    "# Plotting the histogram for Rate of Turn (ROT)\n",
    "plt.figure(figsize=(10, 6))\n",
    "plt.hist(data['rot'], bins=50, color='purple', edgecolor='black')\n",
    "plt.title('Distribution of Rate of Turn (ROT)')\n",
    "plt.xlabel('Rate of Turn (ROT) in degrees per minute')\n",
    "plt.ylabel('Frequency')\n",
    "plt.grid(axis='y', alpha=0.75)\n",
    "plt.show()\n"
   ]
  },
  {
   "cell_type": "code",
   "execution_count": 12,
   "metadata": {},
   "outputs": [
    {
     "name": "stdout",
     "output_type": "stream",
     "text": [
      "Turning right (0 to +126): 169035 entries\n",
      "Turning left (0 to -126): 168051 entries\n",
      "Turning right (> +127): 11339 entries\n",
      "Turning left (< -127): 11042 entries\n",
      "No turn information (-128): 0 entries\n",
      "Stationary (ROT = 0): 1157035 entries\n"
     ]
    }
   ],
   "source": [
    "import pandas as pd\n",
    "\n",
    "# Define the categories for ROT\n",
    "categories = {\n",
    "    \"Turning right (0 to +126)\": data[(data['rot'] > 0) & (data['rot'] <= 126)].shape[0],\n",
    "    \"Turning left (0 to -126)\": data[(data['rot'] < 0) & (data['rot'] >= -126)].shape[0],\n",
    "    \"Turning right (> +127)\": data[data['rot'] == 127].shape[0],\n",
    "    \"Turning left (< -127)\": data[data['rot'] == -127].shape[0],\n",
    "    \"No turn information (-128)\": data[data['rot'] == -128].shape[0],\n",
    "    \"Stationary (ROT = 0)\": data[data['rot'] == 0].shape[0]\n",
    "}\n",
    "\n",
    "# Display the counts for each category\n",
    "for category, count in categories.items():\n",
    "    print(f\"{category}: {count} entries\")"
   ]
  },
  {
   "cell_type": "markdown",
   "metadata": {},
   "source": [
    "The Rate of Turn (ROT) histogram reveals key patterns in vessel maneuvering behavior. The majority of entries, approximately 1.2 million, have an ROT of zero, indicating that most vessels are either stationary or maintaining a steady, straight course. Of these, over 800,000 entries likely capture vessels at port with zero speed. For moving vessels, there are 169,035 entries with positive ROT values (0 to +126) representing right turns and 168,051 entries with negative values (0 to -126) representing left turns. These counts suggest balanced maneuvering behavior, with vessels making gradual to sharp turns in both directions up to a maximum of 708 degrees per minute. Additionally, there are 11,339 entries at +127 and 11,042 entries at -127, indicating right and left turns, respectively, with unspecified high turn rates. These entries likely represent sharp or emergency maneuvers, where precise rate information isn’t available. Notably, there are no entries with an ROT of -128, a default AIS value for missing turn information, indicating that ROT data in this dataset is largely complete."
   ]
  },
  {
   "cell_type": "markdown",
   "metadata": {},
   "source": [
    "#### NavStat (Navigational Status)"
   ]
  },
  {
   "cell_type": "code",
   "execution_count": 25,
   "metadata": {},
   "outputs": [
    {
     "data": {
      "image/png": "[encoded data removed]",
      "text/plain": [
       "<Figure size 720x432 with 1 Axes>"
      ]
     },
     "metadata": {
      "needs_background": "light"
     },
     "output_type": "display_data"
    }
   ],
   "source": [
    "# Plotting the bar chart for Navigational Status (NavStat)\n",
    "plt.figure(figsize=(10, 6))\n",
    "data['navstat'].value_counts().sort_index().plot(kind='bar', color='slateblue', edgecolor='black')\n",
    "plt.title('Distribution of Navigational Status (NavStat)')\n",
    "plt.xlabel('Navigational Status')\n",
    "plt.ylabel('Frequency')\n",
    "plt.grid(axis='y', alpha=0.75)\n",
    "plt.show()\n"
   ]
  },
  {
   "cell_type": "code",
   "execution_count": 26,
   "metadata": {},
   "outputs": [
    {
     "name": "stdout",
     "output_type": "stream",
     "text": [
      "navstat\n",
      "0     782099\n",
      "1     129515\n",
      "2       2081\n",
      "3        161\n",
      "4        232\n",
      "5     605831\n",
      "6        521\n",
      "7          1\n",
      "8        948\n",
      "9          1\n",
      "11         2\n",
      "12         1\n",
      "13         1\n",
      "14         1\n",
      "15       670\n",
      "Name: count, dtype: int64\n"
     ]
    }
   ],
   "source": [
    "# Counting occurrences of each NavStat code\n",
    "navstat_counts = data['navstat'].value_counts().sort_index()\n",
    "\n",
    "# Display the counts in a readable format\n",
    "print(navstat_counts)\n"
   ]
  },
  {
   "cell_type": "markdown",
   "metadata": {},
   "source": [
    "The Navigational Status (NavStat) distribution highlights key patterns in vessel operations within the dataset. The majority of entries fall under Code 0 (\"Under way using engine\") with 782,099 occurrences, indicating that most vessels are actively moving. Code 5 (\"Moored\") is the second most common status, with 605,831 entries, suggesting a large number of vessels are stationary at port. Additionally, Code 1 (\"At anchor\") appears in 129,515 entries, reflecting frequent stationary periods near anchorages. Less common statuses, such as Code 2 (\"Not under command\") with 2,081 entries and Code 3 (\"Restricted maneuverability\") with 161 entries, represent exceptional conditions. Rare or reserved codes (e.g., Codes 9, 11–14) have minimal occurrences, likely due to incidental or placeholder data. The Not defined status (Code 15) appears 670 times, possibly indicating default or missing information. Overall, this distribution underscores a dataset that captures a balance between vessels in transit and those at port or anchor, with a minor portion of entries representing unusual operational states."
   ]
  },
  {
   "cell_type": "markdown",
   "metadata": {},
   "source": [
    "#### Course Over Ground (COG)"
   ]
  },
  {
   "cell_type": "code",
   "execution_count": 24,
   "metadata": {},
   "outputs": [
    {
     "data": {
      "image/png": "[encoded data removed]",
      "text/plain": [
       "<Figure size 720x432 with 1 Axes>"
      ]
     },
     "metadata": {
      "needs_background": "light"
     },
     "output_type": "display_data"
    }
   ],
   "source": [
    "# Plotting the histogram for Course Over Ground (COG)\n",
    "plt.figure(figsize=(10, 6))\n",
    "plt.hist(data['cog'], bins=50, color='green', edgecolor='black')\n",
    "plt.title('Distribution of Course Over Ground (COG)')\n",
    "plt.xlabel('Course Over Ground (COG) in degrees')\n",
    "plt.ylabel('Frequency')\n",
    "plt.grid(axis='y', alpha=0.75)\n",
    "plt.show()\n"
   ]
  },
  {
   "cell_type": "markdown",
   "metadata": {},
   "source": [
    "The histogram of Course Over Ground (COG) shows a relatively uniform distribution across the 0-360 degree range, as expected for a large maritime dataset. This spread indicates that vessels are operating in various directions, with no single heading dominating the data. Slight peaks near the edges (around 0 and 360 degrees) and some minor fluctuations suggest possible preferred routes or common navigational patterns, though these are not highly pronounced. Overall, the COG distribution aligns with the expected directional variability of vessel movements."
   ]
  },
  {
   "cell_type": "markdown",
   "metadata": {},
   "source": [
    "#### Heading (heading)"
   ]
  },
  {
   "cell_type": "code",
   "execution_count": 13,
   "metadata": {},
   "outputs": [
    {
     "data": {
      "image/png": "[encoded data removed]",
      "text/plain": [
       "<Figure size 720x432 with 1 Axes>"
      ]
     },
     "metadata": {
      "needs_background": "light"
     },
     "output_type": "display_data"
    }
   ],
   "source": [
    "# Plotting the histogram for Heading\n",
    "plt.figure(figsize=(10, 6))\n",
    "plt.hist(data['heading'], bins=50, color='orange', edgecolor='black')\n",
    "plt.title('Distribution of Heading')\n",
    "plt.xlabel('Heading (degrees)')\n",
    "plt.ylabel('Frequency')\n",
    "plt.grid(axis='y', alpha=0.75)\n",
    "plt.show()\n"
   ]
  },
  {
   "cell_type": "markdown",
   "metadata": {},
   "source": [
    "The histogram of Heading illustrates the orientation of vessels, measured from 0 to 360 degrees. This uniform distribution suggests that vessels are oriented in various directions based on their routes. A small set of entries shows a heading value of 511, which is a default AIS placeholder for unavailable heading data. These entries should be handled appropriately to ensure data accuracy. Within the valid range, slight peaks around certain headings may reflect common navigation routes or patterns."
   ]
  },
  {
   "cell_type": "markdown",
   "metadata": {},
   "source": [
    "#### Latitude and Longitude"
   ]
  },
  {
   "cell_type": "code",
   "execution_count": 14,
   "metadata": {},
   "outputs": [
    {
     "data": {
      "image/png": "[encoded data removed]",
      "text/plain": [
       "<Figure size 720x432 with 1 Axes>"
      ]
     },
     "metadata": {
      "needs_background": "light"
     },
     "output_type": "display_data"
    }
   ],
   "source": [
    "# Plotting the histogram for Latitude\n",
    "plt.figure(figsize=(10, 6))\n",
    "plt.hist(data['latitude'], bins=50, color='skyblue', edgecolor='black')\n",
    "plt.title('Distribution of Latitude')\n",
    "plt.xlabel('Latitude (degrees)')\n",
    "plt.ylabel('Frequency')\n",
    "plt.grid(axis='y', alpha=0.75)\n",
    "plt.show()\n"
   ]
  },
  {
   "cell_type": "code",
   "execution_count": 17,
   "metadata": {},
   "outputs": [
    {
     "data": {
      "image/png": "[encoded data removed]",
      "text/plain": [
       "<Figure size 720x432 with 1 Axes>"
      ]
     },
     "metadata": {
      "needs_background": "light"
     },
     "output_type": "display_data"
    }
   ],
   "source": [
    "# Plotting the histogram for Longitude\n",
    "plt.figure(figsize=(10, 6))\n",
    "plt.hist(data['longitude'], bins=50, color='lightcoral', edgecolor='black')\n",
    "plt.title('Distribution of Longitude')\n",
    "plt.xlabel('Longitude (degrees)')\n",
    "plt.ylabel('Frequency')\n",
    "plt.grid(axis='y', alpha=0.75)\n",
    "plt.show()\n"
   ]
  },
  {
   "cell_type": "code",
   "execution_count": 15,
   "metadata": {},
   "outputs": [
    {
     "data": {
      "image/png": "[encoded data removed]",
      "text/plain": [
       "<Figure size 720x576 with 1 Axes>"
      ]
     },
     "metadata": {
      "needs_background": "light"
     },
     "output_type": "display_data"
    }
   ],
   "source": [
    "# Scatter plot of Latitude vs Longitude\n",
    "plt.figure(figsize=(10, 8))\n",
    "plt.scatter(data['longitude'], data['latitude'], s=1, alpha=0.5, color='blue')\n",
    "plt.title('Vessel Positions: Latitude vs Longitude')\n",
    "plt.xlabel('Longitude')\n",
    "plt.ylabel('Latitude')\n",
    "plt.grid(True)\n",
    "plt.show()\n"
   ]
  },
  {
   "cell_type": "markdown",
   "metadata": {},
   "source": [
    "The Latitude histogram shows a clear concentration of vessel positions around 40 to 60 degrees north, suggesting that a large portion of vessel activity occurs in the northern hemisphere, likely along major shipping routes. Smaller peaks at negative latitudes indicate vessel presence in the southern hemisphere, though to a lesser extent. The Longitude histogram reveals a prominent peak near 0 degrees, highlighting vessel activity around the prime meridian, with additional clusters in other major global regions. The scatter plot of Latitude vs. Longitude brings these distributions together, forming a rough outline of the world map. This plot shows that most data entries are concentrated near coastlines and port regions, with fewer records in the open ocean. This suggests that vessel positions are primarily recorded when vessels are closer to land, likely near ports, coastal routes, or within territorial waters, with a sparse distribution in open-ocean areas."
   ]
  },
  {
   "cell_type": "markdown",
   "metadata": {},
   "source": [
    "# Data preprocessing"
   ]
  },
  {
   "cell_type": "markdown",
   "metadata": {},
   "source": [
    "## Preprocessing and cleaning\n",
    "Hedda: litt usikker på om cleaninga her gir mening"
   ]
  },
  {
   "cell_type": "markdown",
   "metadata": {},
   "source": [
    "Before traning a regression model on the data set, it is essential that we convert the data to a format that the model can actually work with. This includes encoding some of the columns, as well as converting and replacing data. This part of the report will highlight some of the measures taken to prepare the data for training."
   ]
  },
  {
   "cell_type": "code",
   "execution_count": 21,
   "metadata": {},
   "outputs": [
    {
     "name": "stderr",
     "output_type": "stream",
     "text": [
      "/var/folders/cj/0sj08jds0671hy9qb1nk7shw0000gn/T/ipykernel_2650/2130247674.py:12: UserWarning: Could not infer format, so each element will be parsed individually, falling back to `dateutil`. To ensure parsing is consistent and as-expected, please specify a format.\n",
      "  data_cleaned['etaRaw'] = pd.to_datetime(data_cleaned['etaRaw'], errors='coerce')\n"
     ]
    },
    {
     "name": "stdout",
     "output_type": "stream",
     "text": [
      "Placeholder replacements (doesn't remove rows):\n",
      "  SOG NaNs introduced: 0\n",
      "  COG NaNs introduced: 5858\n",
      "  ROT NaNs introduced: 22381\n",
      "  Heading NaNs introduced: 4895\n",
      "\n",
      "Out-of-range filtering:\n",
      "  Rows with SOG > 35 removed: 417\n",
      "  Rows with COG > 359 removed: 5004\n",
      "  Rows with Latitude/Longitude out of bounds removed: 0\n",
      "  Rows with NAVSTAT out of range removed: 0\n",
      "\n",
      "Duplicate rows removed: 0\n",
      "\n",
      "Missing SOG values imputed with median: 0\n",
      "\n",
      "Total rows before cleaning: 1522065\n",
      "Total rows after cleaning: 1511173\n",
      "Total rows removed: 10892\n"
     ]
    }
   ],
   "source": [
    "import numpy as np\n",
    "import pandas as pd\n",
    "\n",
    "# Make a copy of the original data to avoid modifying it\n",
    "data_cleaned = data.copy()\n",
    "\n",
    "# Initial row count of the cleaned data\n",
    "initial_count = len(data_cleaned)\n",
    "\n",
    "# Convert time fields to datetime\n",
    "data_cleaned['time'] = pd.to_datetime(data_cleaned['time'], errors='coerce')\n",
    "data_cleaned['etaRaw'] = pd.to_datetime(data_cleaned['etaRaw'], errors='coerce')\n",
    "\n",
    "# Track rows affected by placeholder replacement (doesn't remove rows)\n",
    "sog_na_count = data_cleaned['sog'].replace([1022, 1023], np.nan).isna().sum() - data_cleaned['sog'].isna().sum()\n",
    "cog_na_count = data_cleaned['cog'].replace(360, np.nan).isna().sum() - data_cleaned['cog'].isna().sum()\n",
    "rot_na_count = data_cleaned['rot'].replace([-127, 127, -128], np.nan).isna().sum() - data_cleaned['rot'].isna().sum()\n",
    "heading_na_count = data_cleaned['heading'].replace(511, np.nan).isna().sum() - data_cleaned['heading'].isna().sum()\n",
    "\n",
    "# Apply placeholder replacements\n",
    "data_cleaned['sog'] = data_cleaned['sog'].replace([1022, 1023], np.nan)\n",
    "data_cleaned['cog'] = data_cleaned['cog'].replace(360, np.nan)\n",
    "data_cleaned['rot'] = data_cleaned['rot'].replace([-127, 127, -128], np.nan)\n",
    "data_cleaned['heading'] = data_cleaned['heading'].replace(511, np.nan)\n",
    "\n",
    "# Count rows affected by out-of-range filtering\n",
    "sog_filtered_count = len(data_cleaned[data_cleaned['sog'] > 35])\n",
    "cog_filtered_count = len(data_cleaned[data_cleaned['cog'] > 359])\n",
    "latlong_filtered_count = len(data_cleaned[~data_cleaned['latitude'].between(-90, 90)]) + len(data_cleaned[~data_cleaned['longitude'].between(-180, 180)])\n",
    "navstat_filtered_count = len(data_cleaned[~data_cleaned['navstat'].between(0, 15)])\n",
    "\n",
    "# Apply out-of-range filtering\n",
    "data_cleaned = data_cleaned[data_cleaned['sog'] <= 35]\n",
    "data_cleaned = data_cleaned[data_cleaned['cog'] <= 359]\n",
    "data_cleaned = data_cleaned[(data_cleaned['latitude'].between(-90, 90)) & (data_cleaned['longitude'].between(-180, 180))]\n",
    "data_cleaned = data_cleaned[data_cleaned['navstat'].between(0, 15)]\n",
    "\n",
    "# Count rows affected by duplicate removal\n",
    "duplicate_count = len(data_cleaned) - len(data_cleaned.drop_duplicates())\n",
    "\n",
    "# Remove duplicates\n",
    "data_cleaned = data_cleaned.drop_duplicates()\n",
    "\n",
    "# Count missing values imputed for SOG\n",
    "sog_missing_count = data_cleaned['sog'].isna().sum()\n",
    "\n",
    "# Impute missing SOG values\n",
    "data_cleaned['sog'] = data_cleaned['sog'].fillna(data_cleaned['sog'].median())\n",
    "\n",
    "# Final row count\n",
    "final_count = len(data_cleaned)\n",
    "\n",
    "# Display summary\n",
    "print(\"Placeholder replacements (doesn't remove rows):\")\n",
    "print(f\"  SOG NaNs introduced: {sog_na_count}\")\n",
    "print(f\"  COG NaNs introduced: {cog_na_count}\")\n",
    "print(f\"  ROT NaNs introduced: {rot_na_count}\")\n",
    "print(f\"  Heading NaNs introduced: {heading_na_count}\")\n",
    "\n",
    "print(\"\\nOut-of-range filtering:\")\n",
    "print(f\"  Rows with SOG > 35 removed: {sog_filtered_count}\")\n",
    "print(f\"  Rows with COG > 359 removed: {cog_filtered_count}\")\n",
    "print(f\"  Rows with Latitude/Longitude out of bounds removed: {latlong_filtered_count}\")\n",
    "print(f\"  Rows with NAVSTAT out of range removed: {navstat_filtered_count}\")\n",
    "\n",
    "print(\"\\nDuplicate rows removed:\", duplicate_count)\n",
    "print(\"\\nMissing SOG values imputed with median:\", sog_missing_count)\n",
    "\n",
    "print(\"\\nTotal rows before cleaning:\", initial_count)\n",
    "print(\"Total rows after cleaning:\", final_count)\n",
    "print(\"Total rows removed:\", initial_count - final_count)\n"
   ]
  },
  {
   "cell_type": "markdown",
   "metadata": {},
   "source": [
    "### One-hot encoding of categorical columns"
   ]
  },
  {
   "cell_type": "markdown",
   "metadata": {},
   "source": [
    "Many machine learning algorithms require numerical inputs to perform calculations. Categorical data, like colors, countries, or animal types, need to be converted into a numerical format to be processed by the model. A possibility here, obviously, would be to just treat strings as their encoded versions. Another possibility would be to assign different numbers to the distinct categories. Let's say you have 5 different categories: You could assign values 1 through 5 to the different possible values, in order to encode the data numerically.\n",
    "\n",
    "But even in cases where categorical columns are already represented as discrete integers, directly treating them as all other numerical columns does not make sense. Consider this: If 5 different colors are represented by the integers 1 through 5, treating the column directly as a numerical column implies an underlying ***order*** of the colors. More specifically, color \"2\" (assume blue) would be interpreted as having \"twice\" as much of the color attribute than that of color \"1\" (assume yellow), even though these are mutually exclusive and non-ordered values.\n",
    "\n",
    "In order to address this, we could engage in 'one-hot-encoding'. The idea here is to split the categorical column into new columns, each representing a distinct value that the underlying categorical column could carry. To be clear, in the case with the colors, you would create a separate column for each possible color, and then encode the relevant color as a boolean in the matching column. To state the obvious, a single row would only have the value 1 in one of these columns, and 0 in of the others. Encoding the category as a binary value eliminates the hazard of \"ordering un-ordered objects\". You could interpret the value in the column of 'Color X' to represent \"whether or not the current column is in fact of color X\" (this would, intuitively, exclude the possibility of any other column).\n",
    "\n",
    "#### Encoding navstat with the one-hot strategy\n",
    "\n",
    "The 'navstat' column should represent a set of 16 distinct states (might be less in the set). It makes sense to encode this with one-hots, as we're appearantly dealing with unordered, categorical values that exclude each other. Doing this would yield 16 new binary columns each representing the presence of one of the distinct states:"
   ]
  },
  {
   "cell_type": "code",
   "execution_count": 27,
   "metadata": {},
   "outputs": [
    {
     "data": {
      "text/html": [
       "<div>\n",
       "<style scoped>\n",
       "    .dataframe tbody tr th:only-of-type {\n",
       "        vertical-align: middle;\n",
       "    }\n",
       "\n",
       "    .dataframe tbody tr th {\n",
       "        vertical-align: top;\n",
       "    }\n",
       "\n",
       "    .dataframe thead th {\n",
       "        text-align: right;\n",
       "    }\n",
       "</style>\n",
       "<table border=\"1\" class=\"dataframe\">\n",
       "  <thead>\n",
       "    <tr style=\"text-align: right;\">\n",
       "      <th></th>\n",
       "      <th>time</th>\n",
       "      <th>cog</th>\n",
       "      <th>sog</th>\n",
       "      <th>rot</th>\n",
       "      <th>heading</th>\n",
       "      <th>etaRaw</th>\n",
       "      <th>latitude</th>\n",
       "      <th>longitude</th>\n",
       "      <th>vesselId</th>\n",
       "      <th>portId</th>\n",
       "      <th>navstat_0</th>\n",
       "      <th>navstat_1</th>\n",
       "      <th>navstat_2</th>\n",
       "      <th>navstat_3</th>\n",
       "      <th>navstat_5</th>\n",
       "      <th>navstat_8</th>\n",
       "      <th>navstat_15</th>\n",
       "    </tr>\n",
       "  </thead>\n",
       "  <tbody>\n",
       "    <tr>\n",
       "      <th>0</th>\n",
       "      <td>2024-01-01 00:00:25</td>\n",
       "      <td>284.0</td>\n",
       "      <td>0.7</td>\n",
       "      <td>0</td>\n",
       "      <td>88</td>\n",
       "      <td>01-09 23:00</td>\n",
       "      <td>-34.74370</td>\n",
       "      <td>-57.85130</td>\n",
       "      <td>61e9f3a8b937134a3c4bfdf7</td>\n",
       "      <td>61d371c43aeaecc07011a37f</td>\n",
       "      <td>True</td>\n",
       "      <td>False</td>\n",
       "      <td>False</td>\n",
       "      <td>False</td>\n",
       "      <td>False</td>\n",
       "      <td>False</td>\n",
       "      <td>False</td>\n",
       "    </tr>\n",
       "    <tr>\n",
       "      <th>1</th>\n",
       "      <td>2024-01-01 00:00:36</td>\n",
       "      <td>109.6</td>\n",
       "      <td>0.0</td>\n",
       "      <td>-6</td>\n",
       "      <td>347</td>\n",
       "      <td>12-29 20:00</td>\n",
       "      <td>8.89440</td>\n",
       "      <td>-79.47939</td>\n",
       "      <td>61e9f3d4b937134a3c4bff1f</td>\n",
       "      <td>634c4de270937fc01c3a7689</td>\n",
       "      <td>False</td>\n",
       "      <td>True</td>\n",
       "      <td>False</td>\n",
       "      <td>False</td>\n",
       "      <td>False</td>\n",
       "      <td>False</td>\n",
       "      <td>False</td>\n",
       "    </tr>\n",
       "    <tr>\n",
       "      <th>2</th>\n",
       "      <td>2024-01-01 00:01:45</td>\n",
       "      <td>111.0</td>\n",
       "      <td>11.0</td>\n",
       "      <td>0</td>\n",
       "      <td>112</td>\n",
       "      <td>01-02 09:00</td>\n",
       "      <td>39.19065</td>\n",
       "      <td>-76.47567</td>\n",
       "      <td>61e9f436b937134a3c4c0131</td>\n",
       "      <td>61d3847bb7b7526e1adf3d19</td>\n",
       "      <td>True</td>\n",
       "      <td>False</td>\n",
       "      <td>False</td>\n",
       "      <td>False</td>\n",
       "      <td>False</td>\n",
       "      <td>False</td>\n",
       "      <td>False</td>\n",
       "    </tr>\n",
       "    <tr>\n",
       "      <th>3</th>\n",
       "      <td>2024-01-01 00:03:11</td>\n",
       "      <td>96.4</td>\n",
       "      <td>0.0</td>\n",
       "      <td>0</td>\n",
       "      <td>142</td>\n",
       "      <td>12-31 20:00</td>\n",
       "      <td>-34.41189</td>\n",
       "      <td>151.02067</td>\n",
       "      <td>61e9f3b4b937134a3c4bfe77</td>\n",
       "      <td>61d36f770a1807568ff9a126</td>\n",
       "      <td>False</td>\n",
       "      <td>True</td>\n",
       "      <td>False</td>\n",
       "      <td>False</td>\n",
       "      <td>False</td>\n",
       "      <td>False</td>\n",
       "      <td>False</td>\n",
       "    </tr>\n",
       "    <tr>\n",
       "      <th>4</th>\n",
       "      <td>2024-01-01 00:03:51</td>\n",
       "      <td>214.0</td>\n",
       "      <td>19.7</td>\n",
       "      <td>0</td>\n",
       "      <td>215</td>\n",
       "      <td>01-25 12:00</td>\n",
       "      <td>35.88379</td>\n",
       "      <td>-5.91636</td>\n",
       "      <td>61e9f41bb937134a3c4c0087</td>\n",
       "      <td>634c4de270937fc01c3a74f3</td>\n",
       "      <td>True</td>\n",
       "      <td>False</td>\n",
       "      <td>False</td>\n",
       "      <td>False</td>\n",
       "      <td>False</td>\n",
       "      <td>False</td>\n",
       "      <td>False</td>\n",
       "    </tr>\n",
       "  </tbody>\n",
       "</table>\n",
       "</div>"
      ],
      "text/plain": [
       "                  time    cog   sog  rot  heading       etaRaw  latitude   \n",
       "0  2024-01-01 00:00:25  284.0   0.7    0       88  01-09 23:00 -34.74370  \\\n",
       "1  2024-01-01 00:00:36  109.6   0.0   -6      347  12-29 20:00   8.89440   \n",
       "2  2024-01-01 00:01:45  111.0  11.0    0      112  01-02 09:00  39.19065   \n",
       "3  2024-01-01 00:03:11   96.4   0.0    0      142  12-31 20:00 -34.41189   \n",
       "4  2024-01-01 00:03:51  214.0  19.7    0      215  01-25 12:00  35.88379   \n",
       "\n",
       "   longitude                  vesselId                    portId  navstat_0   \n",
       "0  -57.85130  61e9f3a8b937134a3c4bfdf7  61d371c43aeaecc07011a37f       True  \\\n",
       "1  -79.47939  61e9f3d4b937134a3c4bff1f  634c4de270937fc01c3a7689      False   \n",
       "2  -76.47567  61e9f436b937134a3c4c0131  61d3847bb7b7526e1adf3d19       True   \n",
       "3  151.02067  61e9f3b4b937134a3c4bfe77  61d36f770a1807568ff9a126      False   \n",
       "4   -5.91636  61e9f41bb937134a3c4c0087  634c4de270937fc01c3a74f3       True   \n",
       "\n",
       "   navstat_1  navstat_2  navstat_3  navstat_5  navstat_8  navstat_15  \n",
       "0      False      False      False      False      False       False  \n",
       "1       True      False      False      False      False       False  \n",
       "2      False      False      False      False      False       False  \n",
       "3       True      False      False      False      False       False  \n",
       "4      False      False      False      False      False       False  "
      ]
     },
     "execution_count": 27,
     "metadata": {},
     "output_type": "execute_result"
    }
   ],
   "source": [
    "encoded_df = train_set.copy()\n",
    "encoded_df = pd.get_dummies(encoded_df, columns=['navstat'], prefix='navstat')\n",
    "encoded_df.head(5)"
   ]
  },
  {
   "cell_type": "markdown",
   "metadata": {},
   "source": [
    "We now see a new column for each of the existing values in the navstat columns. However, we see from the documentation that we might not necessarily need all of the categories. Intuitively, we're most interested in whether the boat is moving or not. Exactly ***what*** state might be superficial to the model, so we could map the \"moving states\" to one value and the \"anchored ones\" to another one. Since these are mutually exclusive and collectively exhaustive, we could encode the information in a single boolean/binary column:"
   ]
  },
  {
   "cell_type": "code",
   "execution_count": 30,
   "metadata": {},
   "outputs": [
    {
     "data": {
      "text/html": [
       "<div>\n",
       "<style scoped>\n",
       "    .dataframe tbody tr th:only-of-type {\n",
       "        vertical-align: middle;\n",
       "    }\n",
       "\n",
       "    .dataframe tbody tr th {\n",
       "        vertical-align: top;\n",
       "    }\n",
       "\n",
       "    .dataframe thead th {\n",
       "        text-align: right;\n",
       "    }\n",
       "</style>\n",
       "<table border=\"1\" class=\"dataframe\">\n",
       "  <thead>\n",
       "    <tr style=\"text-align: right;\">\n",
       "      <th></th>\n",
       "      <th>time</th>\n",
       "      <th>cog</th>\n",
       "      <th>sog</th>\n",
       "      <th>rot</th>\n",
       "      <th>heading</th>\n",
       "      <th>navstat</th>\n",
       "      <th>etaRaw</th>\n",
       "      <th>latitude</th>\n",
       "      <th>longitude</th>\n",
       "      <th>vesselId</th>\n",
       "      <th>portId</th>\n",
       "    </tr>\n",
       "  </thead>\n",
       "  <tbody>\n",
       "    <tr>\n",
       "      <th>0</th>\n",
       "      <td>2024-01-01 00:00:25</td>\n",
       "      <td>284.0</td>\n",
       "      <td>0.7</td>\n",
       "      <td>0</td>\n",
       "      <td>88</td>\n",
       "      <td>1</td>\n",
       "      <td>01-09 23:00</td>\n",
       "      <td>-34.74370</td>\n",
       "      <td>-57.85130</td>\n",
       "      <td>61e9f3a8b937134a3c4bfdf7</td>\n",
       "      <td>61d371c43aeaecc07011a37f</td>\n",
       "    </tr>\n",
       "    <tr>\n",
       "      <th>1</th>\n",
       "      <td>2024-01-01 00:00:36</td>\n",
       "      <td>109.6</td>\n",
       "      <td>0.0</td>\n",
       "      <td>-6</td>\n",
       "      <td>347</td>\n",
       "      <td>0</td>\n",
       "      <td>12-29 20:00</td>\n",
       "      <td>8.89440</td>\n",
       "      <td>-79.47939</td>\n",
       "      <td>61e9f3d4b937134a3c4bff1f</td>\n",
       "      <td>634c4de270937fc01c3a7689</td>\n",
       "    </tr>\n",
       "    <tr>\n",
       "      <th>2</th>\n",
       "      <td>2024-01-01 00:01:45</td>\n",
       "      <td>111.0</td>\n",
       "      <td>11.0</td>\n",
       "      <td>0</td>\n",
       "      <td>112</td>\n",
       "      <td>1</td>\n",
       "      <td>01-02 09:00</td>\n",
       "      <td>39.19065</td>\n",
       "      <td>-76.47567</td>\n",
       "      <td>61e9f436b937134a3c4c0131</td>\n",
       "      <td>61d3847bb7b7526e1adf3d19</td>\n",
       "    </tr>\n",
       "    <tr>\n",
       "      <th>3</th>\n",
       "      <td>2024-01-01 00:03:11</td>\n",
       "      <td>96.4</td>\n",
       "      <td>0.0</td>\n",
       "      <td>0</td>\n",
       "      <td>142</td>\n",
       "      <td>0</td>\n",
       "      <td>12-31 20:00</td>\n",
       "      <td>-34.41189</td>\n",
       "      <td>151.02067</td>\n",
       "      <td>61e9f3b4b937134a3c4bfe77</td>\n",
       "      <td>61d36f770a1807568ff9a126</td>\n",
       "    </tr>\n",
       "    <tr>\n",
       "      <th>4</th>\n",
       "      <td>2024-01-01 00:03:51</td>\n",
       "      <td>214.0</td>\n",
       "      <td>19.7</td>\n",
       "      <td>0</td>\n",
       "      <td>215</td>\n",
       "      <td>1</td>\n",
       "      <td>01-25 12:00</td>\n",
       "      <td>35.88379</td>\n",
       "      <td>-5.91636</td>\n",
       "      <td>61e9f41bb937134a3c4c0087</td>\n",
       "      <td>634c4de270937fc01c3a74f3</td>\n",
       "    </tr>\n",
       "    <tr>\n",
       "      <th>...</th>\n",
       "      <td>...</td>\n",
       "      <td>...</td>\n",
       "      <td>...</td>\n",
       "      <td>...</td>\n",
       "      <td>...</td>\n",
       "      <td>...</td>\n",
       "      <td>...</td>\n",
       "      <td>...</td>\n",
       "      <td>...</td>\n",
       "      <td>...</td>\n",
       "      <td>...</td>\n",
       "    </tr>\n",
       "    <tr>\n",
       "      <th>49995</th>\n",
       "      <td>2024-01-05 07:36:12</td>\n",
       "      <td>5.5</td>\n",
       "      <td>6.1</td>\n",
       "      <td>0</td>\n",
       "      <td>0</td>\n",
       "      <td>1</td>\n",
       "      <td>01-04 20:00</td>\n",
       "      <td>-24.03371</td>\n",
       "      <td>-46.34749</td>\n",
       "      <td>61e9f410b937134a3c4c0049</td>\n",
       "      <td>61d36fdf0a1807568ff9a1b0</td>\n",
       "    </tr>\n",
       "    <tr>\n",
       "      <th>49996</th>\n",
       "      <td>2024-01-05 07:36:13</td>\n",
       "      <td>94.9</td>\n",
       "      <td>0.0</td>\n",
       "      <td>0</td>\n",
       "      <td>31</td>\n",
       "      <td>0</td>\n",
       "      <td>01-02 18:00</td>\n",
       "      <td>39.64086</td>\n",
       "      <td>-0.22345</td>\n",
       "      <td>61e9f468b937134a3c4c0289</td>\n",
       "      <td>61d37fb629b60f6113c89e99</td>\n",
       "    </tr>\n",
       "    <tr>\n",
       "      <th>49997</th>\n",
       "      <td>2024-01-05 07:36:16</td>\n",
       "      <td>221.9</td>\n",
       "      <td>17.8</td>\n",
       "      <td>0</td>\n",
       "      <td>223</td>\n",
       "      <td>1</td>\n",
       "      <td>01-11 22:00</td>\n",
       "      <td>34.46860</td>\n",
       "      <td>138.21546</td>\n",
       "      <td>61e9f3aab937134a3c4bfe0f</td>\n",
       "      <td>61d37a221366c3998241d928</td>\n",
       "    </tr>\n",
       "    <tr>\n",
       "      <th>49998</th>\n",
       "      <td>2024-01-05 07:36:16</td>\n",
       "      <td>324.1</td>\n",
       "      <td>0.0</td>\n",
       "      <td>0</td>\n",
       "      <td>268</td>\n",
       "      <td>0</td>\n",
       "      <td>01-03 20:30</td>\n",
       "      <td>53.33446</td>\n",
       "      <td>7.16211</td>\n",
       "      <td>61e9f397b937134a3c4bfdaf</td>\n",
       "      <td>61d375e893c6feb83e5eb3e4</td>\n",
       "    </tr>\n",
       "    <tr>\n",
       "      <th>49999</th>\n",
       "      <td>2024-01-05 07:36:18</td>\n",
       "      <td>23.0</td>\n",
       "      <td>0.0</td>\n",
       "      <td>0</td>\n",
       "      <td>289</td>\n",
       "      <td>0</td>\n",
       "      <td>01-03 11:00</td>\n",
       "      <td>51.88025</td>\n",
       "      <td>4.42176</td>\n",
       "      <td>61e9f414b937134a3c4c005f</td>\n",
       "      <td>61d37be699db2ccf7339ecc9</td>\n",
       "    </tr>\n",
       "  </tbody>\n",
       "</table>\n",
       "<p>50000 rows × 11 columns</p>\n",
       "</div>"
      ],
      "text/plain": [
       "                      time    cog   sog  rot  heading  navstat       etaRaw   \n",
       "0      2024-01-01 00:00:25  284.0   0.7    0       88        1  01-09 23:00  \\\n",
       "1      2024-01-01 00:00:36  109.6   0.0   -6      347        0  12-29 20:00   \n",
       "2      2024-01-01 00:01:45  111.0  11.0    0      112        1  01-02 09:00   \n",
       "3      2024-01-01 00:03:11   96.4   0.0    0      142        0  12-31 20:00   \n",
       "4      2024-01-01 00:03:51  214.0  19.7    0      215        1  01-25 12:00   \n",
       "...                    ...    ...   ...  ...      ...      ...          ...   \n",
       "49995  2024-01-05 07:36:12    5.5   6.1    0        0        1  01-04 20:00   \n",
       "49996  2024-01-05 07:36:13   94.9   0.0    0       31        0  01-02 18:00   \n",
       "49997  2024-01-05 07:36:16  221.9  17.8    0      223        1  01-11 22:00   \n",
       "49998  2024-01-05 07:36:16  324.1   0.0    0      268        0  01-03 20:30   \n",
       "49999  2024-01-05 07:36:18   23.0   0.0    0      289        0  01-03 11:00   \n",
       "\n",
       "       latitude  longitude                  vesselId                    portId  \n",
       "0     -34.74370  -57.85130  61e9f3a8b937134a3c4bfdf7  61d371c43aeaecc07011a37f  \n",
       "1       8.89440  -79.47939  61e9f3d4b937134a3c4bff1f  634c4de270937fc01c3a7689  \n",
       "2      39.19065  -76.47567  61e9f436b937134a3c4c0131  61d3847bb7b7526e1adf3d19  \n",
       "3     -34.41189  151.02067  61e9f3b4b937134a3c4bfe77  61d36f770a1807568ff9a126  \n",
       "4      35.88379   -5.91636  61e9f41bb937134a3c4c0087  634c4de270937fc01c3a74f3  \n",
       "...         ...        ...                       ...                       ...  \n",
       "49995 -24.03371  -46.34749  61e9f410b937134a3c4c0049  61d36fdf0a1807568ff9a1b0  \n",
       "49996  39.64086   -0.22345  61e9f468b937134a3c4c0289  61d37fb629b60f6113c89e99  \n",
       "49997  34.46860  138.21546  61e9f3aab937134a3c4bfe0f  61d37a221366c3998241d928  \n",
       "49998  53.33446    7.16211  61e9f397b937134a3c4bfdaf  61d375e893c6feb83e5eb3e4  \n",
       "49999  51.88025    4.42176  61e9f414b937134a3c4c005f  61d37be699db2ccf7339ecc9  \n",
       "\n",
       "[50000 rows x 11 columns]"
      ]
     },
     "execution_count": 30,
     "metadata": {},
     "output_type": "execute_result"
    }
   ],
   "source": [
    "encoded_df2 = train_set.copy()\n",
    "\n",
    "# Define the set of values that correspond to the \"underway\" state\n",
    "underway_values = {0, 3, 4, 7, 9, 10, 11, 12, 13, 14, 15}\n",
    "# Create the 'underway' column: 1 if 'navstat' is in underway_values, otherwise 0\n",
    "encoded_df2['navstat'] = encoded_df2['navstat'].apply(lambda x: 1 if x in underway_values else 0)\n",
    "\n",
    "encoded_df2"
   ]
  },
  {
   "cell_type": "markdown",
   "metadata": {},
   "source": [
    "#### Encoding the other categorical columns\n",
    "\n",
    "Similar strategies could in theory be applied to the remaining categorical columns, creating separate columns for the possible values. However, this would result in a massive increase in the amount of columns, as there are both a large amount of different vessels as well as ports. This would in its turn increase the running time of the model training, whose importance should not be underestimated. \n",
    "\n",
    "Note also, that you're not necessarily ***actually*** interested directly in the actual vesselId in order to make a good predicition on the position. As we will see later, you're interested in the vesselId merely to obtain ***historical data*** concerning positions/routes, or to say something about the boat's ***dimensions***. This will be addressed later in the report. As of now, we will move on without one-hot encoding the vesselId and PortId columns."
   ]
  },
  {
   "cell_type": "markdown",
   "metadata": {},
   "source": [
    "## Preprocess pipelines"
   ]
  },
  {
   "cell_type": "markdown",
   "metadata": {},
   "source": [
    "Example:\n",
    "\n",
    "For the preprocessing, we have used the following functions:\n",
    "\n",
    "1. Aggregate the data from 15-minute intervals to hourly\n",
    "2. Join the features with the target variable\n",
    "3. Remove consequtive non-zero values in pv_measurement\n",
    "4. Remove consequtive zero-values above 24 in length from pv_measurement\n",
    "5. Remove missing values in the pv_measurement column, remove some of the columns with a lot of missing values\n",
    "6. Add new features (cosine and sine transformations of hour, months and week)"
   ]
  },
  {
   "cell_type": "code",
   "execution_count": null,
   "metadata": {},
   "outputs": [],
   "source": []
  },
  {
   "cell_type": "code",
   "execution_count": null,
   "metadata": {},
   "outputs": [],
   "source": [
    "# Preprocess training data"
   ]
  },
  {
   "cell_type": "markdown",
   "metadata": {},
   "source": [
    "# Extended Exploratory Data Analysis\n",
    "Diving a bit deeper into the underlying relationships in the data might give us valuable insight for building a good model. We will take a closer look at how the features relate to one another.\n",
    "\n",
    "We start of by looking at possible correlations between features. This might reveal patterns in the data. This is represented by a so-called correlation matrix, plotting the features against each other."
   ]
  },
  {
   "cell_type": "markdown",
   "metadata": {},
   "source": [
    "## Correlation between features"
   ]
  },
  {
   "cell_type": "code",
   "execution_count": 33,
   "metadata": {},
   "outputs": [
    {
     "data": {
      "image/png": "[encoded data removed]",
      "text/plain": [
       "<Figure size 1000x800 with 2 Axes>"
      ]
     },
     "metadata": {},
     "output_type": "display_data"
    }
   ],
   "source": [
    "import pandas as pd\n",
    "import matplotlib.pyplot as plt\n",
    "\n",
    "# Sample DataFrame\n",
    "df = encoded_df2.copy()\n",
    "df = df.drop(columns=['time', 'etaRaw', 'vesselId','portId'])\n",
    "\n",
    "\n",
    "# Calculate correlation matrix\n",
    "correlation_matrix = df.corr()\n",
    "\n",
    "plt.figure(figsize=(10, 8))\n",
    "plt.matshow(correlation_matrix, fignum=1)\n",
    "plt.colorbar()\n",
    "plt.xticks(range(len(correlation_matrix.columns)), correlation_matrix.columns, rotation=90)\n",
    "plt.yticks(range(len(correlation_matrix.columns)), correlation_matrix.columns)\n",
    "plt.show()"
   ]
  },
  {
   "cell_type": "markdown",
   "metadata": {},
   "source": [
    "#### General correlation\n",
    "\n",
    "The correlation matrix displays the statistical correlation between the data set features, telling us how different variables tend to move according to eachother here. As with any other correlation matrix, the diagonal stands out as all features correlate with themselves. The next thing to notice here are the 'navstat' and 'sog' features, seemingly having a corralation of about 0.7. Intuitively, this makes sense: Recall that we encoded the navstat column into the boolean moving/not moving. It therefore follows that whether the vessel is moving or not is heavily influenced by its speed - when a boat is moving fast, it's probably not standing still.\n",
    "\n",
    "Moving on, we see a quite strong negative correlation between longiutudes and latitudes, about 0.4. One needs to reflect a bit on what this tells us: When a vessel's longitude is high, the corresponding latitude is probably low. In practice, this means that low longitudes are often paired with high latitudes and vice versa, suggesting that vessels are concentrated around the \"north-east\" and the \"south west\". This also makes intuitive sense, as there's vast amounts of data points around Europe and the Americas, with the Americas located further south and further west and Europe further north and further east.\n",
    "\n",
    "#### Correlation with target features\n",
    "\n",
    "It's obviously interesting to identify columns that correlate more with the target features. However, as emphasized earlier, the AIS dataset is complex due to time series, and one would not expect to perform a good prediction on the target features simply by relying heavily on the other feature values for that particular row. The fact that no features appear to show correlation with the target features strengthen our argument that we will need to dive deeper in the time relationships."
   ]
  },
  {
   "cell_type": "markdown",
   "metadata": {},
   "source": [
    "## Correlation with historical data "
   ]
  },
  {
   "cell_type": "markdown",
   "metadata": {},
   "source": [
    "As slightly hinted at earlier, part of the key to exctract the right insight from the data set and create a effective model might be to look at the rows dependent of each other. We will explore this possibility by introducing so-called position lag features, being the ***previous*** longitudes and latitudes for that particular vessel. Perhaps these features will have some correlation to the target values: The ***current*** longitudes and latitudes."
   ]
  },
  {
   "cell_type": "code",
   "execution_count": 36,
   "metadata": {},
   "outputs": [
    {
     "data": {
      "image/png": "[encoded data removed]",
      "text/plain": [
       "<Figure size 1000x800 with 2 Axes>"
      ]
     },
     "metadata": {},
     "output_type": "display_data"
    }
   ],
   "source": [
    "df = encoded_df2.copy()\n",
    "df['longitude_lag1'] = df.groupby('vesselId')['longitude'].shift(1)\n",
    "df['latitude_lag1'] = df.groupby('vesselId')['latitude'].shift(1)\n",
    "df = df.drop(columns=['time', 'etaRaw', 'vesselId','portId'])\n",
    "\n",
    "\n",
    "# Calculate correlation matrix\n",
    "correlation_matrix = df.corr()\n",
    "\n",
    "plt.figure(figsize=(10, 8))\n",
    "plt.matshow(correlation_matrix, fignum=1)\n",
    "plt.colorbar()\n",
    "plt.xticks(range(len(correlation_matrix.columns)), correlation_matrix.columns, rotation=90)\n",
    "plt.yticks(range(len(correlation_matrix.columns)), correlation_matrix.columns)\n",
    "plt.show()\n"
   ]
  },
  {
   "cell_type": "markdown",
   "metadata": {},
   "source": [
    "As clearly indicated by the new matrix, the target features are extremely related to the previous target feature values. This makes total sense, as a vessel, like anything else, will move along a continous path and not just teleport from position to position. To illustrate this even better, we will create lag features with larger window sizes."
   ]
  },
  {
   "cell_type": "code",
   "execution_count": 42,
   "metadata": {},
   "outputs": [
    {
     "data": {
      "image/png": "[encoded data removed]",
      "text/plain": [
       "<Figure size 1000x100 with 1 Axes>"
      ]
     },
     "metadata": {},
     "output_type": "display_data"
    },
    {
     "data": {
      "image/png": "[encoded data removed]",
      "text/plain": [
       "<Figure size 1000x100 with 1 Axes>"
      ]
     },
     "metadata": {},
     "output_type": "display_data"
    }
   ],
   "source": [
    "df = encoded_df2.copy()\n",
    "\n",
    "window_sizes = [1, 5, 10, 15, 20]\n",
    "\n",
    "# Loop through window sizes and create lagged columns for both longitude and latitude\n",
    "for window in window_sizes:\n",
    "    df[f'longitude_lag{window}'] = df.groupby('vesselId')['longitude'].shift(window)\n",
    "    df[f'latitude_lag{window}'] = df.groupby('vesselId')['latitude'].shift(window)\n",
    "    \n",
    "df = df.drop(columns=['time', 'etaRaw', 'vesselId','portId'])\n",
    "\n",
    "\n",
    "import matplotlib.pyplot as plt\n",
    "import seaborn as sns\n",
    "\n",
    "# Assuming 'df' is your DataFrame and it includes columns 'latitude' and 'longitude'\n",
    "\n",
    "# Calculate correlation with 'latitude' and drop 'latitude' itself from the results\n",
    "correlation_with_latitude = df.corr()['latitude'].drop('latitude')\n",
    "\n",
    "# Calculate correlation with 'longitude' and drop 'longitude' itself from the results\n",
    "correlation_with_longitude = df.corr()['longitude'].drop('longitude')\n",
    "\n",
    "# Plotting the latitude correlation as a heatmap row\n",
    "plt.figure(figsize=(10, 1))\n",
    "sns.heatmap(correlation_with_latitude.to_frame().T, annot=True, cmap=\"coolwarm\", cbar=False)\n",
    "plt.title(\"Correlation with Latitude\")\n",
    "plt.yticks(rotation=0)\n",
    "plt.xticks(rotation=45, ha='right')\n",
    "plt.show()\n",
    "\n",
    "# Plotting the longitude correlation as a heatmap row\n",
    "plt.figure(figsize=(10, 1))\n",
    "sns.heatmap(correlation_with_longitude.to_frame().T, annot=True, cmap=\"coolwarm\", cbar=False)\n",
    "plt.title(\"Correlation with Longitude\")\n",
    "plt.yticks(rotation=0)\n",
    "plt.xticks(rotation=45, ha='right')\n",
    "plt.show()"
   ]
  },
  {
   "cell_type": "markdown",
   "metadata": {},
   "source": [
    "As seen, the longitudes and latitudes are heavily correlated with the historical trajectory, being so closely tied to each other compared to other features that they're displayed as 1. This observation will be essential in the remaining part of the report."
   ]
  },
  {
   "cell_type": "markdown",
   "metadata": {},
   "source": [
    "### Distribution plot of estimated and observed data"
   ]
  },
  {
   "cell_type": "markdown",
   "metadata": {},
   "source": [
    "eksempel annen observasjon:\n",
    "\n",
    "However, if we compare the distribution of the data from observed and estimated, we see that there are some differences in the values that the estimated take on (especially in t_1000 and sun_elevation). \n",
    "\n",
    "The difference in distribution for the sun_elevation feature can be explained by the fact that the estimated data is from october to may, meaning that the winter months are overrepresented. This skews the distribution of the sun_elevation in comparison to the observed data, which spans over multiple years. Since sun_elevation is lower during the winter months, the distribution for estimated sun_elevation conists of fewer values of high elevation (>20). The same logic can be applied to the t_1000hPa:K, which is temperature in Kelvin at 1000hPa pressure. \n",
    "\n",
    "We believe these differences are negligible."
   ]
  },
  {
   "cell_type": "code",
   "execution_count": null,
   "metadata": {},
   "outputs": [],
   "source": []
  },
  {
   "cell_type": "markdown",
   "metadata": {},
   "source": [
    "# Model testing [Multiple predictors]"
   ]
  },
  {
   "cell_type": "markdown",
   "metadata": {},
   "source": [
    "eksempel:\n",
    "\n",
    "We have tested three types of models: Pycaret, Autogluon and Catboost (and variations/ensembles/stackings of these).\n",
    "\n",
    "In our comparative analysis, each model showed both strengths and weaknesses, with variations in performance metrics across different datasets. Pycaret showcased versatility in automating the ML workflow, Autogluon excelled in time efficiency and ease of use, while Catboost demonstrated superior handling of categorical data and complex relationships. The incorporation of ensemble and stacking techniques further enhanced predictive capabilities, underscoring the potential of hybrid approaches in tackling diverse data challenges."
   ]
  },
  {
   "cell_type": "markdown",
   "metadata": {},
   "source": [
    "## Pycaret"
   ]
  },
  {
   "cell_type": "markdown",
   "metadata": {},
   "source": [
    "eksempel:\n",
    "\n",
    "The group only tried one Pycaret pipeline before changing to Autogluon + Catboost.\n",
    "\n",
    "We tried various hyperparameters, including training time, number of folds, with/without eval set, eval size, none of which ended up outperforming Autogluon or Catboost."
   ]
  },
  {
   "cell_type": "code",
   "execution_count": null,
   "metadata": {},
   "outputs": [],
   "source": []
  },
  {
   "cell_type": "markdown",
   "metadata": {},
   "source": [
    "## Autogluon"
   ]
  },
  {
   "cell_type": "markdown",
   "metadata": {},
   "source": [
    "eksempel:\n",
    "\n",
    "For Autogluon, we tried training one model for each location, as well as one model that predicted on all three locations. The first method yielded the best results, both methods are listed below. \n",
    "\n",
    "In addition, we tried a lot of different hyperparameters for Autogluon, experimenting and seeing which combinations gave the best metrics, both locally and on Kaggle. "
   ]
  },
  {
   "cell_type": "markdown",
   "metadata": {},
   "source": [
    "### Autogluon V1"
   ]
  },
  {
   "cell_type": "markdown",
   "metadata": {},
   "source": [
    "eksempel: This model trains one model for each location."
   ]
  },
  {
   "cell_type": "code",
   "execution_count": null,
   "metadata": {},
   "outputs": [],
   "source": []
  },
  {
   "cell_type": "markdown",
   "metadata": {},
   "source": [
    "### Autogluon V2"
   ]
  },
  {
   "cell_type": "markdown",
   "metadata": {},
   "source": [
    "eksempel: 3 Autogluon with tuning data, no new features, remove 0 pv during daytime, random sample eval dataset from full dataset"
   ]
  },
  {
   "cell_type": "code",
   "execution_count": null,
   "metadata": {},
   "outputs": [],
   "source": []
  },
  {
   "cell_type": "markdown",
   "metadata": {},
   "source": [
    "### Autogluon V3"
   ]
  },
  {
   "cell_type": "markdown",
   "metadata": {},
   "source": [
    "eksmepl: 3 Autogluon without tuning data, no new features, remove 0 pv during daytime"
   ]
  },
  {
   "cell_type": "code",
   "execution_count": null,
   "metadata": {},
   "outputs": [],
   "source": []
  },
  {
   "cell_type": "markdown",
   "metadata": {},
   "source": [
    "### Autogluon V4"
   ]
  },
  {
   "cell_type": "markdown",
   "metadata": {},
   "source": [
    "eksempel: Experiment with longer training times Autogluon stacking and ensembling."
   ]
  },
  {
   "cell_type": "code",
   "execution_count": null,
   "metadata": {},
   "outputs": [],
   "source": []
  },
  {
   "cell_type": "markdown",
   "metadata": {},
   "source": [
    "### Autogluon V5"
   ]
  },
  {
   "cell_type": "markdown",
   "metadata": {},
   "source": [
    "eksempel: Our best autogluon model so far."
   ]
  },
  {
   "cell_type": "code",
   "execution_count": null,
   "metadata": {},
   "outputs": [],
   "source": []
  },
  {
   "cell_type": "markdown",
   "metadata": {},
   "source": [
    "## Catboost"
   ]
  },
  {
   "cell_type": "markdown",
   "metadata": {},
   "source": [
    "eksempel: Our first catboost simple was very simple. We later started experimenting with training multiple catboost models with randomized parameters and randomized train/val split, which proved to give decent results."
   ]
  },
  {
   "cell_type": "markdown",
   "metadata": {},
   "source": [
    "### Catboost V1"
   ]
  },
  {
   "cell_type": "markdown",
   "metadata": {},
   "source": [
    "eksempel: Catboost with one model for all locations"
   ]
  },
  {
   "cell_type": "code",
   "execution_count": null,
   "metadata": {},
   "outputs": [],
   "source": []
  },
  {
   "cell_type": "markdown",
   "metadata": {},
   "source": [
    "### Catboost V2"
   ]
  },
  {
   "cell_type": "markdown",
   "metadata": {},
   "source": [
    "eksempel: Catboost with one model for each location"
   ]
  },
  {
   "cell_type": "code",
   "execution_count": null,
   "metadata": {},
   "outputs": [],
   "source": []
  },
  {
   "cell_type": "markdown",
   "metadata": {},
   "source": [
    "### Catboost V3"
   ]
  },
  {
   "cell_type": "markdown",
   "metadata": {},
   "source": [
    "eksempel: Catboost ensemble model, training 20 catboost models with random train val split (to increase variance before averaging). "
   ]
  },
  {
   "cell_type": "code",
   "execution_count": null,
   "metadata": {},
   "outputs": [],
   "source": []
  },
  {
   "cell_type": "markdown",
   "metadata": {},
   "source": [
    "### Catboost V4"
   ]
  },
  {
   "cell_type": "markdown",
   "metadata": {},
   "source": [
    "eksempel: Training 20 catboost models with random train val split and random parameters (within given ranges)"
   ]
  },
  {
   "cell_type": "code",
   "execution_count": null,
   "metadata": {},
   "outputs": [],
   "source": []
  },
  {
   "cell_type": "markdown",
   "metadata": {},
   "source": [
    "### Catboost V5"
   ]
  },
  {
   "cell_type": "markdown",
   "metadata": {},
   "source": [
    "eksempel: Our best catboost model. Ensemble model."
   ]
  },
  {
   "cell_type": "code",
   "execution_count": null,
   "metadata": {},
   "outputs": [],
   "source": []
  },
  {
   "cell_type": "markdown",
   "metadata": {},
   "source": [
    "## Average models"
   ]
  },
  {
   "cell_type": "markdown",
   "metadata": {},
   "source": [
    "Eksempel: In addition to Catboost and Autogluon, we found that averaging them out with a weighted average produced good scores. \n",
    "\n",
    "Since our catboost models performed a bit better than the autogluon, we decided to weight the catboost models a bit higher.\n",
    "\n",
    "The average models are the ones that performed the best on kaggle.\n",
    "\n",
    "The submissions were produced by separately running the Autogluon and catboost models, then averaging the final test predictions."
   ]
  },
  {
   "cell_type": "markdown",
   "metadata": {},
   "source": [
    "### Model 1: Autogluon"
   ]
  },
  {
   "cell_type": "code",
   "execution_count": null,
   "metadata": {},
   "outputs": [],
   "source": []
  },
  {
   "cell_type": "markdown",
   "metadata": {},
   "source": [
    "#### Autogluon"
   ]
  },
  {
   "cell_type": "code",
   "execution_count": null,
   "metadata": {},
   "outputs": [],
   "source": []
  },
  {
   "cell_type": "markdown",
   "metadata": {},
   "source": [
    "#### Train one model for each location"
   ]
  },
  {
   "cell_type": "code",
   "execution_count": null,
   "metadata": {},
   "outputs": [],
   "source": []
  },
  {
   "cell_type": "markdown",
   "metadata": {},
   "source": [
    "#### Plotting"
   ]
  },
  {
   "cell_type": "code",
   "execution_count": null,
   "metadata": {},
   "outputs": [],
   "source": []
  },
  {
   "cell_type": "markdown",
   "metadata": {},
   "source": [
    "#### Submission"
   ]
  },
  {
   "cell_type": "code",
   "execution_count": null,
   "metadata": {},
   "outputs": [],
   "source": []
  },
  {
   "cell_type": "markdown",
   "metadata": {},
   "source": [
    "### Model 2: Catboost"
   ]
  },
  {
   "cell_type": "markdown",
   "metadata": {},
   "source": [
    "#### Import libraries"
   ]
  },
  {
   "cell_type": "code",
   "execution_count": null,
   "metadata": {},
   "outputs": [],
   "source": []
  },
  {
   "cell_type": "markdown",
   "metadata": {},
   "source": [
    "### Ensemble: Weighted average of Model 1 and Model 2"
   ]
  },
  {
   "cell_type": "code",
   "execution_count": null,
   "metadata": {},
   "outputs": [],
   "source": []
  }
 ],
 "metadata": {
  "kernelspec": {
   "display_name": "Python 3",
   "language": "python",
   "name": "python3"
  },
  "language_info": {
   "codemirror_mode": {
    "name": "ipython",
    "version": 3
   },
   "file_extension": ".py",
   "mimetype": "text/x-python",
   "name": "python",
   "nbconvert_exporter": "python",
   "pygments_lexer": "ipython3",
   "version": "3.9.7"
  }
 },
 "nbformat": 4,
 "nbformat_minor": 2
}
