{
 "cells": [
  {
   "cell_type": "code",
   "execution_count": 1,
   "id": "24387533-7600-4121-8749-e77256deba4c",
   "metadata": {},
   "outputs": [],
   "source": [
    "import pandas as pd\n",
    "import numpy as np\n",
    "from sklearn.neighbors import NearestNeighbors\n",
    "\n",
    "# Load the data\n",
    "ais_train = pd.read_csv('ais_train.csv', sep='|')\n",
    "ports_df = pd.read_csv('ports.csv', sep='|')"
   ]
  },
  {
   "cell_type": "code",
   "execution_count": 2,
   "id": "c850b5a5-3eb0-49be-b0b4-6b160724b8b3",
   "metadata": {},
   "outputs": [],
   "source": [
    "# Ensure columns are of the correct type\n",
    "ais_train['latitude'] = ais_train['latitude'].astype(float)\n",
    "ais_train['longitude'] = ais_train['longitude'].astype(float)\n",
    "ports_df['latitude'] = ports_df['latitude'].astype(float)\n",
    "ports_df['longitude'] = ports_df['longitude'].astype(float)\n",
    "\n",
    "# Prepare the coordinates for nearest neighbors\n",
    "ais_coords = ais_train[['latitude', 'longitude']].values\n",
    "ports_coords = ports_df[['latitude', 'longitude']].values"
   ]
  },
  {
   "cell_type": "code",
   "execution_count": 3,
   "id": "b1a817b0-2daf-49d7-a558-ff7b2f2992de",
   "metadata": {},
   "outputs": [],
   "source": [
    "# Initialize the Nearest Neighbors model\n",
    "nbrs = NearestNeighbors(n_neighbors=1, algorithm='ball_tree').fit(ports_coords)\n",
    "\n",
    "# Find the nearest port for each entry in ais_train\n",
    "distances, indices = nbrs.kneighbors(ais_coords)"
   ]
  },
  {
   "cell_type": "code",
   "execution_count": 9,
   "id": "64aa558e-5e05-4258-ae53-a041d2c52146",
   "metadata": {
    "tags": []
   },
   "outputs": [],
   "source": [
    "pd.set_option('display.width', 20000)"
   ]
  },
  {
   "cell_type": "code",
   "execution_count": 11,
   "id": "52456968-8e34-4f41-8b22-04280b04608a",
   "metadata": {
    "tags": []
   },
   "outputs": [],
   "source": [
    "# Create a temporary dataset with all columns from ais_train and add the closest port ID\n",
    "temp_ais_train = ais_train.copy()\n",
    "temp_ais_train['closest_portId'] = ports_df['portId'].iloc[indices.flatten()].values\n",
    "\n",
    "\n",
    "# Get the longitude and latitude of the closest port by merging\n",
    "closest_ports = ports_df[['portId', 'longitude', 'latitude']]\n",
    "closest_ports.columns = ['closest_portId', 'portLongitude', 'portLatitude']\n",
    "\n",
    "# Merge to get the longitude and latitude of the nearest port\n",
    "temp_ais_train = temp_ais_train.merge(closest_ports, on='closest_portId', how='left')"
   ]
  },
  {
   "cell_type": "code",
   "execution_count": 12,
   "id": "12b98d9e-8938-42f5-b57e-c1c18f370182",
   "metadata": {
    "tags": []
   },
   "outputs": [
    {
     "name": "stdout",
     "output_type": "stream",
     "text": [
      "                        time    cog   sog  rot  heading  navstat       etaRaw  latitude  longitude                   vesselId                    portId            closest_portId  closest_distance  portLongitude  portLatitude\n",
      "0        2024-01-01 00:00:25  284.0   0.7    0       88        0  01-09 23:00 -34.74370  -57.85130   61e9f3a8b937134a3c4bfdf7  61d371c43aeaecc07011a37f  61d36f150a1807568ff9a0ad          0.119529     -57.894167    -34.855278\n",
      "1        2024-01-01 00:00:36  109.6   0.0   -6      347        1  12-29 20:00   8.89440  -79.47939   61e9f3d4b937134a3c4bff1f  634c4de270937fc01c3a7689  634c4de270937fc01c3a7689          0.090249     -79.533000      8.967000\n",
      "2        2024-01-01 00:01:45  111.0  11.0    0      112        0  01-02 09:00  39.19065  -76.47567   61e9f436b937134a3c4c0131  61d3847bb7b7526e1adf3d19  61d3847bb7b7526e1adf3d19          0.093149     -76.558889     39.232500\n",
      "3        2024-01-01 00:03:11   96.4   0.0    0      142        1  12-31 20:00 -34.41189  151.02067   61e9f3b4b937134a3c4bfe77  61d36f770a1807568ff9a126  61d36f770a1807568ff9a126          0.131366     150.899444    -34.462500\n",
      "4        2024-01-01 00:03:51  214.0  19.7    0      215        0  01-25 12:00  35.88379   -5.91636   61e9f41bb937134a3c4c0087  634c4de270937fc01c3a74f3  634c4de270937fc01c3a74f3          0.141531      -5.817000     35.783000\n",
      "...                      ...    ...   ...  ...      ...      ...          ...       ...        ...                        ...                       ...                       ...               ...            ...           ...\n",
      "1522060  2024-05-07 23:59:07  359.1  13.4    0        1        0  05-08 05:00  52.19131   -5.82223  clh6aqawa0002gh0zypfa5dut  634c4de270937fc01c3a7417  61d3778593c6feb83e5eb648          1.216410      -6.209444     53.344444\n",
      "1522061  2024-05-07 23:59:08   12.3  17.1    0       13        0  05-10 03:00  38.96142  -12.00502   61e9f3aeb937134a3c4bfe43  634c4de270937fc01c3a76a1  634c4de270937fc01c3a76a1          2.601190      -9.417000     38.700000\n",
      "1522062  2024-05-07 23:59:08  269.8  14.9   -1      270        0  05-15 23:00  49.71372   -5.22042   61e9f43db937134a3c4c0169  634c4de270937fc01c3a787b  634c4de270937fc01c3a787b          0.381701      -5.317000     50.083000\n",
      "1522063  2024-05-07 23:59:08    8.0  18.7    0        6        0  05-08 12:45  38.27895   10.78280   61e9f469b937134a3c4c029b  61d3781293c6feb83e5eb73b  634c4de270937fc01c3a7455          1.578197      12.333000     37.983000\n",
      "1522064  2024-05-07 23:59:08  336.0  14.3    5      337        0  05-07 23:00  38.98635  -75.13275   62080cff66fc0a8e43c6123a  61d38528b7b7526e1adf3e6f  61d38528b7b7526e1adf3e6f          0.827417     -75.521667     39.716667\n",
      "\n",
      "[1522065 rows x 15 columns]\n"
     ]
    }
   ],
   "source": [
    "# Verify the temporary dataset\n",
    "print(temp_ais_train)"
   ]
  }
 ],
 "metadata": {
  "kernelspec": {
   "display_name": "Python 3 (ipykernel)",
   "language": "python",
   "name": "micromamba-base-py"
  },
  "language_info": {
   "codemirror_mode": {
    "name": "ipython",
    "version": 3
   },
   "file_extension": ".py",
   "mimetype": "text/x-python",
   "name": "python",
   "nbconvert_exporter": "python",
   "pygments_lexer": "ipython3",
   "version": "3.10.15"
  }
 },
 "nbformat": 4,
 "nbformat_minor": 5
}
